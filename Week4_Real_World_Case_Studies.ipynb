{
 "cells": [
  {
   "cell_type": "markdown",
   "metadata": {
    "nbpresent": {
     "id": "09c85bab-64bd-4b4b-b8fb-31159fe7ca37"
    },
    "slideshow": {
     "slide_type": "slide"
    }
   },
   "source": [
    "# Week 4 - Data Science in the Real World\n",
    "## <font color='#1A9FFF'>Workshop Outline</font>\n",
    "<ul>\n",
    "    <li>What to consider for a real world data science project</li>\n",
    "    <li>Case study: conversion rate analysis</li>\n",
    "</ul>"
   ]
  },
  {
   "cell_type": "markdown",
   "metadata": {
    "slideshow": {
     "slide_type": "subslide"
    }
   },
   "source": [
    "## <font color='#1A9FFF'>What to consider for a real world data science project?</font>\n",
    "Things to keep in mind while doing a real world data science project:\n",
    "\n",
    "**Understand business goals** - Always understand the business goals first. Your work will depend on the goals and the overall result is good only if you got them all correctly.\n",
    "\n",
    "**Understand the data** - Always check with the data owner and business expert what the data represents. Don't make assumptions, just ask for clarification. \n",
    "\n",
    "**Check the data** - Never assume data is right. Always check data reliability and, if you find that some data doesn't make sense, clean it. \n",
    "\n",
    "** Build prototypes fast, then iterate** - Don't aim for the perfect model at first, build a prototype fast, present to the users to get feedback, and then improve it. \n",
    "\n",
    "** Don't make the solution over complicated** - You need to present the result to stakeholders who are highly likely to be non-technical. \n",
    "\n",
    "** Make sure your finding is actionable** - Focus on the business impact that your work could have. How would the company benefit from your analysis? How can your work generate actionable insights? What would you suggest as a next step?"
   ]
  },
  {
   "cell_type": "markdown",
   "metadata": {
    "slideshow": {
     "slide_type": "slide"
    }
   },
   "source": [
    "## <font color='#1A9FFF'>Case study: Conversion Rate Analysis</font>\n",
    "The conversion rate is the percentage of users who take a desired action, for example, buy a product, complete a survey or give a like on Facebook. Optimizing conversion rate is a very common work of a data scientist. \n",
    "\n",
    "We have data about users who visit a website: \n",
    "* Whether they converted or not \n",
    "* Some of their characteristics such as:\n",
    "    * their country\n",
    "    * their age\n",
    "    * whether they are repeat users\n",
    "    * marketing channel\n",
    "    * the number of pages visited during that session (as a proxy for site activity/time spent on site).\n",
    "\n",
    "**(Business goal)** The project is to:\n",
    "* Analyse the conversion rate of different customer segments\n",
    "* Come up with recommendations for the product team and the marketing team to improve the conversion rate. "
   ]
  },
  {
   "cell_type": "code",
   "execution_count": 3,
   "metadata": {
    "nbpresent": {
     "id": "30248960-5166-415a-a908-d6d4e3a23434"
    },
    "slideshow": {
     "slide_type": "subslide"
    }
   },
   "outputs": [
    {
     "name": "stderr",
     "output_type": "stream",
     "text": [
      "\n",
      "Attaching package: 'dplyr'\n",
      "\n",
      "The following objects are masked from 'package:stats':\n",
      "\n",
      "    filter, lag\n",
      "\n",
      "The following objects are masked from 'package:base':\n",
      "\n",
      "    intersect, setdiff, setequal, union\n",
      "\n",
      "Warning message:\n",
      "\"package 'ggplot2' was built under R version 3.4.3\""
     ]
    }
   ],
   "source": [
    "library(dplyr) # import dplyr package for data wrangling \n",
    "library(ggplot2) # import ggplot2 package for plotting\n",
    "\n",
    "library(repr) # import repr package to change plotting size\n",
    "options(repr.plot.width=4, repr.plot.height=3) # Change plot size to 4 x 3\n",
    "\n",
    "data <- read.csv(\"datasets/conversion_data.csv\") # read data"
   ]
  },
  {
   "cell_type": "markdown",
   "metadata": {
    "nbpresent": {
     "id": "b105392f-323d-4751-9609-54bd0325f0e1"
    },
    "slideshow": {
     "slide_type": "slide"
    }
   },
   "source": [
    "### Data Structure \n",
    "After reading in the data, we first do some simple exploration, check available columns, data structure, and data summary."
   ]
  },
  {
   "cell_type": "code",
   "execution_count": 4,
   "metadata": {
    "nbpresent": {
     "id": "6fa8daa0-5a50-49aa-b02f-3d2eb667cfd8"
    },
    "scrolled": false,
    "slideshow": {
     "slide_type": "subslide"
    }
   },
   "outputs": [
    {
     "data": {
      "text/html": [
       "<table>\n",
       "<thead><tr><th scope=col>country</th><th scope=col>age</th><th scope=col>new_user</th><th scope=col>source</th><th scope=col>total_pages_visited</th><th scope=col>converted</th></tr></thead>\n",
       "<tbody>\n",
       "\t<tr><td>UK   </td><td>25   </td><td>1    </td><td>Ads  </td><td>1    </td><td>0    </td></tr>\n",
       "\t<tr><td>US   </td><td>23   </td><td>1    </td><td>Seo  </td><td>5    </td><td>0    </td></tr>\n",
       "\t<tr><td>US   </td><td>28   </td><td>1    </td><td>Seo  </td><td>4    </td><td>0    </td></tr>\n",
       "\t<tr><td>China</td><td>39   </td><td>1    </td><td>Seo  </td><td>5    </td><td>0    </td></tr>\n",
       "\t<tr><td>US   </td><td>30   </td><td>1    </td><td>Seo  </td><td>6    </td><td>0    </td></tr>\n",
       "\t<tr><td>US   </td><td>31   </td><td>0    </td><td>Seo  </td><td>1    </td><td>0    </td></tr>\n",
       "</tbody>\n",
       "</table>\n"
      ],
      "text/latex": [
       "\\begin{tabular}{r|llllll}\n",
       " country & age & new\\_user & source & total\\_pages\\_visited & converted\\\\\n",
       "\\hline\n",
       "\t UK    & 25    & 1     & Ads   & 1     & 0    \\\\\n",
       "\t US    & 23    & 1     & Seo   & 5     & 0    \\\\\n",
       "\t US    & 28    & 1     & Seo   & 4     & 0    \\\\\n",
       "\t China & 39    & 1     & Seo   & 5     & 0    \\\\\n",
       "\t US    & 30    & 1     & Seo   & 6     & 0    \\\\\n",
       "\t US    & 31    & 0     & Seo   & 1     & 0    \\\\\n",
       "\\end{tabular}\n"
      ],
      "text/markdown": [
       "\n",
       "country | age | new_user | source | total_pages_visited | converted | \n",
       "|---|---|---|---|---|---|\n",
       "| UK    | 25    | 1     | Ads   | 1     | 0     | \n",
       "| US    | 23    | 1     | Seo   | 5     | 0     | \n",
       "| US    | 28    | 1     | Seo   | 4     | 0     | \n",
       "| China | 39    | 1     | Seo   | 5     | 0     | \n",
       "| US    | 30    | 1     | Seo   | 6     | 0     | \n",
       "| US    | 31    | 0     | Seo   | 1     | 0     | \n",
       "\n",
       "\n"
      ],
      "text/plain": [
       "  country age new_user source total_pages_visited converted\n",
       "1 UK      25  1        Ads    1                   0        \n",
       "2 US      23  1        Seo    5                   0        \n",
       "3 US      28  1        Seo    4                   0        \n",
       "4 China   39  1        Seo    5                   0        \n",
       "5 US      30  1        Seo    6                   0        \n",
       "6 US      31  0        Seo    1                   0        "
      ]
     },
     "metadata": {},
     "output_type": "display_data"
    }
   ],
   "source": [
    "head(data) # take a look at the first 6 rows"
   ]
  },
  {
   "cell_type": "code",
   "execution_count": 5,
   "metadata": {
    "nbpresent": {
     "id": "e154db37-0823-4b9c-9e33-6e3e45067c23"
    },
    "slideshow": {
     "slide_type": "skip"
    }
   },
   "outputs": [
    {
     "data": {
      "text/html": [
       "<table>\n",
       "<thead><tr><th></th><th scope=col>country</th><th scope=col>age</th><th scope=col>new_user</th><th scope=col>source</th><th scope=col>total_pages_visited</th><th scope=col>converted</th></tr></thead>\n",
       "<tbody>\n",
       "\t<tr><th scope=row>316195</th><td>UK    </td><td>28    </td><td>0     </td><td>Seo   </td><td>8     </td><td>0     </td></tr>\n",
       "\t<tr><th scope=row>316196</th><td>US    </td><td>26    </td><td>1     </td><td>Ads   </td><td>9     </td><td>0     </td></tr>\n",
       "\t<tr><th scope=row>316197</th><td>US    </td><td>27    </td><td>1     </td><td>Direct</td><td>6     </td><td>0     </td></tr>\n",
       "\t<tr><th scope=row>316198</th><td>China </td><td>25    </td><td>0     </td><td>Ads   </td><td>4     </td><td>0     </td></tr>\n",
       "\t<tr><th scope=row>316199</th><td>US    </td><td>22    </td><td>0     </td><td>Seo   </td><td>4     </td><td>0     </td></tr>\n",
       "\t<tr><th scope=row>316200</th><td>UK    </td><td>24    </td><td>0     </td><td>Ads   </td><td>4     </td><td>0     </td></tr>\n",
       "</tbody>\n",
       "</table>\n"
      ],
      "text/latex": [
       "\\begin{tabular}{r|llllll}\n",
       "  & country & age & new\\_user & source & total\\_pages\\_visited & converted\\\\\n",
       "\\hline\n",
       "\t316195 & UK     & 28     & 0      & Seo    & 8      & 0     \\\\\n",
       "\t316196 & US     & 26     & 1      & Ads    & 9      & 0     \\\\\n",
       "\t316197 & US     & 27     & 1      & Direct & 6      & 0     \\\\\n",
       "\t316198 & China  & 25     & 0      & Ads    & 4      & 0     \\\\\n",
       "\t316199 & US     & 22     & 0      & Seo    & 4      & 0     \\\\\n",
       "\t316200 & UK     & 24     & 0      & Ads    & 4      & 0     \\\\\n",
       "\\end{tabular}\n"
      ],
      "text/markdown": [
       "\n",
       "| <!--/--> | country | age | new_user | source | total_pages_visited | converted | \n",
       "|---|---|---|---|---|---|\n",
       "| 316195 | UK     | 28     | 0      | Seo    | 8      | 0      | \n",
       "| 316196 | US     | 26     | 1      | Ads    | 9      | 0      | \n",
       "| 316197 | US     | 27     | 1      | Direct | 6      | 0      | \n",
       "| 316198 | China  | 25     | 0      | Ads    | 4      | 0      | \n",
       "| 316199 | US     | 22     | 0      | Seo    | 4      | 0      | \n",
       "| 316200 | UK     | 24     | 0      | Ads    | 4      | 0      | \n",
       "\n",
       "\n"
      ],
      "text/plain": [
       "       country age new_user source total_pages_visited converted\n",
       "316195 UK      28  0        Seo    8                   0        \n",
       "316196 US      26  1        Ads    9                   0        \n",
       "316197 US      27  1        Direct 6                   0        \n",
       "316198 China   25  0        Ads    4                   0        \n",
       "316199 US      22  0        Seo    4                   0        \n",
       "316200 UK      24  0        Ads    4                   0        "
      ]
     },
     "metadata": {},
     "output_type": "display_data"
    }
   ],
   "source": [
    "tail(data) # take a look at the last 5 rows "
   ]
  },
  {
   "cell_type": "code",
   "execution_count": 6,
   "metadata": {
    "nbpresent": {
     "id": "8286f07a-5e70-4423-a3f0-bd54f49f8cd4"
    },
    "scrolled": false,
    "slideshow": {
     "slide_type": "fragment"
    }
   },
   "outputs": [
    {
     "name": "stdout",
     "output_type": "stream",
     "text": [
      "'data.frame':\t316200 obs. of  6 variables:\n",
      " $ country            : Factor w/ 4 levels \"China\",\"Germany\",..: 3 4 4 1 4 4 1 4 3 4 ...\n",
      " $ age                : int  25 23 28 39 30 31 27 23 29 25 ...\n",
      " $ new_user           : int  1 1 1 1 1 0 1 0 0 0 ...\n",
      " $ source             : Factor w/ 3 levels \"Ads\",\"Direct\",..: 1 3 3 3 3 3 3 1 2 1 ...\n",
      " $ total_pages_visited: int  1 5 4 5 6 1 4 4 4 2 ...\n",
      " $ converted          : int  0 0 0 0 0 0 0 0 0 0 ...\n"
     ]
    }
   ],
   "source": [
    "str(data) # data structure "
   ]
  },
  {
   "cell_type": "markdown",
   "metadata": {
    "slideshow": {
     "slide_type": "fragment"
    }
   },
   "source": [
    "What patterns from this data stand out to you?"
   ]
  },
  {
   "cell_type": "code",
   "execution_count": 7,
   "metadata": {
    "nbpresent": {
     "id": "e6065c64-81a1-48ab-89ae-230b5462d7c2"
    },
    "scrolled": true,
    "slideshow": {
     "slide_type": "subslide"
    }
   },
   "outputs": [
    {
     "data": {
      "text/plain": [
       "    country            age            new_user         source      \n",
       " China  : 76602   Min.   : 17.00   Min.   :0.0000   Ads   : 88740  \n",
       " Germany: 13056   1st Qu.: 24.00   1st Qu.:0.0000   Direct: 72420  \n",
       " UK     : 48450   Median : 30.00   Median :1.0000   Seo   :155040  \n",
       " US     :178092   Mean   : 30.57   Mean   :0.6855                  \n",
       "                  3rd Qu.: 36.00   3rd Qu.:1.0000                  \n",
       "                  Max.   :123.00   Max.   :1.0000                  \n",
       " total_pages_visited   converted      \n",
       " Min.   : 1.000      Min.   :0.00000  \n",
       " 1st Qu.: 2.000      1st Qu.:0.00000  \n",
       " Median : 4.000      Median :0.00000  \n",
       " Mean   : 4.873      Mean   :0.03226  \n",
       " 3rd Qu.: 7.000      3rd Qu.:0.00000  \n",
       " Max.   :29.000      Max.   :1.00000  "
      ]
     },
     "metadata": {},
     "output_type": "display_data"
    }
   ],
   "source": [
    "summary(data) # data summary"
   ]
  },
  {
   "cell_type": "markdown",
   "metadata": {
    "slideshow": {
     "slide_type": "slide"
    }
   },
   "source": [
    "### Data Dictionary\n",
    "<font color='#1A9FFF'>**Note:**</font> A dataset is usually attached with a data dictionary that describes the attributes. It's always good to ask for this metadata file to get better understanding of each attribute especially its values and measurement units. For example, *cm, mm, m* make a huge difference!\n",
    "* **country**: user country based on the IP address\n",
    "* **age** : user age. Self-reported at sign-in step\n",
    "* **new_user**: whether the user is a new user to the site\n",
    "* **source**: marketing channel source \n",
    "    - Ads: came to the site by clicking on an advertisement\n",
    "    - Seo: came to the site by clicking on search results\n",
    "    - Direct: came to the site by directly typing the URL on the browser\n",
    "* **total_pages_visited**: number of total pages visited during the session. This is a proxy for time spent on site and engagement during the session.\n",
    "* **converted:**: 1 means they converted within the session, 0 means they left without buying anything"
   ]
  },
  {
   "cell_type": "markdown",
   "metadata": {
    "slideshow": {
     "slide_type": "subslide"
    }
   },
   "source": [
    "### Check the data\n",
    "In practice, raw data collected from the real world can contain a lot of noise. To name a few:\n",
    "+ irregular date/time format: *01/03/2002, 2002 Mar 1*\n",
    "+ non-uniform measurement units\n",
    "+ spelling mistakes etc.\n",
    "\n",
    "The datasets in this workshop and most of the public datasets are mostly cleaned in a way that these inconsistencies are minimized and all there's left to do is data wrangling into a form that is convenient for interpretation. However, this does not guarantee that such uncleaned datapoints are totally absent!\n",
    "\n",
    "An important step in data analysis is to check for such data points. This requires some plotting/wrangling and an observant eye."
   ]
  },
  {
   "cell_type": "markdown",
   "metadata": {
    "slideshow": {
     "slide_type": "slide"
    }
   },
   "source": [
    "Question: As a first step, we can take a look at the unique age "
   ]
  },
  {
   "cell_type": "code",
   "execution_count": 8,
   "metadata": {
    "slideshow": {
     "slide_type": "fragment"
    }
   },
   "outputs": [
    {
     "data": {
      "text/html": [
       "<table>\n",
       "<thead><tr><th scope=col>age</th></tr></thead>\n",
       "<tbody>\n",
       "\t<tr><td>123</td></tr>\n",
       "\t<tr><td>111</td></tr>\n",
       "\t<tr><td> 79</td></tr>\n",
       "\t<tr><td> 77</td></tr>\n",
       "\t<tr><td> 73</td></tr>\n",
       "\t<tr><td> 72</td></tr>\n",
       "\t<tr><td> 70</td></tr>\n",
       "\t<tr><td> 69</td></tr>\n",
       "\t<tr><td> 68</td></tr>\n",
       "\t<tr><td> 67</td></tr>\n",
       "</tbody>\n",
       "</table>\n"
      ],
      "text/latex": [
       "\\begin{tabular}{r|l}\n",
       " age\\\\\n",
       "\\hline\n",
       "\t 123\\\\\n",
       "\t 111\\\\\n",
       "\t  79\\\\\n",
       "\t  77\\\\\n",
       "\t  73\\\\\n",
       "\t  72\\\\\n",
       "\t  70\\\\\n",
       "\t  69\\\\\n",
       "\t  68\\\\\n",
       "\t  67\\\\\n",
       "\\end{tabular}\n"
      ],
      "text/markdown": [
       "\n",
       "age | \n",
       "|---|---|---|---|---|---|---|---|---|---|\n",
       "| 123 | \n",
       "| 111 | \n",
       "|  79 | \n",
       "|  77 | \n",
       "|  73 | \n",
       "|  72 | \n",
       "|  70 | \n",
       "|  69 | \n",
       "|  68 | \n",
       "|  67 | \n",
       "\n",
       "\n"
      ],
      "text/plain": [
       "   age\n",
       "1  123\n",
       "2  111\n",
       "3   79\n",
       "4   77\n",
       "5   73\n",
       "6   72\n",
       "7   70\n",
       "8   69\n",
       "9   68\n",
       "10  67"
      ]
     },
     "metadata": {},
     "output_type": "display_data"
    }
   ],
   "source": [
    "data %>% \n",
    "    select(age) %>%\n",
    "    distinct() %>%\n",
    "    arrange(desc(age)) %>%\n",
    "    head(10)"
   ]
  },
  {
   "cell_type": "markdown",
   "metadata": {
    "slideshow": {
     "slide_type": "subslide"
    }
   },
   "source": [
    "Age 123 and 111 seem unrealistic. How many user are there with unrealistic age:"
   ]
  },
  {
   "cell_type": "code",
   "execution_count": 9,
   "metadata": {
    "scrolled": true,
    "slideshow": {
     "slide_type": "fragment"
    }
   },
   "outputs": [
    {
     "data": {
      "text/html": [
       "<table>\n",
       "<thead><tr><th scope=col>country</th><th scope=col>age</th><th scope=col>new_user</th><th scope=col>source</th><th scope=col>total_pages_visited</th><th scope=col>converted</th></tr></thead>\n",
       "<tbody>\n",
       "\t<tr><td>Germany</td><td>123    </td><td>0      </td><td>Seo    </td><td>15     </td><td>1      </td></tr>\n",
       "\t<tr><td>UK     </td><td>111    </td><td>0      </td><td>Ads    </td><td>10     </td><td>1      </td></tr>\n",
       "</tbody>\n",
       "</table>\n"
      ],
      "text/latex": [
       "\\begin{tabular}{r|llllll}\n",
       " country & age & new\\_user & source & total\\_pages\\_visited & converted\\\\\n",
       "\\hline\n",
       "\t Germany & 123     & 0       & Seo     & 15      & 1      \\\\\n",
       "\t UK      & 111     & 0       & Ads     & 10      & 1      \\\\\n",
       "\\end{tabular}\n"
      ],
      "text/markdown": [
       "\n",
       "country | age | new_user | source | total_pages_visited | converted | \n",
       "|---|---|\n",
       "| Germany | 123     | 0       | Seo     | 15      | 1       | \n",
       "| UK      | 111     | 0       | Ads     | 10      | 1       | \n",
       "\n",
       "\n"
      ],
      "text/plain": [
       "  country age new_user source total_pages_visited converted\n",
       "1 Germany 123 0        Seo    15                  1        \n",
       "2 UK      111 0        Ads    10                  1        "
      ]
     },
     "metadata": {},
     "output_type": "display_data"
    }
   ],
   "source": [
    "data %>% filter(age > 79)"
   ]
  },
  {
   "cell_type": "markdown",
   "metadata": {
    "slideshow": {
     "slide_type": "fragment"
    }
   },
   "source": [
    "There are only 2 customers. In this case, it's not a big issue and we can safely removing them. In general, depending on the problem, you can:\n",
    "* remove rows with questionable data\n",
    "* replace those values with NAs\n",
    "* understand why if there is a pattern "
   ]
  },
  {
   "cell_type": "code",
   "execution_count": 10,
   "metadata": {
    "slideshow": {
     "slide_type": "fragment"
    }
   },
   "outputs": [],
   "source": [
    "data <- data %>% filter(age <= 79) # remove two rows with unrealistic age values"
   ]
  },
  {
   "cell_type": "markdown",
   "metadata": {
    "slideshow": {
     "slide_type": "slide"
    }
   },
   "source": [
    "### Data observations\n",
    "\n",
    "You should also dive in deeper to understand the groups within the data and notice anything strange or interesting."
   ]
  },
  {
   "cell_type": "code",
   "execution_count": 11,
   "metadata": {
    "slideshow": {
     "slide_type": "subslide"
    }
   },
   "outputs": [
    {
     "data": {
      "text/html": [
       "<table>\n",
       "<thead><tr><th scope=col>country</th><th scope=col>Count</th></tr></thead>\n",
       "<tbody>\n",
       "\t<tr><td>US     </td><td>178092 </td></tr>\n",
       "\t<tr><td>China  </td><td> 76602 </td></tr>\n",
       "\t<tr><td>UK     </td><td> 48449 </td></tr>\n",
       "\t<tr><td>Germany</td><td> 13055 </td></tr>\n",
       "</tbody>\n",
       "</table>\n"
      ],
      "text/latex": [
       "\\begin{tabular}{r|ll}\n",
       " country & Count\\\\\n",
       "\\hline\n",
       "\t US      & 178092 \\\\\n",
       "\t China   &  76602 \\\\\n",
       "\t UK      &  48449 \\\\\n",
       "\t Germany &  13055 \\\\\n",
       "\\end{tabular}\n"
      ],
      "text/markdown": [
       "\n",
       "country | Count | \n",
       "|---|---|---|---|\n",
       "| US      | 178092  | \n",
       "| China   |  76602  | \n",
       "| UK      |  48449  | \n",
       "| Germany |  13055  | \n",
       "\n",
       "\n"
      ],
      "text/plain": [
       "  country Count \n",
       "1 US      178092\n",
       "2 China    76602\n",
       "3 UK       48449\n",
       "4 Germany  13055"
      ]
     },
     "metadata": {},
     "output_type": "display_data"
    }
   ],
   "source": [
    "data %>% \n",
    "    group_by(country) %>% \n",
    "    summarise(Count = n()) %>%\n",
    "    arrange(desc(Count))"
   ]
  },
  {
   "cell_type": "markdown",
   "metadata": {
    "slideshow": {
     "slide_type": "fragment"
    }
   },
   "source": [
    "**Observation**: this site is probably a US site, although it does have a large Chinese user base as well."
   ]
  },
  {
   "cell_type": "code",
   "execution_count": 12,
   "metadata": {
    "scrolled": false,
    "slideshow": {
     "slide_type": "subslide"
    }
   },
   "outputs": [
    {
     "name": "stdout",
     "output_type": "stream",
     "text": [
      "   Min. 1st Qu.  Median    Mean 3rd Qu.    Max. \n",
      "  17.00   24.00   30.00   30.57   36.00   79.00 \n"
     ]
    },
    {
     "data": {},
     "metadata": {},
     "output_type": "display_data"
    },
    {
     "data": {
      "image/png": "[encoded data removed]",
      "text/plain": [
       "plot without title"
      ]
     },
     "metadata": {},
     "output_type": "display_data"
    }
   ],
   "source": [
    "summary(data$age) %>% print()\n",
    "\n",
    "age_count <- data %>% \n",
    "    group_by(age) %>% \n",
    "    summarise(Count = n()) \n",
    "\n",
    "ggplot(age_count, aes(y = Count, x = age)) +\n",
    "    geom_bar(stat = \"identity\")\n",
    "    "
   ]
  },
  {
   "cell_type": "markdown",
   "metadata": {
    "slideshow": {
     "slide_type": "fragment"
    }
   },
   "source": [
    "**Observation**: the user base of this site is pretty young, centered around age 30. "
   ]
  },
  {
   "cell_type": "code",
   "execution_count": 13,
   "metadata": {
    "scrolled": true,
    "slideshow": {
     "slide_type": "subslide"
    }
   },
   "outputs": [
    {
     "data": {
      "text/html": [
       "<table>\n",
       "<thead><tr><th scope=col>source</th><th scope=col>Count</th><th scope=col>Percent</th></tr></thead>\n",
       "<tbody>\n",
       "\t<tr><td>Seo     </td><td>155039  </td><td>49.03225</td></tr>\n",
       "\t<tr><td>Ads     </td><td> 88739  </td><td>28.06438</td></tr>\n",
       "\t<tr><td>Direct  </td><td> 72420  </td><td>22.90337</td></tr>\n",
       "</tbody>\n",
       "</table>\n"
      ],
      "text/latex": [
       "\\begin{tabular}{r|lll}\n",
       " source & Count & Percent\\\\\n",
       "\\hline\n",
       "\t Seo      & 155039   & 49.03225\\\\\n",
       "\t Ads      &  88739   & 28.06438\\\\\n",
       "\t Direct   &  72420   & 22.90337\\\\\n",
       "\\end{tabular}\n"
      ],
      "text/markdown": [
       "\n",
       "source | Count | Percent | \n",
       "|---|---|---|\n",
       "| Seo      | 155039   | 49.03225 | \n",
       "| Ads      |  88739   | 28.06438 | \n",
       "| Direct   |  72420   | 22.90337 | \n",
       "\n",
       "\n"
      ],
      "text/plain": [
       "  source Count  Percent \n",
       "1 Seo    155039 49.03225\n",
       "2 Ads     88739 28.06438\n",
       "3 Direct  72420 22.90337"
      ]
     },
     "metadata": {},
     "output_type": "display_data"
    }
   ],
   "source": [
    "data %>% \n",
    "    group_by(source) %>%\n",
    "    summarise(Count = n()) %>%\n",
    "    mutate(Percent = Count / sum(Count) * 100) %>%\n",
    "    arrange(desc(Count))"
   ]
  },
  {
   "cell_type": "markdown",
   "metadata": {
    "slideshow": {
     "slide_type": "fragment"
    }
   },
   "source": [
    "**Observation**: nearly half of the customers came to the site by clicking search result. "
   ]
  },
  {
   "cell_type": "markdown",
   "metadata": {
    "slideshow": {
     "slide_type": "slide"
    }
   },
   "source": [
    "### Exploratory Data Analysis\n",
    "\n",
    ">** Build prototypes fast, then iterate**\n",
    ">\n",
    ">Don't aim for the perfect model at first, build a prototype fast, present to the users to get feedback, and then improve it. \n",
    "\n",
    "This phase is where you uncover trends in the data by asking yourself interesting questions and answering them with creative summaries of data or plots. These plots will help you identify certain trends that achieves a business solution."
   ]
  },
  {
   "cell_type": "markdown",
   "metadata": {
    "slideshow": {
     "slide_type": "slide"
    }
   },
   "source": [
    "Q: How is the conversion rate per country?"
   ]
  },
  {
   "cell_type": "code",
   "execution_count": 14,
   "metadata": {
    "slideshow": {
     "slide_type": "subslide"
    }
   },
   "outputs": [
    {
     "data": {},
     "metadata": {},
     "output_type": "display_data"
    },
    {
     "data": {
      "image/png": "[encoded data removed]",
      "text/plain": [
       "plot without title"
      ]
     },
     "metadata": {},
     "output_type": "display_data"
    }
   ],
   "source": [
    "conversion_country <- data %>%\n",
    "    group_by(country) %>%\n",
    "    summarise(Conversion_Rate = mean(converted))\n",
    "\n",
    "ggplot(conversion_country, aes(y = Conversion_Rate, x = country, fill = country)) + geom_bar(stat = \"identity\")"
   ]
  },
  {
   "cell_type": "markdown",
   "metadata": {
    "slideshow": {
     "slide_type": "fragment"
    }
   },
   "source": [
    "Here it clearly looks like Chinese convert at a much lower rate than other countries, while Germany is the best."
   ]
  },
  {
   "cell_type": "markdown",
   "metadata": {
    "slideshow": {
     "slide_type": "slide"
    }
   },
   "source": [
    "Q: How is conversion rate affected by customer age?"
   ]
  },
  {
   "cell_type": "code",
   "execution_count": 15,
   "metadata": {
    "scrolled": false,
    "slideshow": {
     "slide_type": "subslide"
    }
   },
   "outputs": [
    {
     "data": {},
     "metadata": {},
     "output_type": "display_data"
    },
    {
     "data": {
      "image/png": "[encoded data removed]",
      "text/plain": [
       "plot without title"
      ]
     },
     "metadata": {},
     "output_type": "display_data"
    }
   ],
   "source": [
    "conversion_age <- data %>%\n",
    "    group_by(age) %>%\n",
    "    summarise(Conversion_Rate = mean(converted))\n",
    "\n",
    "ggplot(conversion_age, aes(y = Conversion_Rate, x = age)) +\n",
    "    geom_line()"
   ]
  },
  {
   "cell_type": "markdown",
   "metadata": {
    "slideshow": {
     "slide_type": "fragment"
    }
   },
   "source": [
    "We can see that this site works very well for young people and bad for less young people."
   ]
  },
  {
   "cell_type": "markdown",
   "metadata": {
    "slideshow": {
     "slide_type": "slide"
    }
   },
   "source": [
    "Q: Among the paying customers, how many of them just signed up?"
   ]
  },
  {
   "cell_type": "code",
   "execution_count": 16,
   "metadata": {
    "slideshow": {
     "slide_type": "subslide"
    }
   },
   "outputs": [
    {
     "data": {},
     "metadata": {},
     "output_type": "display_data"
    },
    {
     "data": {
      "image/png": "[encoded data removed]",
      "text/plain": [
       "plot without title"
      ]
     },
     "metadata": {},
     "output_type": "display_data"
    }
   ],
   "source": [
    "conversion_new_user <- data %>%\n",
    "    mutate(new_user = as.factor(new_user)) %>%\n",
    "    group_by(new_user) %>%\n",
    "    summarise(Conversion_Rate = mean(converted))\n",
    "\n",
    "ggplot(conversion_new_user, aes(y = Conversion_Rate, x = new_user)) +\n",
    "    geom_bar(stat=\"identity\")"
   ]
  },
  {
   "cell_type": "markdown",
   "metadata": {
    "slideshow": {
     "slide_type": "fragment"
    }
   },
   "source": [
    "We see that existing users are much better than new users."
   ]
  },
  {
   "cell_type": "markdown",
   "metadata": {
    "slideshow": {
     "slide_type": "slide"
    }
   },
   "source": [
    "Q: How effective are our marketing channels (sources) in converting visitors?"
   ]
  },
  {
   "cell_type": "code",
   "execution_count": 17,
   "metadata": {
    "slideshow": {
     "slide_type": "subslide"
    }
   },
   "outputs": [
    {
     "data": {},
     "metadata": {},
     "output_type": "display_data"
    },
    {
     "data": {
      "image/png": "[encoded data removed]",
      "text/plain": [
       "plot without title"
      ]
     },
     "metadata": {},
     "output_type": "display_data"
    }
   ],
   "source": [
    "conversion_source <- data %>%\n",
    "    group_by(source) %>%\n",
    "    summarise(Conversion_Rate = mean(converted))\n",
    "\n",
    "ggplot(conversion_source, aes(y = Conversion_Rate, x = source, fill = source)) +\n",
    "    geom_bar(stat=\"identity\")"
   ]
  },
  {
   "cell_type": "markdown",
   "metadata": {
    "slideshow": {
     "slide_type": "fragment"
    }
   },
   "source": [
    "We see that the conversion is quite similar for all sources. "
   ]
  },
  {
   "cell_type": "markdown",
   "metadata": {
    "slideshow": {
     "slide_type": "slide"
    }
   },
   "source": [
    "Q: How many pages did the visitors browse before purchasing an item?"
   ]
  },
  {
   "cell_type": "code",
   "execution_count": 18,
   "metadata": {
    "slideshow": {
     "slide_type": "subslide"
    }
   },
   "outputs": [
    {
     "data": {},
     "metadata": {},
     "output_type": "display_data"
    },
    {
     "data": {
      "image/png": "[encoded data removed]",
      "text/plain": [
       "plot without title"
      ]
     },
     "metadata": {},
     "output_type": "display_data"
    }
   ],
   "source": [
    "conversion_total_pages_visited <- data %>%\n",
    "    group_by(total_pages_visited) %>%\n",
    "    summarise(Conversion_Rate = mean(converted))\n",
    "ggplot(conversion_total_pages_visited, aes(y = Conversion_Rate, x = total_pages_visited)) + geom_line()"
   ]
  },
  {
   "cell_type": "markdown",
   "metadata": {
    "slideshow": {
     "slide_type": "fragment"
    }
   },
   "source": [
    "We see higher conversion rate for customers visited more pages. However, this is least **actionable**. It's understandable that customers visit many pages because they already want to buy. Also, in order to buy you have to click on multiple pages."
   ]
  },
  {
   "cell_type": "markdown",
   "metadata": {
    "slideshow": {
     "slide_type": "slide"
    }
   },
   "source": [
    "### Actionable Insights\n",
    "Recall that the project is to analyse the conversion rate of different customer segments, and then come up with recommendations for the product team and the marketing team to improve the conversion rate. \n",
    "\n",
    "<img src=\"images/action_items.jpg\">"
   ]
  },
  {
   "cell_type": "markdown",
   "metadata": {
    "slideshow": {
     "slide_type": "subslide"
    }
   },
   "source": [
    "## Exercise:\n",
    "Try performing data analysis on one of the public datasets below using techniques you have learnt:\n",
    "+ <a href='https://stat.ethz.ch/R-manual/R-devel/library/datasets/html/00Index.html'> Built-in datasets in R</a>: import with `data()`\n",
    "+ <a href='https://archive.ics.uci.edu/ml/'> UCI Machine Learning Repository </a>\n",
    "+ <a href='https://dev.kdnuggets.com/datasets/index.html'> KDNuggets </a>"
   ]
  },
  {
   "cell_type": "markdown",
   "metadata": {
    "slideshow": {
     "slide_type": "slide"
    }
   },
   "source": [
    "### Extra: Cool story on the importance of sound data analysis\n",
    "<img src=\"images/plane.png\">\n",
    "<img src=\"images/quora_ans.png\">\n"
   ]
  },
  {
   "cell_type": "markdown",
   "metadata": {
    "slideshow": {
     "slide_type": "fragment"
    }
   },
   "source": [
    "For the full answer, please head on to: http://qr.ae/TU8zSW"
   ]
  }
 ],
 "metadata": {
  "anaconda-cloud": {},
  "celltoolbar": "Slideshow",
  "kernelspec": {
   "display_name": "R",
   "language": "R",
   "name": "ir"
  },
  "language_info": {
   "codemirror_mode": "r",
   "file_extension": ".r",
   "mimetype": "text/x-r-source",
   "name": "R",
   "pygments_lexer": "r",
   "version": "3.4.3"
  },
  "nbpresent": {
   "slides": {
    "037d994f-b6de-4ed8-9958-170a56092b39": {
     "id": "037d994f-b6de-4ed8-9958-170a56092b39",
     "prev": "f99c1815-0594-49d9-b4a6-38db28a1f981",
     "regions": {
      "37f0a335-65b1-445f-a395-db357ab01119": {
       "attrs": {
        "height": 0.8,
        "width": 0.8,
        "x": 0.1,
        "y": 0.1
       },
       "content": {
        "cell": "f211b74a-02c1-4f5c-a141-ab15f23fd870",
        "part": "whole"
       },
       "id": "37f0a335-65b1-445f-a395-db357ab01119"
      }
     }
    },
    "060d6da1-97c1-481b-823c-b3c77259fca7": {
     "id": "060d6da1-97c1-481b-823c-b3c77259fca7",
     "prev": "5f566194-09f1-436c-ac43-fe638d2bb884",
     "regions": {
      "d0b5765e-ede3-4cd3-9ef1-048b2c8baf77": {
       "attrs": {
        "height": 0.8,
        "width": 0.8,
        "x": 0.1,
        "y": 0.1
       },
       "content": {
        "cell": "6fa8daa0-5a50-49aa-b02f-3d2eb667cfd8",
        "part": "whole"
       },
       "id": "d0b5765e-ede3-4cd3-9ef1-048b2c8baf77"
      }
     }
    },
    "08e66a80-ccc5-4849-adc3-449bfa5fe5ef": {
     "id": "08e66a80-ccc5-4849-adc3-449bfa5fe5ef",
     "prev": "3d501e6f-83c3-4d2b-a1d2-63ed4ffd669b",
     "regions": {
      "d8e9d007-2977-4ef6-b380-c5bd3013511d": {
       "attrs": {
        "height": 0.8,
        "width": 0.8,
        "x": 0.1,
        "y": 0.1
       },
       "content": {
        "cell": "62575982-17b0-47ed-a124-d3be68646120",
        "part": "whole"
       },
       "id": "d8e9d007-2977-4ef6-b380-c5bd3013511d"
      }
     }
    },
    "127f7ddf-d6f9-48bc-ba2d-5f1a755e33fb": {
     "id": "127f7ddf-d6f9-48bc-ba2d-5f1a755e33fb",
     "prev": "72acae5a-9cf4-4106-933f-029db77156bc",
     "regions": {
      "f5d4659e-65fc-423c-9c83-b01b1f2ec3f7": {
       "attrs": {
        "height": 0.8,
        "width": 0.8,
        "x": 0.1,
        "y": 0.1
       },
       "content": {
        "cell": "cdabcf10-7540-479d-b862-2ac5081394b6",
        "part": "whole"
       },
       "id": "f5d4659e-65fc-423c-9c83-b01b1f2ec3f7"
      }
     }
    },
    "165e09c7-bbd1-4084-9aff-a048766875cc": {
     "id": "165e09c7-bbd1-4084-9aff-a048766875cc",
     "prev": null,
     "regions": {
      "238b46c8-62e0-4de3-b50a-34ac24df7731": {
       "attrs": {
        "height": 0.8,
        "width": 0.8,
        "x": 0.1,
        "y": 0.1
       },
       "content": {
        "cell": "09c85bab-64bd-4b4b-b8fb-31159fe7ca37",
        "part": "whole"
       },
       "id": "238b46c8-62e0-4de3-b50a-34ac24df7731"
      }
     }
    },
    "184bbb61-bcc2-4b69-8999-3003a1ff1826": {
     "id": "184bbb61-bcc2-4b69-8999-3003a1ff1826",
     "prev": "4032a710-c3f4-4f48-bf95-7d25a67fb185",
     "regions": {
      "7ba39599-d99b-4d05-ba1f-e2f9ddf0eccb": {
       "attrs": {
        "height": 0.8,
        "width": 0.8,
        "x": 0.1,
        "y": 0.1
       },
       "content": {
        "cell": "613a6222-a014-4235-afba-c30af848f091",
        "part": "whole"
       },
       "id": "7ba39599-d99b-4d05-ba1f-e2f9ddf0eccb"
      }
     }
    },
    "189a8448-123c-453e-91ac-837b87f4c52f": {
     "id": "189a8448-123c-453e-91ac-837b87f4c52f",
     "prev": "060d6da1-97c1-481b-823c-b3c77259fca7",
     "regions": {
      "95b47586-50eb-47b4-906f-8bbdce003201": {
       "attrs": {
        "height": 0.8,
        "width": 0.8,
        "x": 0.1,
        "y": 0.1
       },
       "content": {
        "cell": "e154db37-0823-4b9c-9e33-6e3e45067c23",
        "part": "whole"
       },
       "id": "95b47586-50eb-47b4-906f-8bbdce003201"
      }
     }
    },
    "2a15b19c-721e-4309-8dc3-2767a9262c5e": {
     "id": "2a15b19c-721e-4309-8dc3-2767a9262c5e",
     "prev": "184bbb61-bcc2-4b69-8999-3003a1ff1826",
     "regions": {
      "4a81144e-9bc9-4229-8c71-4581b13cf463": {
       "attrs": {
        "height": 0.8,
        "width": 0.8,
        "x": 0.1,
        "y": 0.1
       },
       "content": {
        "cell": "6bba0292-12f7-4f35-849c-3adb3b915de9",
        "part": "whole"
       },
       "id": "4a81144e-9bc9-4229-8c71-4581b13cf463"
      }
     }
    },
    "2a8c384f-5eaa-416c-a129-bd48f289fece": {
     "id": "2a8c384f-5eaa-416c-a129-bd48f289fece",
     "prev": "a72d566b-3564-450d-803c-811a2e98e014",
     "regions": {
      "ec0d67be-e14f-44f8-a4b1-7a6b202bd3b8": {
       "attrs": {
        "height": 0.8,
        "width": 0.8,
        "x": 0.1,
        "y": 0.1
       },
       "content": {
        "cell": "b10664db-f67a-4b04-8b7a-edec9d65b8b2",
        "part": "whole"
       },
       "id": "ec0d67be-e14f-44f8-a4b1-7a6b202bd3b8"
      }
     }
    },
    "3013eaf0-1eb9-4115-a74a-2e386691f07d": {
     "id": "3013eaf0-1eb9-4115-a74a-2e386691f07d",
     "prev": "c5e98f18-a0fb-4365-9b37-19db45e9c0f1",
     "regions": {
      "dadf18ff-3d08-46e9-b74c-87131629f42a": {
       "attrs": {
        "height": 0.8,
        "width": 0.8,
        "x": 0.1,
        "y": 0.1
       },
       "content": {
        "cell": "e6065c64-81a1-48ab-89ae-230b5462d7c2",
        "part": "whole"
       },
       "id": "dadf18ff-3d08-46e9-b74c-87131629f42a"
      }
     }
    },
    "3aa278f9-1a89-496a-a3e2-dffc230a350d": {
     "id": "3aa278f9-1a89-496a-a3e2-dffc230a350d",
     "prev": "e2fbd982-c138-4d75-ac97-197ae3d6742f",
     "regions": {
      "a336704b-d60b-48d7-a21f-d352aecd5724": {
       "attrs": {
        "height": 0.8,
        "width": 0.8,
        "x": 0.1,
        "y": 0.1
       },
       "content": {
        "cell": "5289d41d-da2e-47dc-80a3-63992c8a86a0",
        "part": "whole"
       },
       "id": "a336704b-d60b-48d7-a21f-d352aecd5724"
      }
     }
    },
    "3d501e6f-83c3-4d2b-a1d2-63ed4ffd669b": {
     "id": "3d501e6f-83c3-4d2b-a1d2-63ed4ffd669b",
     "prev": "7d111e5d-8c4d-4983-a708-52ac154024b6",
     "regions": {
      "ff3c6ba0-25af-4880-bf0e-718997aa7a6d": {
       "attrs": {
        "height": 0.8,
        "width": 0.8,
        "x": 0.1,
        "y": 0.1
       },
       "content": {
        "cell": "46ca8126-4f24-46cc-be56-39dd744a9d80",
        "part": "whole"
       },
       "id": "ff3c6ba0-25af-4880-bf0e-718997aa7a6d"
      }
     }
    },
    "4032a710-c3f4-4f48-bf95-7d25a67fb185": {
     "id": "4032a710-c3f4-4f48-bf95-7d25a67fb185",
     "prev": "87092331-e05c-4411-9cfa-ee6ca5cefbc7",
     "regions": {
      "9cc776f3-0522-4ebe-a448-e2a0148ff531": {
       "attrs": {
        "height": 0.8,
        "width": 0.8,
        "x": 0.1,
        "y": 0.1
       },
       "content": {
        "cell": "9ed455c9-7c52-4e94-a3b7-da6264ea1b25",
        "part": "whole"
       },
       "id": "9cc776f3-0522-4ebe-a448-e2a0148ff531"
      }
     }
    },
    "43f95af2-3a38-45fa-aac9-2527905284ea": {
     "id": "43f95af2-3a38-45fa-aac9-2527905284ea",
     "prev": "cfce1e41-bd03-4f35-ac4c-a086e9f9eb5d",
     "regions": {
      "83564c2b-c332-4917-b705-32a6c96c3bfd": {
       "attrs": {
        "height": 0.8,
        "width": 0.8,
        "x": 0.1,
        "y": 0.1
       },
       "content": {
        "cell": "a2aa2619-ad43-46b8-87a5-ffcf2aa5e0b3",
        "part": "whole"
       },
       "id": "83564c2b-c332-4917-b705-32a6c96c3bfd"
      }
     }
    },
    "45fe1251-5f24-42a5-bd2f-e52699b44935": {
     "id": "45fe1251-5f24-42a5-bd2f-e52699b44935",
     "prev": "53db062a-5e1d-4e62-b54b-0f5422e09301",
     "regions": {
      "77315f0d-f653-4078-9a47-8ad9152d5376": {
       "attrs": {
        "height": 0.8,
        "width": 0.8,
        "x": 0.1,
        "y": 0.1
       },
       "content": {
        "cell": "21ec7619-3b05-4f2e-90bc-98c03cc7fe1f",
        "part": "whole"
       },
       "id": "77315f0d-f653-4078-9a47-8ad9152d5376"
      }
     }
    },
    "53db062a-5e1d-4e62-b54b-0f5422e09301": {
     "id": "53db062a-5e1d-4e62-b54b-0f5422e09301",
     "prev": "2a15b19c-721e-4309-8dc3-2767a9262c5e",
     "regions": {
      "b02973f5-07b3-45df-aab9-f587bd464b08": {
       "attrs": {
        "height": 0.8,
        "width": 0.8,
        "x": 0.1,
        "y": 0.1
       },
       "content": {
        "cell": "bc1a8e5b-fcb3-492c-8a12-90391166b6f4",
        "part": "whole"
       },
       "id": "b02973f5-07b3-45df-aab9-f587bd464b08"
      }
     }
    },
    "5ae57a89-fc55-4fcc-b22f-f7271836c305": {
     "id": "5ae57a89-fc55-4fcc-b22f-f7271836c305",
     "prev": "b62e5716-5847-4cf9-959a-b7adcc1b20ef",
     "regions": {
      "af4301f5-559a-4e5d-9e4b-e89becdf95a9": {
       "attrs": {
        "height": 0.8,
        "width": 0.8,
        "x": 0.1,
        "y": 0.1
       },
       "content": {
        "cell": "16912f32-f314-4833-a575-99fa8bdaa0f9",
        "part": "whole"
       },
       "id": "af4301f5-559a-4e5d-9e4b-e89becdf95a9"
      }
     }
    },
    "5f566194-09f1-436c-ac43-fe638d2bb884": {
     "id": "5f566194-09f1-436c-ac43-fe638d2bb884",
     "prev": "c8c84d6d-83b7-4a2b-81a0-aa08b5db606e",
     "regions": {
      "d50c0e6b-014f-45e2-a691-0c9b26d52cbf": {
       "attrs": {
        "height": 0.8,
        "width": 0.8,
        "x": 0.1,
        "y": 0.1
       },
       "content": {
        "cell": "b105392f-323d-4751-9609-54bd0325f0e1",
        "part": "whole"
       },
       "id": "d50c0e6b-014f-45e2-a691-0c9b26d52cbf"
      }
     }
    },
    "653e40a9-f90d-4e96-9c3a-cc0496bf63dc": {
     "id": "653e40a9-f90d-4e96-9c3a-cc0496bf63dc",
     "prev": "934f04be-37a9-4b4d-b3c2-7033bd37ecde",
     "regions": {
      "c2711c63-f19e-4012-a288-0cfa7ff5b417": {
       "attrs": {
        "height": 0.8,
        "width": 0.8,
        "x": 0.1,
        "y": 0.1
       },
       "content": {
        "cell": "08988c3b-64cd-48d0-a4f6-4b638c3fc0b9",
        "part": "whole"
       },
       "id": "c2711c63-f19e-4012-a288-0cfa7ff5b417"
      }
     }
    },
    "72acae5a-9cf4-4106-933f-029db77156bc": {
     "id": "72acae5a-9cf4-4106-933f-029db77156bc",
     "prev": "3aa278f9-1a89-496a-a3e2-dffc230a350d",
     "regions": {
      "30441cb5-c56b-4581-91bc-bf3445a22177": {
       "attrs": {
        "height": 0.8,
        "width": 0.8,
        "x": 0.1,
        "y": 0.1
       },
       "content": {
        "cell": "f5029f70-616e-4d5a-a31e-88f28fbc3b3e",
        "part": "whole"
       },
       "id": "30441cb5-c56b-4581-91bc-bf3445a22177"
      }
     }
    },
    "7d111e5d-8c4d-4983-a708-52ac154024b6": {
     "id": "7d111e5d-8c4d-4983-a708-52ac154024b6",
     "prev": "037d994f-b6de-4ed8-9958-170a56092b39",
     "regions": {
      "32bd581a-dcb2-4081-83e9-db01a8c61d8b": {
       "attrs": {
        "height": 0.8,
        "width": 0.8,
        "x": 0.1,
        "y": 0.1
       },
       "content": {
        "cell": "fc2879a2-4cee-480f-b05a-4d5827cad4cb",
        "part": "whole"
       },
       "id": "32bd581a-dcb2-4081-83e9-db01a8c61d8b"
      }
     }
    },
    "87092331-e05c-4411-9cfa-ee6ca5cefbc7": {
     "id": "87092331-e05c-4411-9cfa-ee6ca5cefbc7",
     "prev": "2a8c384f-5eaa-416c-a129-bd48f289fece",
     "regions": {
      "83217bed-9a51-46ea-80dc-7f05e56601d7": {
       "attrs": {
        "height": 0.8,
        "width": 0.8,
        "x": 0.1,
        "y": 0.1
       },
       "content": {
        "cell": "a2666c2d-d268-4943-91cd-668ce69be9bf",
        "part": "whole"
       },
       "id": "83217bed-9a51-46ea-80dc-7f05e56601d7"
      }
     }
    },
    "88e78a8c-b3c3-426c-9daf-001fbca578c0": {
     "id": "88e78a8c-b3c3-426c-9daf-001fbca578c0",
     "prev": "f640a13f-4d82-4684-9958-adb7dbd17370",
     "regions": {
      "df760d39-1832-4a05-a1fb-2341a1e09c93": {
       "attrs": {
        "height": 0.8,
        "width": 0.8,
        "x": 0.1,
        "y": 0.1
       },
       "content": {
        "cell": "4dd63516-02e8-465f-8989-9f578470492d",
        "part": "whole"
       },
       "id": "df760d39-1832-4a05-a1fb-2341a1e09c93"
      }
     }
    },
    "934f04be-37a9-4b4d-b3c2-7033bd37ecde": {
     "id": "934f04be-37a9-4b4d-b3c2-7033bd37ecde",
     "prev": "5ae57a89-fc55-4fcc-b22f-f7271836c305",
     "regions": {
      "d599307c-6699-427f-a19e-372e155d9442": {
       "attrs": {
        "height": 0.8,
        "width": 0.8,
        "x": 0.1,
        "y": 0.1
       },
       "content": {
        "cell": "3f90a2cb-cb76-431b-858d-a552dffe28d8",
        "part": "whole"
       },
       "id": "d599307c-6699-427f-a19e-372e155d9442"
      }
     }
    },
    "a72d566b-3564-450d-803c-811a2e98e014": {
     "id": "a72d566b-3564-450d-803c-811a2e98e014",
     "prev": "3013eaf0-1eb9-4115-a74a-2e386691f07d",
     "regions": {
      "9f8e5877-ed2d-4e3b-ba10-8395915d7c61": {
       "attrs": {
        "height": 0.8,
        "width": 0.8,
        "x": 0.1,
        "y": 0.1
       },
       "content": {
        "cell": "01fb2ffb-bfe4-4b73-9116-2f2dc20ccb52",
        "part": "whole"
       },
       "id": "9f8e5877-ed2d-4e3b-ba10-8395915d7c61"
      }
     }
    },
    "b62e5716-5847-4cf9-959a-b7adcc1b20ef": {
     "id": "b62e5716-5847-4cf9-959a-b7adcc1b20ef",
     "prev": "eaab4f5e-5ace-4025-b0f1-165754fb6d3d",
     "regions": {
      "f3621dc3-62e2-4479-ba98-a6f1f77ebf38": {
       "attrs": {
        "height": 0.8,
        "width": 0.8,
        "x": 0.1,
        "y": 0.1
       },
       "content": {
        "cell": "5d4f88a6-7241-4e46-8249-d50273fcf6db",
        "part": "whole"
       },
       "id": "f3621dc3-62e2-4479-ba98-a6f1f77ebf38"
      }
     }
    },
    "c2271e71-a302-42e2-86f9-a6a08f8b6aec": {
     "id": "c2271e71-a302-42e2-86f9-a6a08f8b6aec",
     "prev": "165e09c7-bbd1-4084-9aff-a048766875cc",
     "regions": {
      "041db447-bbb4-4163-bd58-104a84be857a": {
       "attrs": {
        "height": 0.8,
        "width": 0.8,
        "x": 0.1,
        "y": 0.1
       },
       "content": {
        "cell": "30248960-5166-415a-a908-d6d4e3a23434",
        "part": "whole"
       },
       "id": "041db447-bbb4-4163-bd58-104a84be857a"
      }
     }
    },
    "c5e98f18-a0fb-4365-9b37-19db45e9c0f1": {
     "id": "c5e98f18-a0fb-4365-9b37-19db45e9c0f1",
     "prev": "189a8448-123c-453e-91ac-837b87f4c52f",
     "regions": {
      "e4ef0b75-fac6-4a29-8e70-d8e288113551": {
       "attrs": {
        "height": 0.8,
        "width": 0.8,
        "x": 0.1,
        "y": 0.1
       },
       "content": {
        "cell": "8286f07a-5e70-4423-a3f0-bd54f49f8cd4",
        "part": "whole"
       },
       "id": "e4ef0b75-fac6-4a29-8e70-d8e288113551"
      }
     }
    },
    "c8c84d6d-83b7-4a2b-81a0-aa08b5db606e": {
     "id": "c8c84d6d-83b7-4a2b-81a0-aa08b5db606e",
     "prev": "c2271e71-a302-42e2-86f9-a6a08f8b6aec",
     "regions": {
      "4d30b2fb-54ae-41f8-a8c9-e820c775d124": {
       "attrs": {
        "height": 0.8,
        "width": 0.8,
        "x": 0.1,
        "y": 0.1
       },
       "content": {
        "cell": "d54fc4ad-016e-422b-af93-2b7efc3c16ed",
        "part": "whole"
       },
       "id": "4d30b2fb-54ae-41f8-a8c9-e820c775d124"
      }
     }
    },
    "cfce1e41-bd03-4f35-ac4c-a086e9f9eb5d": {
     "id": "cfce1e41-bd03-4f35-ac4c-a086e9f9eb5d",
     "prev": "653e40a9-f90d-4e96-9c3a-cc0496bf63dc",
     "regions": {
      "dc13713f-b2ee-4841-aa74-ed73d818a249": {
       "attrs": {
        "height": 0.8,
        "width": 0.8,
        "x": 0.1,
        "y": 0.1
       },
       "content": {
        "cell": "2cc66b77-a1d5-4dd0-bd69-8c9994dde5d6",
        "part": "whole"
       },
       "id": "dc13713f-b2ee-4841-aa74-ed73d818a249"
      }
     }
    },
    "da6b9e0b-0344-47d7-8d1a-d85cf8e53921": {
     "id": "da6b9e0b-0344-47d7-8d1a-d85cf8e53921",
     "prev": "43f95af2-3a38-45fa-aac9-2527905284ea",
     "regions": {
      "8f60e1e9-d492-4e14-9604-91591a2dc032": {
       "attrs": {
        "height": 0.8,
        "width": 0.8,
        "x": 0.1,
        "y": 0.1
       },
       "content": {
        "cell": "743bc2b3-b029-43cf-b7b4-3a734f90d171",
        "part": "whole"
       },
       "id": "8f60e1e9-d492-4e14-9604-91591a2dc032"
      }
     }
    },
    "e2fbd982-c138-4d75-ac97-197ae3d6742f": {
     "id": "e2fbd982-c138-4d75-ac97-197ae3d6742f",
     "prev": "da6b9e0b-0344-47d7-8d1a-d85cf8e53921",
     "regions": {
      "f26d0900-cdd5-4ab5-abd6-fdf56da270bc": {
       "attrs": {
        "height": 0.8,
        "width": 0.8,
        "x": 0.1,
        "y": 0.1
       },
       "content": {
        "cell": "e906b758-1796-40fe-89b0-2e69059130a7",
        "part": "whole"
       },
       "id": "f26d0900-cdd5-4ab5-abd6-fdf56da270bc"
      }
     }
    },
    "eaab4f5e-5ace-4025-b0f1-165754fb6d3d": {
     "id": "eaab4f5e-5ace-4025-b0f1-165754fb6d3d",
     "prev": "45fe1251-5f24-42a5-bd2f-e52699b44935",
     "regions": {
      "3fbba3a1-3f5c-41c4-8093-003a89c88653": {
       "attrs": {
        "height": 0.8,
        "width": 0.8,
        "x": 0.1,
        "y": 0.1
       },
       "content": {
        "cell": "a7179b38-5181-4549-b6ec-4988aa279c88",
        "part": "whole"
       },
       "id": "3fbba3a1-3f5c-41c4-8093-003a89c88653"
      }
     }
    },
    "f640a13f-4d82-4684-9958-adb7dbd17370": {
     "id": "f640a13f-4d82-4684-9958-adb7dbd17370",
     "prev": "127f7ddf-d6f9-48bc-ba2d-5f1a755e33fb",
     "regions": {
      "1b4dbe06-4c43-4de1-911a-b5a5e28e8bdb": {
       "attrs": {
        "height": 0.8,
        "width": 0.8,
        "x": 0.1,
        "y": 0.1
       },
       "content": {
        "cell": "0b3ee273-8060-4aea-901f-2299f15bceb2",
        "part": "whole"
       },
       "id": "1b4dbe06-4c43-4de1-911a-b5a5e28e8bdb"
      }
     }
    },
    "f99c1815-0594-49d9-b4a6-38db28a1f981": {
     "id": "f99c1815-0594-49d9-b4a6-38db28a1f981",
     "prev": "88e78a8c-b3c3-426c-9daf-001fbca578c0",
     "regions": {
      "395a719d-1249-4ee9-bc13-9ab8bb696b2c": {
       "attrs": {
        "height": 0.8,
        "width": 0.8,
        "x": 0.1,
        "y": 0.1
       },
       "content": {
        "cell": "1e3b98aa-0252-4548-b2c4-50c64d10064d",
        "part": "whole"
       },
       "id": "395a719d-1249-4ee9-bc13-9ab8bb696b2c"
      }
     }
    }
   },
   "themes": {}
  }
 },
 "nbformat": 4,
 "nbformat_minor": 2
}
