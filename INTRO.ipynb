{
 "cells": [
  {
   "cell_type": "markdown",
   "metadata": {},
   "source": [
    "# Intro"
   ]
  },
  {
   "cell_type": "code",
   "execution_count": 3,
   "metadata": {},
   "outputs": [
    {
     "name": "stdout",
     "output_type": "stream",
     "text": [
      "[1] \"hello World\"\n"
     ]
    }
   ],
   "source": [
    "print(\"hello World\")"
   ]
  },
  {
   "cell_type": "code",
   "execution_count": 5,
   "metadata": {},
   "outputs": [
    {
     "ename": "ERROR",
     "evalue": "Error in as.vector(x, mode): cannot coerce type 'closure' to vector of type 'any'\n",
     "output_type": "error",
     "traceback": [
      "Error in as.vector(x, mode): cannot coerce type 'closure' to vector of type 'any'\nTraceback:\n",
      "1. matrix(data, nrow, ncol)",
      "2. as.vector(data)"
     ]
    }
   ],
   "source": [
    "matrix(data,nrow,ncol)"
   ]
  },
  {
   "cell_type": "code",
   "execution_count": 1,
   "metadata": {},
   "outputs": [
    {
     "ename": "ERROR",
     "evalue": "Error in matrix(c(1, 2)(3, 4)): attempt to apply non-function\n",
     "output_type": "error",
     "traceback": [
      "Error in matrix(c(1, 2)(3, 4)): attempt to apply non-function\nTraceback:\n",
      "1. matrix(c(1, 2)(3, 4))"
     ]
    }
   ],
   "source": [
    "matrix(c(1,2)(3,4))"
   ]
  },
  {
   "cell_type": "code",
   "execution_count": 6,
   "metadata": {
    "collapsed": true
   },
   "outputs": [],
   "source": [
    "help(matrix)"
   ]
  },
  {
   "cell_type": "code",
   "execution_count": 7,
   "metadata": {
    "collapsed": true
   },
   "outputs": [],
   "source": [
    "help(list)"
   ]
  },
  {
   "cell_type": "code",
   "execution_count": 8,
   "metadata": {},
   "outputs": [
    {
     "name": "stdout",
     "output_type": "stream",
     "text": [
      "\n",
      "list> require(graphics)\n",
      "\n",
      "list> # create a plotting structure\n",
      "list> pts <- list(x = cars[,1], y = cars[,2])\n",
      "\n",
      "list> plot(pts)\n",
      "\n",
      "list> is.pairlist(.Options)  # a user-level pairlist\n",
      "[1] TRUE\n",
      "\n",
      "list> ## \"pre-allocate\" an empty list of length 5\n",
      "list> vector(\"list\", 5)\n",
      "[[1]]\n",
      "NULL\n",
      "\n",
      "[[2]]\n",
      "NULL\n",
      "\n",
      "[[3]]\n",
      "NULL\n",
      "\n",
      "[[4]]\n",
      "NULL\n",
      "\n",
      "[[5]]\n",
      "NULL\n",
      "\n",
      "\n",
      "list> # Argument lists\n",
      "list> f <- function() x\n",
      "\n",
      "list> # Note the specification of a \"...\" argument:\n",
      "list> formals(f) <- al <- alist(x = , y = 2+3, ... = )\n",
      "\n",
      "list> f\n",
      "function (x, y = 2 + 3, ...) \n",
      "x\n",
      "\n",
      "list> al\n",
      "$x\n",
      "\n",
      "\n",
      "$y\n",
      "2 + 3\n",
      "\n",
      "$...\n",
      "\n",
      "\n",
      "\n",
      "list> ## environment->list coercion\n",
      "list> \n",
      "list> e1 <- new.env()\n",
      "\n",
      "list> e1$a <- 10\n",
      "\n",
      "list> e1$b <- 20\n",
      "\n",
      "list> as.list(e1)\n",
      "$a\n",
      "[1] 10\n",
      "\n",
      "$b\n",
      "[1] 20\n",
      "\n"
     ]
    },
    {
     "data": {
      "image/png": "[encoded data removed]",
      "text/plain": [
       "plot without title"
      ]
     },
     "metadata": {},
     "output_type": "display_data"
    }
   ],
   "source": [
    "example(list)"
   ]
  },
  {
   "cell_type": "code",
   "execution_count": 9,
   "metadata": {},
   "outputs": [
    {
     "name": "stderr",
     "output_type": "stream",
     "text": [
      "Warning message in data(titanic):\n",
      "\"data set 'titanic' not found\""
     ]
    }
   ],
   "source": [
    "data(titanic)"
   ]
  },
  {
   "cell_type": "code",
   "execution_count": 11,
   "metadata": {
    "collapsed": true
   },
   "outputs": [],
   "source": [
    "data(esoph)"
   ]
  },
  {
   "cell_type": "code",
   "execution_count": 12,
   "metadata": {},
   "outputs": [
    {
     "name": "stdout",
     "output_type": "stream",
     "text": [
      "'data.frame':\t88 obs. of  5 variables:\n",
      " $ agegp    : Ord.factor w/ 6 levels \"25-34\"<\"35-44\"<..: 1 1 1 1 1 1 1 1 1 1 ...\n",
      " $ alcgp    : Ord.factor w/ 4 levels \"0-39g/day\"<\"40-79\"<..: 1 1 1 1 2 2 2 2 3 3 ...\n",
      " $ tobgp    : Ord.factor w/ 4 levels \"0-9g/day\"<\"10-19\"<..: 1 2 3 4 1 2 3 4 1 2 ...\n",
      " $ ncases   : num  0 0 0 0 0 0 0 0 0 0 ...\n",
      " $ ncontrols: num  40 10 6 5 27 7 4 7 2 1 ...\n"
     ]
    }
   ],
   "source": [
    "str(esoph)"
   ]
  },
  {
   "cell_type": "code",
   "execution_count": 13,
   "metadata": {},
   "outputs": [
    {
     "data": {
      "text/plain": [
       "   agegp          alcgp         tobgp        ncases         ncontrols    \n",
       " 25-34:15   0-39g/day:23   0-9g/day:24   Min.   : 0.000   Min.   : 1.00  \n",
       " 35-44:15   40-79    :23   10-19   :24   1st Qu.: 0.000   1st Qu.: 3.00  \n",
       " 45-54:16   80-119   :21   20-29   :20   Median : 1.000   Median : 6.00  \n",
       " 55-64:16   120+     :21   30+     :20   Mean   : 2.273   Mean   :11.08  \n",
       " 65-74:15                                3rd Qu.: 4.000   3rd Qu.:14.00  \n",
       " 75+  :11                                Max.   :17.000   Max.   :60.00  "
      ]
     },
     "metadata": {},
     "output_type": "display_data"
    }
   ],
   "source": [
    "summary(esoph)"
   ]
  },
  {
   "cell_type": "code",
   "execution_count": 14,
   "metadata": {},
   "outputs": [
    {
     "ename": "ERROR",
     "evalue": "Error in summary(titanic): object 'titanic' not found\n",
     "output_type": "error",
     "traceback": [
      "Error in summary(titanic): object 'titanic' not found\nTraceback:\n",
      "1. summary(titanic)"
     ]
    }
   ],
   "source": [
    "summary(titanic)"
   ]
  },
  {
   "cell_type": "code",
   "execution_count": 15,
   "metadata": {},
   "outputs": [
    {
     "data": {
      "text/html": [
       "<table>\n",
       "<thead><tr><th scope=col>agegp</th><th scope=col>alcgp</th><th scope=col>tobgp</th><th scope=col>ncases</th><th scope=col>ncontrols</th></tr></thead>\n",
       "<tbody>\n",
       "\t<tr><td>25-34    </td><td>0-39g/day</td><td>0-9g/day </td><td>0        </td><td>40       </td></tr>\n",
       "\t<tr><td>25-34    </td><td>0-39g/day</td><td>10-19    </td><td>0        </td><td>10       </td></tr>\n",
       "\t<tr><td>25-34    </td><td>0-39g/day</td><td>20-29    </td><td>0        </td><td> 6       </td></tr>\n",
       "\t<tr><td>25-34    </td><td>0-39g/day</td><td>30+      </td><td>0        </td><td> 5       </td></tr>\n",
       "\t<tr><td>25-34    </td><td>40-79    </td><td>0-9g/day </td><td>0        </td><td>27       </td></tr>\n",
       "\t<tr><td>25-34    </td><td>40-79    </td><td>10-19    </td><td>0        </td><td> 7       </td></tr>\n",
       "</tbody>\n",
       "</table>\n"
      ],
      "text/latex": [
       "\\begin{tabular}{r|lllll}\n",
       " agegp & alcgp & tobgp & ncases & ncontrols\\\\\n",
       "\\hline\n",
       "\t 25-34     & 0-39g/day & 0-9g/day  & 0         & 40       \\\\\n",
       "\t 25-34     & 0-39g/day & 10-19     & 0         & 10       \\\\\n",
       "\t 25-34     & 0-39g/day & 20-29     & 0         &  6       \\\\\n",
       "\t 25-34     & 0-39g/day & 30+       & 0         &  5       \\\\\n",
       "\t 25-34     & 40-79     & 0-9g/day  & 0         & 27       \\\\\n",
       "\t 25-34     & 40-79     & 10-19     & 0         &  7       \\\\\n",
       "\\end{tabular}\n"
      ],
      "text/markdown": [
       "\n",
       "agegp | alcgp | tobgp | ncases | ncontrols | \n",
       "|---|---|---|---|---|---|\n",
       "| 25-34     | 0-39g/day | 0-9g/day  | 0         | 40        | \n",
       "| 25-34     | 0-39g/day | 10-19     | 0         | 10        | \n",
       "| 25-34     | 0-39g/day | 20-29     | 0         |  6        | \n",
       "| 25-34     | 0-39g/day | 30+       | 0         |  5        | \n",
       "| 25-34     | 40-79     | 0-9g/day  | 0         | 27        | \n",
       "| 25-34     | 40-79     | 10-19     | 0         |  7        | \n",
       "\n",
       "\n"
      ],
      "text/plain": [
       "  agegp alcgp     tobgp    ncases ncontrols\n",
       "1 25-34 0-39g/day 0-9g/day 0      40       \n",
       "2 25-34 0-39g/day 10-19    0      10       \n",
       "3 25-34 0-39g/day 20-29    0       6       \n",
       "4 25-34 0-39g/day 30+      0       5       \n",
       "5 25-34 40-79     0-9g/day 0      27       \n",
       "6 25-34 40-79     10-19    0       7       "
      ]
     },
     "metadata": {},
     "output_type": "display_data"
    }
   ],
   "source": [
    "head(esoph)"
   ]
  },
  {
   "cell_type": "code",
   "execution_count": 16,
   "metadata": {},
   "outputs": [
    {
     "data": {
      "text/html": [
       "<table>\n",
       "<thead><tr><th></th><th scope=col>agegp</th><th scope=col>alcgp</th><th scope=col>tobgp</th><th scope=col>ncases</th><th scope=col>ncontrols</th></tr></thead>\n",
       "<tbody>\n",
       "\t<tr><th scope=row>83</th><td>75+     </td><td>40-79   </td><td>20-29   </td><td>0       </td><td>3       </td></tr>\n",
       "\t<tr><th scope=row>84</th><td>75+     </td><td>40-79   </td><td>30+     </td><td>1       </td><td>1       </td></tr>\n",
       "\t<tr><th scope=row>85</th><td>75+     </td><td>80-119  </td><td>0-9g/day</td><td>1       </td><td>1       </td></tr>\n",
       "\t<tr><th scope=row>86</th><td>75+     </td><td>80-119  </td><td>10-19   </td><td>1       </td><td>1       </td></tr>\n",
       "\t<tr><th scope=row>87</th><td>75+     </td><td>120+    </td><td>0-9g/day</td><td>2       </td><td>2       </td></tr>\n",
       "\t<tr><th scope=row>88</th><td>75+     </td><td>120+    </td><td>10-19   </td><td>1       </td><td>1       </td></tr>\n",
       "</tbody>\n",
       "</table>\n"
      ],
      "text/latex": [
       "\\begin{tabular}{r|lllll}\n",
       "  & agegp & alcgp & tobgp & ncases & ncontrols\\\\\n",
       "\\hline\n",
       "\t83 & 75+      & 40-79    & 20-29    & 0        & 3       \\\\\n",
       "\t84 & 75+      & 40-79    & 30+      & 1        & 1       \\\\\n",
       "\t85 & 75+      & 80-119   & 0-9g/day & 1        & 1       \\\\\n",
       "\t86 & 75+      & 80-119   & 10-19    & 1        & 1       \\\\\n",
       "\t87 & 75+      & 120+     & 0-9g/day & 2        & 2       \\\\\n",
       "\t88 & 75+      & 120+     & 10-19    & 1        & 1       \\\\\n",
       "\\end{tabular}\n"
      ],
      "text/markdown": [
       "\n",
       "| <!--/--> | agegp | alcgp | tobgp | ncases | ncontrols | \n",
       "|---|---|---|---|---|---|\n",
       "| 83 | 75+      | 40-79    | 20-29    | 0        | 3        | \n",
       "| 84 | 75+      | 40-79    | 30+      | 1        | 1        | \n",
       "| 85 | 75+      | 80-119   | 0-9g/day | 1        | 1        | \n",
       "| 86 | 75+      | 80-119   | 10-19    | 1        | 1        | \n",
       "| 87 | 75+      | 120+     | 0-9g/day | 2        | 2        | \n",
       "| 88 | 75+      | 120+     | 10-19    | 1        | 1        | \n",
       "\n",
       "\n"
      ],
      "text/plain": [
       "   agegp alcgp  tobgp    ncases ncontrols\n",
       "83 75+   40-79  20-29    0      3        \n",
       "84 75+   40-79  30+      1      1        \n",
       "85 75+   80-119 0-9g/day 1      1        \n",
       "86 75+   80-119 10-19    1      1        \n",
       "87 75+   120+   0-9g/day 2      2        \n",
       "88 75+   120+   10-19    1      1        "
      ]
     },
     "metadata": {},
     "output_type": "display_data"
    }
   ],
   "source": [
    "tail(esoph)"
   ]
  },
  {
   "cell_type": "code",
   "execution_count": 17,
   "metadata": {},
   "outputs": [
    {
     "data": {
      "text/html": [
       "<table>\n",
       "<thead><tr><th scope=col>agegp</th><th scope=col>alcgp</th><th scope=col>tobgp</th><th scope=col>ncases</th><th scope=col>ncontrols</th></tr></thead>\n",
       "<tbody>\n",
       "\t<tr><td>25-34    </td><td>0-39g/day</td><td>0-9g/day </td><td>0        </td><td>40       </td></tr>\n",
       "</tbody>\n",
       "</table>\n"
      ],
      "text/latex": [
       "\\begin{tabular}{r|lllll}\n",
       " agegp & alcgp & tobgp & ncases & ncontrols\\\\\n",
       "\\hline\n",
       "\t 25-34     & 0-39g/day & 0-9g/day  & 0         & 40       \\\\\n",
       "\\end{tabular}\n"
      ],
      "text/markdown": [
       "\n",
       "agegp | alcgp | tobgp | ncases | ncontrols | \n",
       "|---|\n",
       "| 25-34     | 0-39g/day | 0-9g/day  | 0         | 40        | \n",
       "\n",
       "\n"
      ],
      "text/plain": [
       "  agegp alcgp     tobgp    ncases ncontrols\n",
       "1 25-34 0-39g/day 0-9g/day 0      40       "
      ]
     },
     "metadata": {},
     "output_type": "display_data"
    }
   ],
   "source": [
    "head(esoph, n=1)"
   ]
  },
  {
   "cell_type": "code",
   "execution_count": 18,
   "metadata": {},
   "outputs": [
    {
     "data": {
      "text/html": [
       "<table>\n",
       "<thead><tr><th scope=col>agegp</th><th scope=col>alcgp</th><th scope=col>tobgp</th><th scope=col>ncases</th><th scope=col>ncontrols</th></tr></thead>\n",
       "<tbody>\n",
       "\t<tr><td>25-34    </td><td>0-39g/day</td><td>0-9g/day </td><td>0        </td><td>40       </td></tr>\n",
       "</tbody>\n",
       "</table>\n"
      ],
      "text/latex": [
       "\\begin{tabular}{r|lllll}\n",
       " agegp & alcgp & tobgp & ncases & ncontrols\\\\\n",
       "\\hline\n",
       "\t 25-34     & 0-39g/day & 0-9g/day  & 0         & 40       \\\\\n",
       "\\end{tabular}\n"
      ],
      "text/markdown": [
       "\n",
       "agegp | alcgp | tobgp | ncases | ncontrols | \n",
       "|---|\n",
       "| 25-34     | 0-39g/day | 0-9g/day  | 0         | 40        | \n",
       "\n",
       "\n"
      ],
      "text/plain": [
       "  agegp alcgp     tobgp    ncases ncontrols\n",
       "1 25-34 0-39g/day 0-9g/day 0      40       "
      ]
     },
     "metadata": {},
     "output_type": "display_data"
    }
   ],
   "source": [
    "esoph[1,]"
   ]
  },
  {
   "cell_type": "code",
   "execution_count": 19,
   "metadata": {},
   "outputs": [
    {
     "data": {
      "text/html": [
       "<ol class=list-inline>\n",
       "\t<li>25-34</li>\n",
       "\t<li>25-34</li>\n",
       "\t<li>25-34</li>\n",
       "\t<li>25-34</li>\n",
       "\t<li>25-34</li>\n",
       "\t<li>25-34</li>\n",
       "\t<li>25-34</li>\n",
       "\t<li>25-34</li>\n",
       "\t<li>25-34</li>\n",
       "\t<li>25-34</li>\n",
       "\t<li>25-34</li>\n",
       "\t<li>25-34</li>\n",
       "\t<li>25-34</li>\n",
       "\t<li>25-34</li>\n",
       "\t<li>25-34</li>\n",
       "\t<li>35-44</li>\n",
       "\t<li>35-44</li>\n",
       "\t<li>35-44</li>\n",
       "\t<li>35-44</li>\n",
       "\t<li>35-44</li>\n",
       "\t<li>35-44</li>\n",
       "\t<li>35-44</li>\n",
       "\t<li>35-44</li>\n",
       "\t<li>35-44</li>\n",
       "\t<li>35-44</li>\n",
       "\t<li>35-44</li>\n",
       "\t<li>35-44</li>\n",
       "\t<li>35-44</li>\n",
       "\t<li>35-44</li>\n",
       "\t<li>35-44</li>\n",
       "\t<li>45-54</li>\n",
       "\t<li>45-54</li>\n",
       "\t<li>45-54</li>\n",
       "\t<li>45-54</li>\n",
       "\t<li>45-54</li>\n",
       "\t<li>45-54</li>\n",
       "\t<li>45-54</li>\n",
       "\t<li>45-54</li>\n",
       "\t<li>45-54</li>\n",
       "\t<li>45-54</li>\n",
       "\t<li>45-54</li>\n",
       "\t<li>45-54</li>\n",
       "\t<li>45-54</li>\n",
       "\t<li>45-54</li>\n",
       "\t<li>45-54</li>\n",
       "\t<li>45-54</li>\n",
       "\t<li>55-64</li>\n",
       "\t<li>55-64</li>\n",
       "\t<li>55-64</li>\n",
       "\t<li>55-64</li>\n",
       "\t<li>55-64</li>\n",
       "\t<li>55-64</li>\n",
       "\t<li>55-64</li>\n",
       "\t<li>55-64</li>\n",
       "\t<li>55-64</li>\n",
       "\t<li>55-64</li>\n",
       "\t<li>55-64</li>\n",
       "\t<li>55-64</li>\n",
       "\t<li>55-64</li>\n",
       "\t<li>55-64</li>\n",
       "\t<li>55-64</li>\n",
       "\t<li>55-64</li>\n",
       "\t<li>65-74</li>\n",
       "\t<li>65-74</li>\n",
       "\t<li>65-74</li>\n",
       "\t<li>65-74</li>\n",
       "\t<li>65-74</li>\n",
       "\t<li>65-74</li>\n",
       "\t<li>65-74</li>\n",
       "\t<li>65-74</li>\n",
       "\t<li>65-74</li>\n",
       "\t<li>65-74</li>\n",
       "\t<li>65-74</li>\n",
       "\t<li>65-74</li>\n",
       "\t<li>65-74</li>\n",
       "\t<li>65-74</li>\n",
       "\t<li>65-74</li>\n",
       "\t<li>75+</li>\n",
       "\t<li>75+</li>\n",
       "\t<li>75+</li>\n",
       "\t<li>75+</li>\n",
       "\t<li>75+</li>\n",
       "\t<li>75+</li>\n",
       "\t<li>75+</li>\n",
       "\t<li>75+</li>\n",
       "\t<li>75+</li>\n",
       "\t<li>75+</li>\n",
       "\t<li>75+</li>\n",
       "</ol>\n"
      ],
      "text/latex": [
       "\\begin{enumerate*}\n",
       "\\item 25-34\n",
       "\\item 25-34\n",
       "\\item 25-34\n",
       "\\item 25-34\n",
       "\\item 25-34\n",
       "\\item 25-34\n",
       "\\item 25-34\n",
       "\\item 25-34\n",
       "\\item 25-34\n",
       "\\item 25-34\n",
       "\\item 25-34\n",
       "\\item 25-34\n",
       "\\item 25-34\n",
       "\\item 25-34\n",
       "\\item 25-34\n",
       "\\item 35-44\n",
       "\\item 35-44\n",
       "\\item 35-44\n",
       "\\item 35-44\n",
       "\\item 35-44\n",
       "\\item 35-44\n",
       "\\item 35-44\n",
       "\\item 35-44\n",
       "\\item 35-44\n",
       "\\item 35-44\n",
       "\\item 35-44\n",
       "\\item 35-44\n",
       "\\item 35-44\n",
       "\\item 35-44\n",
       "\\item 35-44\n",
       "\\item 45-54\n",
       "\\item 45-54\n",
       "\\item 45-54\n",
       "\\item 45-54\n",
       "\\item 45-54\n",
       "\\item 45-54\n",
       "\\item 45-54\n",
       "\\item 45-54\n",
       "\\item 45-54\n",
       "\\item 45-54\n",
       "\\item 45-54\n",
       "\\item 45-54\n",
       "\\item 45-54\n",
       "\\item 45-54\n",
       "\\item 45-54\n",
       "\\item 45-54\n",
       "\\item 55-64\n",
       "\\item 55-64\n",
       "\\item 55-64\n",
       "\\item 55-64\n",
       "\\item 55-64\n",
       "\\item 55-64\n",
       "\\item 55-64\n",
       "\\item 55-64\n",
       "\\item 55-64\n",
       "\\item 55-64\n",
       "\\item 55-64\n",
       "\\item 55-64\n",
       "\\item 55-64\n",
       "\\item 55-64\n",
       "\\item 55-64\n",
       "\\item 55-64\n",
       "\\item 65-74\n",
       "\\item 65-74\n",
       "\\item 65-74\n",
       "\\item 65-74\n",
       "\\item 65-74\n",
       "\\item 65-74\n",
       "\\item 65-74\n",
       "\\item 65-74\n",
       "\\item 65-74\n",
       "\\item 65-74\n",
       "\\item 65-74\n",
       "\\item 65-74\n",
       "\\item 65-74\n",
       "\\item 65-74\n",
       "\\item 65-74\n",
       "\\item 75+\n",
       "\\item 75+\n",
       "\\item 75+\n",
       "\\item 75+\n",
       "\\item 75+\n",
       "\\item 75+\n",
       "\\item 75+\n",
       "\\item 75+\n",
       "\\item 75+\n",
       "\\item 75+\n",
       "\\item 75+\n",
       "\\end{enumerate*}\n"
      ],
      "text/markdown": [
       "1. 25-34\n",
       "2. 25-34\n",
       "3. 25-34\n",
       "4. 25-34\n",
       "5. 25-34\n",
       "6. 25-34\n",
       "7. 25-34\n",
       "8. 25-34\n",
       "9. 25-34\n",
       "10. 25-34\n",
       "11. 25-34\n",
       "12. 25-34\n",
       "13. 25-34\n",
       "14. 25-34\n",
       "15. 25-34\n",
       "16. 35-44\n",
       "17. 35-44\n",
       "18. 35-44\n",
       "19. 35-44\n",
       "20. 35-44\n",
       "21. 35-44\n",
       "22. 35-44\n",
       "23. 35-44\n",
       "24. 35-44\n",
       "25. 35-44\n",
       "26. 35-44\n",
       "27. 35-44\n",
       "28. 35-44\n",
       "29. 35-44\n",
       "30. 35-44\n",
       "31. 45-54\n",
       "32. 45-54\n",
       "33. 45-54\n",
       "34. 45-54\n",
       "35. 45-54\n",
       "36. 45-54\n",
       "37. 45-54\n",
       "38. 45-54\n",
       "39. 45-54\n",
       "40. 45-54\n",
       "41. 45-54\n",
       "42. 45-54\n",
       "43. 45-54\n",
       "44. 45-54\n",
       "45. 45-54\n",
       "46. 45-54\n",
       "47. 55-64\n",
       "48. 55-64\n",
       "49. 55-64\n",
       "50. 55-64\n",
       "51. 55-64\n",
       "52. 55-64\n",
       "53. 55-64\n",
       "54. 55-64\n",
       "55. 55-64\n",
       "56. 55-64\n",
       "57. 55-64\n",
       "58. 55-64\n",
       "59. 55-64\n",
       "60. 55-64\n",
       "61. 55-64\n",
       "62. 55-64\n",
       "63. 65-74\n",
       "64. 65-74\n",
       "65. 65-74\n",
       "66. 65-74\n",
       "67. 65-74\n",
       "68. 65-74\n",
       "69. 65-74\n",
       "70. 65-74\n",
       "71. 65-74\n",
       "72. 65-74\n",
       "73. 65-74\n",
       "74. 65-74\n",
       "75. 65-74\n",
       "76. 65-74\n",
       "77. 65-74\n",
       "78. 75+\n",
       "79. 75+\n",
       "80. 75+\n",
       "81. 75+\n",
       "82. 75+\n",
       "83. 75+\n",
       "84. 75+\n",
       "85. 75+\n",
       "86. 75+\n",
       "87. 75+\n",
       "88. 75+\n",
       "\n",
       "\n"
      ],
      "text/plain": [
       " [1] 25-34 25-34 25-34 25-34 25-34 25-34 25-34 25-34 25-34 25-34 25-34 25-34\n",
       "[13] 25-34 25-34 25-34 35-44 35-44 35-44 35-44 35-44 35-44 35-44 35-44 35-44\n",
       "[25] 35-44 35-44 35-44 35-44 35-44 35-44 45-54 45-54 45-54 45-54 45-54 45-54\n",
       "[37] 45-54 45-54 45-54 45-54 45-54 45-54 45-54 45-54 45-54 45-54 55-64 55-64\n",
       "[49] 55-64 55-64 55-64 55-64 55-64 55-64 55-64 55-64 55-64 55-64 55-64 55-64\n",
       "[61] 55-64 55-64 65-74 65-74 65-74 65-74 65-74 65-74 65-74 65-74 65-74 65-74\n",
       "[73] 65-74 65-74 65-74 65-74 65-74 75+   75+   75+   75+   75+   75+   75+  \n",
       "[85] 75+   75+   75+   75+  \n",
       "Levels: 25-34 < 35-44 < 45-54 < 55-64 < 65-74 < 75+"
      ]
     },
     "metadata": {},
     "output_type": "display_data"
    }
   ],
   "source": [
    "esoph$agegp"
   ]
  },
  {
   "cell_type": "code",
   "execution_count": 20,
   "metadata": {},
   "outputs": [
    {
     "data": {
      "text/html": [
       "0-9g/day"
      ],
      "text/latex": [
       "0-9g/day"
      ],
      "text/markdown": [
       "0-9g/day"
      ],
      "text/plain": [
       "[1] 0-9g/day\n",
       "Levels: 0-9g/day < 10-19 < 20-29 < 30+"
      ]
     },
     "metadata": {},
     "output_type": "display_data"
    }
   ],
   "source": [
    "esoph[1,3]"
   ]
  },
  {
   "cell_type": "code",
   "execution_count": 21,
   "metadata": {
    "collapsed": true
   },
   "outputs": [],
   "source": [
    "data(esoph)"
   ]
  },
  {
   "cell_type": "code",
   "execution_count": 22,
   "metadata": {},
   "outputs": [
    {
     "name": "stdout",
     "output_type": "stream",
     "text": [
      "'data.frame':\t88 obs. of  5 variables:\n",
      " $ agegp    : Ord.factor w/ 6 levels \"25-34\"<\"35-44\"<..: 1 1 1 1 1 1 1 1 1 1 ...\n",
      " $ alcgp    : Ord.factor w/ 4 levels \"0-39g/day\"<\"40-79\"<..: 1 1 1 1 2 2 2 2 3 3 ...\n",
      " $ tobgp    : Ord.factor w/ 4 levels \"0-9g/day\"<\"10-19\"<..: 1 2 3 4 1 2 3 4 1 2 ...\n",
      " $ ncases   : num  0 0 0 0 0 0 0 0 0 0 ...\n",
      " $ ncontrols: num  40 10 6 5 27 7 4 7 2 1 ...\n"
     ]
    }
   ],
   "source": [
    "str(esoph)"
   ]
  },
  {
   "cell_type": "code",
   "execution_count": 23,
   "metadata": {},
   "outputs": [
    {
     "data": {
      "text/html": [
       "<table>\n",
       "<thead><tr><th scope=col>alcgp</th><th scope=col>tobgp</th><th scope=col>ncases</th><th scope=col>ncontrols</th></tr></thead>\n",
       "<tbody>\n",
       "\t<tr><td>0-39g/day</td><td>0-9g/day </td><td>0        </td><td>40       </td></tr>\n",
       "</tbody>\n",
       "</table>\n"
      ],
      "text/latex": [
       "\\begin{tabular}{r|llll}\n",
       " alcgp & tobgp & ncases & ncontrols\\\\\n",
       "\\hline\n",
       "\t 0-39g/day & 0-9g/day  & 0         & 40       \\\\\n",
       "\\end{tabular}\n"
      ],
      "text/markdown": [
       "\n",
       "alcgp | tobgp | ncases | ncontrols | \n",
       "|---|\n",
       "| 0-39g/day | 0-9g/day  | 0         | 40        | \n",
       "\n",
       "\n"
      ],
      "text/plain": [
       "  alcgp     tobgp    ncases ncontrols\n",
       "1 0-39g/day 0-9g/day 0      40       "
      ]
     },
     "metadata": {},
     "output_type": "display_data"
    }
   ],
   "source": [
    "esoph[1,2:5]"
   ]
  },
  {
   "cell_type": "code",
   "execution_count": 24,
   "metadata": {},
   "outputs": [
    {
     "data": {
      "text/html": [
       "<ol class=list-inline>\n",
       "\t<li>25-34</li>\n",
       "\t<li>25-34</li>\n",
       "\t<li>25-34</li>\n",
       "\t<li>25-34</li>\n",
       "\t<li>25-34</li>\n",
       "\t<li>25-34</li>\n",
       "\t<li>25-34</li>\n",
       "\t<li>25-34</li>\n",
       "\t<li>25-34</li>\n",
       "\t<li>25-34</li>\n",
       "\t<li>25-34</li>\n",
       "\t<li>25-34</li>\n",
       "\t<li>25-34</li>\n",
       "\t<li>25-34</li>\n",
       "\t<li>25-34</li>\n",
       "\t<li>35-44</li>\n",
       "\t<li>35-44</li>\n",
       "\t<li>35-44</li>\n",
       "\t<li>35-44</li>\n",
       "\t<li>35-44</li>\n",
       "\t<li>35-44</li>\n",
       "\t<li>35-44</li>\n",
       "\t<li>35-44</li>\n",
       "\t<li>35-44</li>\n",
       "\t<li>35-44</li>\n",
       "\t<li>35-44</li>\n",
       "\t<li>35-44</li>\n",
       "\t<li>35-44</li>\n",
       "\t<li>35-44</li>\n",
       "\t<li>35-44</li>\n",
       "\t<li>45-54</li>\n",
       "\t<li>45-54</li>\n",
       "\t<li>45-54</li>\n",
       "\t<li>45-54</li>\n",
       "\t<li>45-54</li>\n",
       "\t<li>45-54</li>\n",
       "\t<li>45-54</li>\n",
       "\t<li>45-54</li>\n",
       "\t<li>45-54</li>\n",
       "\t<li>45-54</li>\n",
       "\t<li>45-54</li>\n",
       "\t<li>45-54</li>\n",
       "\t<li>45-54</li>\n",
       "\t<li>45-54</li>\n",
       "\t<li>45-54</li>\n",
       "\t<li>45-54</li>\n",
       "\t<li>55-64</li>\n",
       "\t<li>55-64</li>\n",
       "\t<li>55-64</li>\n",
       "\t<li>55-64</li>\n",
       "\t<li>55-64</li>\n",
       "\t<li>55-64</li>\n",
       "\t<li>55-64</li>\n",
       "\t<li>55-64</li>\n",
       "\t<li>55-64</li>\n",
       "\t<li>55-64</li>\n",
       "\t<li>55-64</li>\n",
       "\t<li>55-64</li>\n",
       "\t<li>55-64</li>\n",
       "\t<li>55-64</li>\n",
       "\t<li>55-64</li>\n",
       "\t<li>55-64</li>\n",
       "\t<li>65-74</li>\n",
       "\t<li>65-74</li>\n",
       "\t<li>65-74</li>\n",
       "\t<li>65-74</li>\n",
       "\t<li>65-74</li>\n",
       "\t<li>65-74</li>\n",
       "\t<li>65-74</li>\n",
       "\t<li>65-74</li>\n",
       "\t<li>65-74</li>\n",
       "\t<li>65-74</li>\n",
       "\t<li>65-74</li>\n",
       "\t<li>65-74</li>\n",
       "\t<li>65-74</li>\n",
       "\t<li>65-74</li>\n",
       "\t<li>65-74</li>\n",
       "\t<li>75+</li>\n",
       "\t<li>75+</li>\n",
       "\t<li>75+</li>\n",
       "\t<li>75+</li>\n",
       "\t<li>75+</li>\n",
       "\t<li>75+</li>\n",
       "\t<li>75+</li>\n",
       "\t<li>75+</li>\n",
       "\t<li>75+</li>\n",
       "\t<li>75+</li>\n",
       "\t<li>75+</li>\n",
       "</ol>\n"
      ],
      "text/latex": [
       "\\begin{enumerate*}\n",
       "\\item 25-34\n",
       "\\item 25-34\n",
       "\\item 25-34\n",
       "\\item 25-34\n",
       "\\item 25-34\n",
       "\\item 25-34\n",
       "\\item 25-34\n",
       "\\item 25-34\n",
       "\\item 25-34\n",
       "\\item 25-34\n",
       "\\item 25-34\n",
       "\\item 25-34\n",
       "\\item 25-34\n",
       "\\item 25-34\n",
       "\\item 25-34\n",
       "\\item 35-44\n",
       "\\item 35-44\n",
       "\\item 35-44\n",
       "\\item 35-44\n",
       "\\item 35-44\n",
       "\\item 35-44\n",
       "\\item 35-44\n",
       "\\item 35-44\n",
       "\\item 35-44\n",
       "\\item 35-44\n",
       "\\item 35-44\n",
       "\\item 35-44\n",
       "\\item 35-44\n",
       "\\item 35-44\n",
       "\\item 35-44\n",
       "\\item 45-54\n",
       "\\item 45-54\n",
       "\\item 45-54\n",
       "\\item 45-54\n",
       "\\item 45-54\n",
       "\\item 45-54\n",
       "\\item 45-54\n",
       "\\item 45-54\n",
       "\\item 45-54\n",
       "\\item 45-54\n",
       "\\item 45-54\n",
       "\\item 45-54\n",
       "\\item 45-54\n",
       "\\item 45-54\n",
       "\\item 45-54\n",
       "\\item 45-54\n",
       "\\item 55-64\n",
       "\\item 55-64\n",
       "\\item 55-64\n",
       "\\item 55-64\n",
       "\\item 55-64\n",
       "\\item 55-64\n",
       "\\item 55-64\n",
       "\\item 55-64\n",
       "\\item 55-64\n",
       "\\item 55-64\n",
       "\\item 55-64\n",
       "\\item 55-64\n",
       "\\item 55-64\n",
       "\\item 55-64\n",
       "\\item 55-64\n",
       "\\item 55-64\n",
       "\\item 65-74\n",
       "\\item 65-74\n",
       "\\item 65-74\n",
       "\\item 65-74\n",
       "\\item 65-74\n",
       "\\item 65-74\n",
       "\\item 65-74\n",
       "\\item 65-74\n",
       "\\item 65-74\n",
       "\\item 65-74\n",
       "\\item 65-74\n",
       "\\item 65-74\n",
       "\\item 65-74\n",
       "\\item 65-74\n",
       "\\item 65-74\n",
       "\\item 75+\n",
       "\\item 75+\n",
       "\\item 75+\n",
       "\\item 75+\n",
       "\\item 75+\n",
       "\\item 75+\n",
       "\\item 75+\n",
       "\\item 75+\n",
       "\\item 75+\n",
       "\\item 75+\n",
       "\\item 75+\n",
       "\\end{enumerate*}\n"
      ],
      "text/markdown": [
       "1. 25-34\n",
       "2. 25-34\n",
       "3. 25-34\n",
       "4. 25-34\n",
       "5. 25-34\n",
       "6. 25-34\n",
       "7. 25-34\n",
       "8. 25-34\n",
       "9. 25-34\n",
       "10. 25-34\n",
       "11. 25-34\n",
       "12. 25-34\n",
       "13. 25-34\n",
       "14. 25-34\n",
       "15. 25-34\n",
       "16. 35-44\n",
       "17. 35-44\n",
       "18. 35-44\n",
       "19. 35-44\n",
       "20. 35-44\n",
       "21. 35-44\n",
       "22. 35-44\n",
       "23. 35-44\n",
       "24. 35-44\n",
       "25. 35-44\n",
       "26. 35-44\n",
       "27. 35-44\n",
       "28. 35-44\n",
       "29. 35-44\n",
       "30. 35-44\n",
       "31. 45-54\n",
       "32. 45-54\n",
       "33. 45-54\n",
       "34. 45-54\n",
       "35. 45-54\n",
       "36. 45-54\n",
       "37. 45-54\n",
       "38. 45-54\n",
       "39. 45-54\n",
       "40. 45-54\n",
       "41. 45-54\n",
       "42. 45-54\n",
       "43. 45-54\n",
       "44. 45-54\n",
       "45. 45-54\n",
       "46. 45-54\n",
       "47. 55-64\n",
       "48. 55-64\n",
       "49. 55-64\n",
       "50. 55-64\n",
       "51. 55-64\n",
       "52. 55-64\n",
       "53. 55-64\n",
       "54. 55-64\n",
       "55. 55-64\n",
       "56. 55-64\n",
       "57. 55-64\n",
       "58. 55-64\n",
       "59. 55-64\n",
       "60. 55-64\n",
       "61. 55-64\n",
       "62. 55-64\n",
       "63. 65-74\n",
       "64. 65-74\n",
       "65. 65-74\n",
       "66. 65-74\n",
       "67. 65-74\n",
       "68. 65-74\n",
       "69. 65-74\n",
       "70. 65-74\n",
       "71. 65-74\n",
       "72. 65-74\n",
       "73. 65-74\n",
       "74. 65-74\n",
       "75. 65-74\n",
       "76. 65-74\n",
       "77. 65-74\n",
       "78. 75+\n",
       "79. 75+\n",
       "80. 75+\n",
       "81. 75+\n",
       "82. 75+\n",
       "83. 75+\n",
       "84. 75+\n",
       "85. 75+\n",
       "86. 75+\n",
       "87. 75+\n",
       "88. 75+\n",
       "\n",
       "\n"
      ],
      "text/plain": [
       " [1] 25-34 25-34 25-34 25-34 25-34 25-34 25-34 25-34 25-34 25-34 25-34 25-34\n",
       "[13] 25-34 25-34 25-34 35-44 35-44 35-44 35-44 35-44 35-44 35-44 35-44 35-44\n",
       "[25] 35-44 35-44 35-44 35-44 35-44 35-44 45-54 45-54 45-54 45-54 45-54 45-54\n",
       "[37] 45-54 45-54 45-54 45-54 45-54 45-54 45-54 45-54 45-54 45-54 55-64 55-64\n",
       "[49] 55-64 55-64 55-64 55-64 55-64 55-64 55-64 55-64 55-64 55-64 55-64 55-64\n",
       "[61] 55-64 55-64 65-74 65-74 65-74 65-74 65-74 65-74 65-74 65-74 65-74 65-74\n",
       "[73] 65-74 65-74 65-74 65-74 65-74 75+   75+   75+   75+   75+   75+   75+  \n",
       "[85] 75+   75+   75+   75+  \n",
       "Levels: 25-34 < 35-44 < 45-54 < 55-64 < 65-74 < 75+"
      ]
     },
     "metadata": {},
     "output_type": "display_data"
    }
   ],
   "source": [
    "esoph$`agegp`"
   ]
  },
  {
   "cell_type": "code",
   "execution_count": 26,
   "metadata": {},
   "outputs": [
    {
     "ename": "ERROR",
     "evalue": "Error in eval(expr, envir, enclos): object 'ESOPH' not found\n",
     "output_type": "error",
     "traceback": [
      "Error in eval(expr, envir, enclos): object 'ESOPH' not found\nTraceback:\n"
     ]
    }
   ],
   "source": [
    "ESOPH[1,3]"
   ]
  },
  {
   "cell_type": "code",
   "execution_count": 29,
   "metadata": {},
   "outputs": [],
   "source": [
    "data(airquality)"
   ]
  },
  {
   "cell_type": "code",
   "execution_count": 30,
   "metadata": {},
   "outputs": [
    {
     "name": "stdout",
     "output_type": "stream",
     "text": [
      "'data.frame':\t153 obs. of  6 variables:\n",
      " $ Ozone  : int  41 36 12 18 NA 28 23 19 8 NA ...\n",
      " $ Solar.R: int  190 118 149 313 NA NA 299 99 19 194 ...\n",
      " $ Wind   : num  7.4 8 12.6 11.5 14.3 14.9 8.6 13.8 20.1 8.6 ...\n",
      " $ Temp   : int  67 72 74 62 56 66 65 59 61 69 ...\n",
      " $ Month  : int  5 5 5 5 5 5 5 5 5 5 ...\n",
      " $ Day    : int  1 2 3 4 5 6 7 8 9 10 ...\n"
     ]
    }
   ],
   "source": [
    "str(airquality)"
   ]
  },
  {
   "cell_type": "code",
   "execution_count": 32,
   "metadata": {},
   "outputs": [
    {
     "data": {
      "text/html": [
       "&lt;NA&gt;"
      ],
      "text/latex": [
       "<NA>"
      ],
      "text/markdown": [
       "&lt;NA&gt;"
      ],
      "text/plain": [
       "[1] NA"
      ]
     },
     "metadata": {},
     "output_type": "display_data"
    }
   ],
   "source": [
    "mean(airquality$Solar.R)"
   ]
  },
  {
   "cell_type": "code",
   "execution_count": 36,
   "metadata": {},
   "outputs": [
    {
     "data": {
      "text/html": [
       "185.931506849315"
      ],
      "text/latex": [
       "185.931506849315"
      ],
      "text/markdown": [
       "185.931506849315"
      ],
      "text/plain": [
       "[1] 185.9315"
      ]
     },
     "metadata": {},
     "output_type": "display_data"
    }
   ],
   "source": [
    "mean(airquality$Solar.R, na.rm=TRUE)"
   ]
  },
  {
   "cell_type": "markdown",
   "metadata": {},
   "source": [
    "standard deviation\n",
    "nounSTATISTICS\n",
    "a quantity expressing by how much the members of a group differ from the mean value for the group."
   ]
  },
  {
   "cell_type": "markdown",
   "metadata": {},
   "source": [
    "variance = square of standard deviation"
   ]
  },
  {
   "cell_type": "code",
   "execution_count": 39,
   "metadata": {
    "collapsed": true
   },
   "outputs": [],
   "source": [
    "help(read.csv)"
   ]
  },
  {
   "cell_type": "code",
   "execution_count": 40,
   "metadata": {
    "collapsed": true
   },
   "outputs": [],
   "source": [
    "library(nnet)"
   ]
  },
  {
   "cell_type": "code",
   "execution_count": 41,
   "metadata": {},
   "outputs": [
    {
     "name": "stderr",
     "output_type": "stream",
     "text": [
      "Installing package into 'C:/Users/theo0007/Documents/R/win-library/3.4'\n",
      "(as 'lib' is unspecified)\n",
      "Warning message:\n",
      "\"package 'nnet' is in use and will not be installed\""
     ]
    }
   ],
   "source": [
    "install.packages(\"nnet\",repos = \"http://cran.us.r-project.org\")\n",
    "library(nnet)"
   ]
  },
  {
   "cell_type": "code",
   "execution_count": 42,
   "metadata": {},
   "outputs": [
    {
     "name": "stderr",
     "output_type": "stream",
     "text": [
      "Removing package from 'C:/Users/theo0007/Documents/R/win-library/3.4'\n",
      "(as 'lib' is unspecified)\n"
     ]
    },
    {
     "ename": "ERROR",
     "evalue": "Error in find.package(pkgs, lib): there is no package called 'nnet'\n",
     "output_type": "error",
     "traceback": [
      "Error in find.package(pkgs, lib): there is no package called 'nnet'\nTraceback:\n",
      "1. remove.packages(\"nnet\")",
      "2. find.package(pkgs, lib)",
      "3. stop(gettextf(\"there is no package called %s\", sQuote(pkg)), \n .     domain = NA)"
     ]
    }
   ],
   "source": [
    "detach(\"package:nnet\", unload=TRUE)\n",
    "remove.packages(\"nnet\")"
   ]
  },
  {
   "cell_type": "code",
   "execution_count": 43,
   "metadata": {
    "collapsed": true
   },
   "outputs": [],
   "source": [
    "x = 1:4"
   ]
  },
  {
   "cell_type": "code",
   "execution_count": null,
   "metadata": {
    "collapsed": true
   },
   "outputs": [],
   "source": [
    "y"
   ]
  }
 ],
 "metadata": {
  "kernelspec": {
   "display_name": "R",
   "language": "R",
   "name": "ir"
  },
  "language_info": {
   "codemirror_mode": "r",
   "file_extension": ".r",
   "mimetype": "text/x-r-source",
   "name": "R",
   "pygments_lexer": "r",
   "version": "3.4.3"
  }
 },
 "nbformat": 4,
 "nbformat_minor": 2
}
