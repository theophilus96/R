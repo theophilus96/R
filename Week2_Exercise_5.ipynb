{
 "cells": [
  {
   "cell_type": "markdown",
   "metadata": {
    "nbpresent": {
     "id": "09c85bab-64bd-4b4b-b8fb-31159fe7ca37"
    }
   },
   "source": [
    "Run the following code to import library and read data."
   ]
  },
  {
   "cell_type": "code",
   "execution_count": 2,
   "metadata": {
    "nbpresent": {
     "id": "30248960-5166-415a-a908-d6d4e3a23434"
    }
   },
   "outputs": [
    {
     "name": "stderr",
     "output_type": "stream",
     "text": [
      "\n",
      "Attaching package: 'dplyr'\n",
      "\n",
      "The following objects are masked from 'package:stats':\n",
      "\n",
      "    filter, lag\n",
      "\n",
      "The following objects are masked from 'package:base':\n",
      "\n",
      "    intersect, setdiff, setequal, union\n",
      "\n"
     ]
    }
   ],
   "source": [
    "library(dplyr) # import dplyr package for data wrangling \n",
    "data <- read.csv(\"Titanic.csv\", na.strings=c(\"NA\")) # read data"
   ]
  },
  {
   "cell_type": "markdown",
   "metadata": {},
   "source": [
    "Exercise 5.1. Find number of passengers grouped by PClass."
   ]
  },
  {
   "cell_type": "code",
   "execution_count": 4,
   "metadata": {},
   "outputs": [
    {
     "data": {
      "text/html": [
       "<table>\n",
       "<thead><tr><th scope=col>PClass</th><th scope=col>Passengers</th></tr></thead>\n",
       "<tbody>\n",
       "\t<tr><td>1st</td><td>322</td></tr>\n",
       "\t<tr><td>2nd</td><td>279</td></tr>\n",
       "\t<tr><td>3rd</td><td>711</td></tr>\n",
       "</tbody>\n",
       "</table>\n"
      ],
      "text/latex": [
       "\\begin{tabular}{r|ll}\n",
       " PClass & Passengers\\\\\n",
       "\\hline\n",
       "\t 1st & 322\\\\\n",
       "\t 2nd & 279\\\\\n",
       "\t 3rd & 711\\\\\n",
       "\\end{tabular}\n"
      ],
      "text/markdown": [
       "\n",
       "PClass | Passengers | \n",
       "|---|---|---|\n",
       "| 1st | 322 | \n",
       "| 2nd | 279 | \n",
       "| 3rd | 711 | \n",
       "\n",
       "\n"
      ],
      "text/plain": [
       "  PClass Passengers\n",
       "1 1st    322       \n",
       "2 2nd    279       \n",
       "3 3rd    711       "
      ]
     },
     "metadata": {},
     "output_type": "display_data"
    }
   ],
   "source": [
    "# code for Exercise 5\n",
    "data %>% \n",
    "group_by(PClass) %>%\n",
    "summarise(Passengers =n())"
   ]
  },
  {
   "cell_type": "markdown",
   "metadata": {},
   "source": [
    "Exercise 5.2. Find the number of passengers grouped by `PClass` and `Sex`. "
   ]
  },
  {
   "cell_type": "code",
   "execution_count": 7,
   "metadata": {},
   "outputs": [
    {
     "data": {
      "text/html": [
       "<table>\n",
       "<thead><tr><th scope=col>PClass</th><th scope=col>Sex</th><th scope=col>Passengers</th></tr></thead>\n",
       "<tbody>\n",
       "\t<tr><td>1st   </td><td>female</td><td>143   </td></tr>\n",
       "\t<tr><td>1st   </td><td>male  </td><td>179   </td></tr>\n",
       "\t<tr><td>2nd   </td><td>female</td><td>107   </td></tr>\n",
       "\t<tr><td>2nd   </td><td>male  </td><td>172   </td></tr>\n",
       "\t<tr><td>3rd   </td><td>female</td><td>212   </td></tr>\n",
       "\t<tr><td>3rd   </td><td>male  </td><td>499   </td></tr>\n",
       "</tbody>\n",
       "</table>\n"
      ],
      "text/latex": [
       "\\begin{tabular}{r|lll}\n",
       " PClass & Sex & Passengers\\\\\n",
       "\\hline\n",
       "\t 1st    & female & 143   \\\\\n",
       "\t 1st    & male   & 179   \\\\\n",
       "\t 2nd    & female & 107   \\\\\n",
       "\t 2nd    & male   & 172   \\\\\n",
       "\t 3rd    & female & 212   \\\\\n",
       "\t 3rd    & male   & 499   \\\\\n",
       "\\end{tabular}\n"
      ],
      "text/markdown": [
       "\n",
       "PClass | Sex | Passengers | \n",
       "|---|---|---|---|---|---|\n",
       "| 1st    | female | 143    | \n",
       "| 1st    | male   | 179    | \n",
       "| 2nd    | female | 107    | \n",
       "| 2nd    | male   | 172    | \n",
       "| 3rd    | female | 212    | \n",
       "| 3rd    | male   | 499    | \n",
       "\n",
       "\n"
      ],
      "text/plain": [
       "  PClass Sex    Passengers\n",
       "1 1st    female 143       \n",
       "2 1st    male   179       \n",
       "3 2nd    female 107       \n",
       "4 2nd    male   172       \n",
       "5 3rd    female 212       \n",
       "6 3rd    male   499       "
      ]
     },
     "metadata": {},
     "output_type": "display_data"
    }
   ],
   "source": [
    "# code for Exercise 5.2:\n",
    "data %>%\n",
    "group_by(PClass, Sex) %>%\n",
    "summarise(Passengers =n())"
   ]
  },
  {
   "cell_type": "markdown",
   "metadata": {
    "nbpresent": {
     "id": "b105392f-323d-4751-9609-54bd0325f0e1"
    }
   },
   "source": [
    "Exercise 5.3. Find the age of the oldest female and male passenger that hold `1st` class ticket (`PClass` == \"1st\"). "
   ]
  },
  {
   "cell_type": "code",
   "execution_count": 29,
   "metadata": {},
   "outputs": [
    {
     "data": {
      "text/html": [
       "<table>\n",
       "<thead><tr><th scope=col>Sex</th><th scope=col>Max_Age</th></tr></thead>\n",
       "<tbody>\n",
       "\t<tr><td>female</td><td>69    </td></tr>\n",
       "\t<tr><td>male  </td><td>71    </td></tr>\n",
       "</tbody>\n",
       "</table>\n"
      ],
      "text/latex": [
       "\\begin{tabular}{r|ll}\n",
       " Sex & Max\\_Age\\\\\n",
       "\\hline\n",
       "\t female & 69    \\\\\n",
       "\t male   & 71    \\\\\n",
       "\\end{tabular}\n"
      ],
      "text/markdown": [
       "\n",
       "Sex | Max_Age | \n",
       "|---|---|\n",
       "| female | 69     | \n",
       "| male   | 71     | \n",
       "\n",
       "\n"
      ],
      "text/plain": [
       "  Sex    Max_Age\n",
       "1 female 69     \n",
       "2 male   71     "
      ]
     },
     "metadata": {},
     "output_type": "display_data"
    }
   ],
   "source": [
    "# code for Exercise 5.3:\n",
    "data %>%\n",
    "mutate(Max_Age=max(Age,na.rm =TRUE)) %>%\n",
    "filter(PClass ==\"1st\")%>%\n",
    "group_by(Sex) %>%\n",
    "summarise(Max_Age=max(Age,na.rm =TRUE))"
   ]
  },
  {
   "cell_type": "markdown",
   "metadata": {},
   "source": [
    "Exercise 5.4. Extract only passengers with Age information. Add a column `Age_Group`, with value \"Adult\" if Age > 18 and \"Children\" otherwise. Then find the number of passengers grouped by `Age_Group`. "
   ]
  },
  {
   "cell_type": "code",
   "execution_count": 27,
   "metadata": {},
   "outputs": [
    {
     "data": {
      "text/html": [
       "<table>\n",
       "<thead><tr><th scope=col>Age_Group</th><th scope=col>Passenger</th></tr></thead>\n",
       "<tbody>\n",
       "\t<tr><td>Adult   </td><td>630     </td></tr>\n",
       "\t<tr><td>Children</td><td>126     </td></tr>\n",
       "</tbody>\n",
       "</table>\n"
      ],
      "text/latex": [
       "\\begin{tabular}{r|ll}\n",
       " Age\\_Group & Passenger\\\\\n",
       "\\hline\n",
       "\t Adult    & 630     \\\\\n",
       "\t Children & 126     \\\\\n",
       "\\end{tabular}\n"
      ],
      "text/markdown": [
       "\n",
       "Age_Group | Passenger | \n",
       "|---|---|\n",
       "| Adult    | 630      | \n",
       "| Children | 126      | \n",
       "\n",
       "\n"
      ],
      "text/plain": [
       "  Age_Group Passenger\n",
       "1 Adult     630      \n",
       "2 Children  126      "
      ]
     },
     "metadata": {},
     "output_type": "display_data"
    }
   ],
   "source": [
    "# code for Exercise 5.4:\n",
    "data%>%\n",
    "filter(!is.na(Age))%>%\n",
    "mutate(Age_Group = ifelse(Age>18, \"Adult\",\"Children\"))%>%\n",
    "group_by(Age_Group)%>%\n",
    "#filter(!is.na(Age_Group))%>%\n",
    "summarise(Passenger =n())"
   ]
  },
  {
   "cell_type": "markdown",
   "metadata": {},
   "source": [
    "Exercise 5.5. Extract only passengers with Age information. Add a column `Age_Group`, with value \"Adult\" if Age > 18 and \"Children\" otherwise. Then find the number of survivers (`Survived` == 1) grouped by `Age_Group`. "
   ]
  },
  {
   "cell_type": "code",
   "execution_count": 30,
   "metadata": {},
   "outputs": [
    {
     "data": {
      "text/html": [
       "<table>\n",
       "<thead><tr><th scope=col>Age_Group</th><th scope=col>Passenger</th></tr></thead>\n",
       "<tbody>\n",
       "\t<tr><td>Adult   </td><td>244     </td></tr>\n",
       "\t<tr><td>Children</td><td> 69     </td></tr>\n",
       "</tbody>\n",
       "</table>\n"
      ],
      "text/latex": [
       "\\begin{tabular}{r|ll}\n",
       " Age\\_Group & Passenger\\\\\n",
       "\\hline\n",
       "\t Adult    & 244     \\\\\n",
       "\t Children &  69     \\\\\n",
       "\\end{tabular}\n"
      ],
      "text/markdown": [
       "\n",
       "Age_Group | Passenger | \n",
       "|---|---|\n",
       "| Adult    | 244      | \n",
       "| Children |  69      | \n",
       "\n",
       "\n"
      ],
      "text/plain": [
       "  Age_Group Passenger\n",
       "1 Adult     244      \n",
       "2 Children   69      "
      ]
     },
     "metadata": {},
     "output_type": "display_data"
    }
   ],
   "source": [
    "# code for Exercise 5.5:\n",
    "data %>%\n",
    "filter(!is.na(Age)) %>%\n",
    "mutate(Age_Group = ifelse(Age>18, \"Adult\",\"Children\"))%>%\n",
    "filter(Survived == 1)%>%\n",
    "group_by(Age_Group)%>%\n",
    "summarise(Passenger =n())"
   ]
  },
  {
   "cell_type": "markdown",
   "metadata": {},
   "source": [
    "Exercise 5.6. Extract only passengers with Age information. Add a column `Age_Group`, with value \"Adult\" if Age > 18 and \"Children\" otherwise. Then select columns `Name`, `PClass`, `Survived` and `Age_Group`. Then find average value of `Survived` grouped by `PClass` and `Age_Group`, call the new summary column `Survival_Rate`. Finally, sort the data frame by `Survival_Rate` in descending order."
   ]
  },
  {
   "cell_type": "code",
   "execution_count": 36,
   "metadata": {},
   "outputs": [
    {
     "data": {
      "text/html": [
       "<table>\n",
       "<thead><tr><th scope=col>PClass</th><th scope=col>Age_Group</th><th scope=col>Survival_Rate</th></tr></thead>\n",
       "<tbody>\n",
       "\t<tr><td>1st      </td><td>Children </td><td>0.8823529</td></tr>\n",
       "\t<tr><td>2nd      </td><td>Children </td><td>0.7777778</td></tr>\n",
       "\t<tr><td>1st      </td><td>Adult    </td><td>0.5933014</td></tr>\n",
       "\t<tr><td>2nd      </td><td>Adult    </td><td>0.3863636</td></tr>\n",
       "\t<tr><td>3rd      </td><td>Children </td><td>0.3561644</td></tr>\n",
       "\t<tr><td>3rd      </td><td>Adult    </td><td>0.2122449</td></tr>\n",
       "</tbody>\n",
       "</table>\n"
      ],
      "text/latex": [
       "\\begin{tabular}{r|lll}\n",
       " PClass & Age\\_Group & Survival\\_Rate\\\\\n",
       "\\hline\n",
       "\t 1st       & Children  & 0.8823529\\\\\n",
       "\t 2nd       & Children  & 0.7777778\\\\\n",
       "\t 1st       & Adult     & 0.5933014\\\\\n",
       "\t 2nd       & Adult     & 0.3863636\\\\\n",
       "\t 3rd       & Children  & 0.3561644\\\\\n",
       "\t 3rd       & Adult     & 0.2122449\\\\\n",
       "\\end{tabular}\n"
      ],
      "text/markdown": [
       "\n",
       "PClass | Age_Group | Survival_Rate | \n",
       "|---|---|---|---|---|---|\n",
       "| 1st       | Children  | 0.8823529 | \n",
       "| 2nd       | Children  | 0.7777778 | \n",
       "| 1st       | Adult     | 0.5933014 | \n",
       "| 2nd       | Adult     | 0.3863636 | \n",
       "| 3rd       | Children  | 0.3561644 | \n",
       "| 3rd       | Adult     | 0.2122449 | \n",
       "\n",
       "\n"
      ],
      "text/plain": [
       "  PClass Age_Group Survival_Rate\n",
       "1 1st    Children  0.8823529    \n",
       "2 2nd    Children  0.7777778    \n",
       "3 1st    Adult     0.5933014    \n",
       "4 2nd    Adult     0.3863636    \n",
       "5 3rd    Children  0.3561644    \n",
       "6 3rd    Adult     0.2122449    "
      ]
     },
     "metadata": {},
     "output_type": "display_data"
    }
   ],
   "source": [
    "# code for Exercise 5.6:\n",
    "data %>%\n",
    "filter(!is.na(Age)) %>%\n",
    "mutate(Age_Group = ifelse(Age>18, \"Adult\",\"Children\"))%>%\n",
    "select(Name,PClass, Survived, Age_Group)%>%\n",
    "group_by(PClass,Age_Group) %>%\n",
    "summarise(Survival_Rate =mean(Survived)) %>%\n",
    "arrange(desc(Survival_Rate))\n",
    "#summarise(Passenger =n())"
   ]
  },
  {
   "cell_type": "code",
   "execution_count": null,
   "metadata": {
    "collapsed": true
   },
   "outputs": [],
   "source": []
  }
 ],
 "metadata": {
  "anaconda-cloud": {},
  "kernelspec": {
   "display_name": "R",
   "language": "R",
   "name": "ir"
  },
  "language_info": {
   "codemirror_mode": "r",
   "file_extension": ".r",
   "mimetype": "text/x-r-source",
   "name": "R",
   "pygments_lexer": "r",
   "version": "3.4.3"
  },
  "nbpresent": {
   "slides": {
    "037d994f-b6de-4ed8-9958-170a56092b39": {
     "id": "037d994f-b6de-4ed8-9958-170a56092b39",
     "prev": "f99c1815-0594-49d9-b4a6-38db28a1f981",
     "regions": {
      "37f0a335-65b1-445f-a395-db357ab01119": {
       "attrs": {
        "height": 0.8,
        "width": 0.8,
        "x": 0.1,
        "y": 0.1
       },
       "content": {
        "cell": "f211b74a-02c1-4f5c-a141-ab15f23fd870",
        "part": "whole"
       },
       "id": "37f0a335-65b1-445f-a395-db357ab01119"
      }
     }
    },
    "060d6da1-97c1-481b-823c-b3c77259fca7": {
     "id": "060d6da1-97c1-481b-823c-b3c77259fca7",
     "prev": "5f566194-09f1-436c-ac43-fe638d2bb884",
     "regions": {
      "d0b5765e-ede3-4cd3-9ef1-048b2c8baf77": {
       "attrs": {
        "height": 0.8,
        "width": 0.8,
        "x": 0.1,
        "y": 0.1
       },
       "content": {
        "cell": "6fa8daa0-5a50-49aa-b02f-3d2eb667cfd8",
        "part": "whole"
       },
       "id": "d0b5765e-ede3-4cd3-9ef1-048b2c8baf77"
      }
     }
    },
    "08e66a80-ccc5-4849-adc3-449bfa5fe5ef": {
     "id": "08e66a80-ccc5-4849-adc3-449bfa5fe5ef",
     "prev": "3d501e6f-83c3-4d2b-a1d2-63ed4ffd669b",
     "regions": {
      "d8e9d007-2977-4ef6-b380-c5bd3013511d": {
       "attrs": {
        "height": 0.8,
        "width": 0.8,
        "x": 0.1,
        "y": 0.1
       },
       "content": {
        "cell": "62575982-17b0-47ed-a124-d3be68646120",
        "part": "whole"
       },
       "id": "d8e9d007-2977-4ef6-b380-c5bd3013511d"
      }
     }
    },
    "127f7ddf-d6f9-48bc-ba2d-5f1a755e33fb": {
     "id": "127f7ddf-d6f9-48bc-ba2d-5f1a755e33fb",
     "prev": "72acae5a-9cf4-4106-933f-029db77156bc",
     "regions": {
      "f5d4659e-65fc-423c-9c83-b01b1f2ec3f7": {
       "attrs": {
        "height": 0.8,
        "width": 0.8,
        "x": 0.1,
        "y": 0.1
       },
       "content": {
        "cell": "cdabcf10-7540-479d-b862-2ac5081394b6",
        "part": "whole"
       },
       "id": "f5d4659e-65fc-423c-9c83-b01b1f2ec3f7"
      }
     }
    },
    "165e09c7-bbd1-4084-9aff-a048766875cc": {
     "id": "165e09c7-bbd1-4084-9aff-a048766875cc",
     "prev": null,
     "regions": {
      "238b46c8-62e0-4de3-b50a-34ac24df7731": {
       "attrs": {
        "height": 0.8,
        "width": 0.8,
        "x": 0.1,
        "y": 0.1
       },
       "content": {
        "cell": "09c85bab-64bd-4b4b-b8fb-31159fe7ca37",
        "part": "whole"
       },
       "id": "238b46c8-62e0-4de3-b50a-34ac24df7731"
      }
     }
    },
    "184bbb61-bcc2-4b69-8999-3003a1ff1826": {
     "id": "184bbb61-bcc2-4b69-8999-3003a1ff1826",
     "prev": "4032a710-c3f4-4f48-bf95-7d25a67fb185",
     "regions": {
      "7ba39599-d99b-4d05-ba1f-e2f9ddf0eccb": {
       "attrs": {
        "height": 0.8,
        "width": 0.8,
        "x": 0.1,
        "y": 0.1
       },
       "content": {
        "cell": "613a6222-a014-4235-afba-c30af848f091",
        "part": "whole"
       },
       "id": "7ba39599-d99b-4d05-ba1f-e2f9ddf0eccb"
      }
     }
    },
    "189a8448-123c-453e-91ac-837b87f4c52f": {
     "id": "189a8448-123c-453e-91ac-837b87f4c52f",
     "prev": "060d6da1-97c1-481b-823c-b3c77259fca7",
     "regions": {
      "95b47586-50eb-47b4-906f-8bbdce003201": {
       "attrs": {
        "height": 0.8,
        "width": 0.8,
        "x": 0.1,
        "y": 0.1
       },
       "content": {
        "cell": "e154db37-0823-4b9c-9e33-6e3e45067c23",
        "part": "whole"
       },
       "id": "95b47586-50eb-47b4-906f-8bbdce003201"
      }
     }
    },
    "2a15b19c-721e-4309-8dc3-2767a9262c5e": {
     "id": "2a15b19c-721e-4309-8dc3-2767a9262c5e",
     "prev": "184bbb61-bcc2-4b69-8999-3003a1ff1826",
     "regions": {
      "4a81144e-9bc9-4229-8c71-4581b13cf463": {
       "attrs": {
        "height": 0.8,
        "width": 0.8,
        "x": 0.1,
        "y": 0.1
       },
       "content": {
        "cell": "6bba0292-12f7-4f35-849c-3adb3b915de9",
        "part": "whole"
       },
       "id": "4a81144e-9bc9-4229-8c71-4581b13cf463"
      }
     }
    },
    "2a8c384f-5eaa-416c-a129-bd48f289fece": {
     "id": "2a8c384f-5eaa-416c-a129-bd48f289fece",
     "prev": "a72d566b-3564-450d-803c-811a2e98e014",
     "regions": {
      "ec0d67be-e14f-44f8-a4b1-7a6b202bd3b8": {
       "attrs": {
        "height": 0.8,
        "width": 0.8,
        "x": 0.1,
        "y": 0.1
       },
       "content": {
        "cell": "b10664db-f67a-4b04-8b7a-edec9d65b8b2",
        "part": "whole"
       },
       "id": "ec0d67be-e14f-44f8-a4b1-7a6b202bd3b8"
      }
     }
    },
    "3013eaf0-1eb9-4115-a74a-2e386691f07d": {
     "id": "3013eaf0-1eb9-4115-a74a-2e386691f07d",
     "prev": "c5e98f18-a0fb-4365-9b37-19db45e9c0f1",
     "regions": {
      "dadf18ff-3d08-46e9-b74c-87131629f42a": {
       "attrs": {
        "height": 0.8,
        "width": 0.8,
        "x": 0.1,
        "y": 0.1
       },
       "content": {
        "cell": "e6065c64-81a1-48ab-89ae-230b5462d7c2",
        "part": "whole"
       },
       "id": "dadf18ff-3d08-46e9-b74c-87131629f42a"
      }
     }
    },
    "3aa278f9-1a89-496a-a3e2-dffc230a350d": {
     "id": "3aa278f9-1a89-496a-a3e2-dffc230a350d",
     "prev": "e2fbd982-c138-4d75-ac97-197ae3d6742f",
     "regions": {
      "a336704b-d60b-48d7-a21f-d352aecd5724": {
       "attrs": {
        "height": 0.8,
        "width": 0.8,
        "x": 0.1,
        "y": 0.1
       },
       "content": {
        "cell": "5289d41d-da2e-47dc-80a3-63992c8a86a0",
        "part": "whole"
       },
       "id": "a336704b-d60b-48d7-a21f-d352aecd5724"
      }
     }
    },
    "3d501e6f-83c3-4d2b-a1d2-63ed4ffd669b": {
     "id": "3d501e6f-83c3-4d2b-a1d2-63ed4ffd669b",
     "prev": "7d111e5d-8c4d-4983-a708-52ac154024b6",
     "regions": {
      "ff3c6ba0-25af-4880-bf0e-718997aa7a6d": {
       "attrs": {
        "height": 0.8,
        "width": 0.8,
        "x": 0.1,
        "y": 0.1
       },
       "content": {
        "cell": "46ca8126-4f24-46cc-be56-39dd744a9d80",
        "part": "whole"
       },
       "id": "ff3c6ba0-25af-4880-bf0e-718997aa7a6d"
      }
     }
    },
    "4032a710-c3f4-4f48-bf95-7d25a67fb185": {
     "id": "4032a710-c3f4-4f48-bf95-7d25a67fb185",
     "prev": "87092331-e05c-4411-9cfa-ee6ca5cefbc7",
     "regions": {
      "9cc776f3-0522-4ebe-a448-e2a0148ff531": {
       "attrs": {
        "height": 0.8,
        "width": 0.8,
        "x": 0.1,
        "y": 0.1
       },
       "content": {
        "cell": "9ed455c9-7c52-4e94-a3b7-da6264ea1b25",
        "part": "whole"
       },
       "id": "9cc776f3-0522-4ebe-a448-e2a0148ff531"
      }
     }
    },
    "43f95af2-3a38-45fa-aac9-2527905284ea": {
     "id": "43f95af2-3a38-45fa-aac9-2527905284ea",
     "prev": "cfce1e41-bd03-4f35-ac4c-a086e9f9eb5d",
     "regions": {
      "83564c2b-c332-4917-b705-32a6c96c3bfd": {
       "attrs": {
        "height": 0.8,
        "width": 0.8,
        "x": 0.1,
        "y": 0.1
       },
       "content": {
        "cell": "a2aa2619-ad43-46b8-87a5-ffcf2aa5e0b3",
        "part": "whole"
       },
       "id": "83564c2b-c332-4917-b705-32a6c96c3bfd"
      }
     }
    },
    "45fe1251-5f24-42a5-bd2f-e52699b44935": {
     "id": "45fe1251-5f24-42a5-bd2f-e52699b44935",
     "prev": "53db062a-5e1d-4e62-b54b-0f5422e09301",
     "regions": {
      "77315f0d-f653-4078-9a47-8ad9152d5376": {
       "attrs": {
        "height": 0.8,
        "width": 0.8,
        "x": 0.1,
        "y": 0.1
       },
       "content": {
        "cell": "21ec7619-3b05-4f2e-90bc-98c03cc7fe1f",
        "part": "whole"
       },
       "id": "77315f0d-f653-4078-9a47-8ad9152d5376"
      }
     }
    },
    "53db062a-5e1d-4e62-b54b-0f5422e09301": {
     "id": "53db062a-5e1d-4e62-b54b-0f5422e09301",
     "prev": "2a15b19c-721e-4309-8dc3-2767a9262c5e",
     "regions": {
      "b02973f5-07b3-45df-aab9-f587bd464b08": {
       "attrs": {
        "height": 0.8,
        "width": 0.8,
        "x": 0.1,
        "y": 0.1
       },
       "content": {
        "cell": "bc1a8e5b-fcb3-492c-8a12-90391166b6f4",
        "part": "whole"
       },
       "id": "b02973f5-07b3-45df-aab9-f587bd464b08"
      }
     }
    },
    "5ae57a89-fc55-4fcc-b22f-f7271836c305": {
     "id": "5ae57a89-fc55-4fcc-b22f-f7271836c305",
     "prev": "b62e5716-5847-4cf9-959a-b7adcc1b20ef",
     "regions": {
      "af4301f5-559a-4e5d-9e4b-e89becdf95a9": {
       "attrs": {
        "height": 0.8,
        "width": 0.8,
        "x": 0.1,
        "y": 0.1
       },
       "content": {
        "cell": "16912f32-f314-4833-a575-99fa8bdaa0f9",
        "part": "whole"
       },
       "id": "af4301f5-559a-4e5d-9e4b-e89becdf95a9"
      }
     }
    },
    "5f566194-09f1-436c-ac43-fe638d2bb884": {
     "id": "5f566194-09f1-436c-ac43-fe638d2bb884",
     "prev": "c8c84d6d-83b7-4a2b-81a0-aa08b5db606e",
     "regions": {
      "d50c0e6b-014f-45e2-a691-0c9b26d52cbf": {
       "attrs": {
        "height": 0.8,
        "width": 0.8,
        "x": 0.1,
        "y": 0.1
       },
       "content": {
        "cell": "b105392f-323d-4751-9609-54bd0325f0e1",
        "part": "whole"
       },
       "id": "d50c0e6b-014f-45e2-a691-0c9b26d52cbf"
      }
     }
    },
    "653e40a9-f90d-4e96-9c3a-cc0496bf63dc": {
     "id": "653e40a9-f90d-4e96-9c3a-cc0496bf63dc",
     "prev": "934f04be-37a9-4b4d-b3c2-7033bd37ecde",
     "regions": {
      "c2711c63-f19e-4012-a288-0cfa7ff5b417": {
       "attrs": {
        "height": 0.8,
        "width": 0.8,
        "x": 0.1,
        "y": 0.1
       },
       "content": {
        "cell": "08988c3b-64cd-48d0-a4f6-4b638c3fc0b9",
        "part": "whole"
       },
       "id": "c2711c63-f19e-4012-a288-0cfa7ff5b417"
      }
     }
    },
    "72acae5a-9cf4-4106-933f-029db77156bc": {
     "id": "72acae5a-9cf4-4106-933f-029db77156bc",
     "prev": "3aa278f9-1a89-496a-a3e2-dffc230a350d",
     "regions": {
      "30441cb5-c56b-4581-91bc-bf3445a22177": {
       "attrs": {
        "height": 0.8,
        "width": 0.8,
        "x": 0.1,
        "y": 0.1
       },
       "content": {
        "cell": "f5029f70-616e-4d5a-a31e-88f28fbc3b3e",
        "part": "whole"
       },
       "id": "30441cb5-c56b-4581-91bc-bf3445a22177"
      }
     }
    },
    "7d111e5d-8c4d-4983-a708-52ac154024b6": {
     "id": "7d111e5d-8c4d-4983-a708-52ac154024b6",
     "prev": "037d994f-b6de-4ed8-9958-170a56092b39",
     "regions": {
      "32bd581a-dcb2-4081-83e9-db01a8c61d8b": {
       "attrs": {
        "height": 0.8,
        "width": 0.8,
        "x": 0.1,
        "y": 0.1
       },
       "content": {
        "cell": "fc2879a2-4cee-480f-b05a-4d5827cad4cb",
        "part": "whole"
       },
       "id": "32bd581a-dcb2-4081-83e9-db01a8c61d8b"
      }
     }
    },
    "87092331-e05c-4411-9cfa-ee6ca5cefbc7": {
     "id": "87092331-e05c-4411-9cfa-ee6ca5cefbc7",
     "prev": "2a8c384f-5eaa-416c-a129-bd48f289fece",
     "regions": {
      "83217bed-9a51-46ea-80dc-7f05e56601d7": {
       "attrs": {
        "height": 0.8,
        "width": 0.8,
        "x": 0.1,
        "y": 0.1
       },
       "content": {
        "cell": "a2666c2d-d268-4943-91cd-668ce69be9bf",
        "part": "whole"
       },
       "id": "83217bed-9a51-46ea-80dc-7f05e56601d7"
      }
     }
    },
    "88e78a8c-b3c3-426c-9daf-001fbca578c0": {
     "id": "88e78a8c-b3c3-426c-9daf-001fbca578c0",
     "prev": "f640a13f-4d82-4684-9958-adb7dbd17370",
     "regions": {
      "df760d39-1832-4a05-a1fb-2341a1e09c93": {
       "attrs": {
        "height": 0.8,
        "width": 0.8,
        "x": 0.1,
        "y": 0.1
       },
       "content": {
        "cell": "4dd63516-02e8-465f-8989-9f578470492d",
        "part": "whole"
       },
       "id": "df760d39-1832-4a05-a1fb-2341a1e09c93"
      }
     }
    },
    "934f04be-37a9-4b4d-b3c2-7033bd37ecde": {
     "id": "934f04be-37a9-4b4d-b3c2-7033bd37ecde",
     "prev": "5ae57a89-fc55-4fcc-b22f-f7271836c305",
     "regions": {
      "d599307c-6699-427f-a19e-372e155d9442": {
       "attrs": {
        "height": 0.8,
        "width": 0.8,
        "x": 0.1,
        "y": 0.1
       },
       "content": {
        "cell": "3f90a2cb-cb76-431b-858d-a552dffe28d8",
        "part": "whole"
       },
       "id": "d599307c-6699-427f-a19e-372e155d9442"
      }
     }
    },
    "a72d566b-3564-450d-803c-811a2e98e014": {
     "id": "a72d566b-3564-450d-803c-811a2e98e014",
     "prev": "3013eaf0-1eb9-4115-a74a-2e386691f07d",
     "regions": {
      "9f8e5877-ed2d-4e3b-ba10-8395915d7c61": {
       "attrs": {
        "height": 0.8,
        "width": 0.8,
        "x": 0.1,
        "y": 0.1
       },
       "content": {
        "cell": "01fb2ffb-bfe4-4b73-9116-2f2dc20ccb52",
        "part": "whole"
       },
       "id": "9f8e5877-ed2d-4e3b-ba10-8395915d7c61"
      }
     }
    },
    "b62e5716-5847-4cf9-959a-b7adcc1b20ef": {
     "id": "b62e5716-5847-4cf9-959a-b7adcc1b20ef",
     "prev": "eaab4f5e-5ace-4025-b0f1-165754fb6d3d",
     "regions": {
      "f3621dc3-62e2-4479-ba98-a6f1f77ebf38": {
       "attrs": {
        "height": 0.8,
        "width": 0.8,
        "x": 0.1,
        "y": 0.1
       },
       "content": {
        "cell": "5d4f88a6-7241-4e46-8249-d50273fcf6db",
        "part": "whole"
       },
       "id": "f3621dc3-62e2-4479-ba98-a6f1f77ebf38"
      }
     }
    },
    "c2271e71-a302-42e2-86f9-a6a08f8b6aec": {
     "id": "c2271e71-a302-42e2-86f9-a6a08f8b6aec",
     "prev": "165e09c7-bbd1-4084-9aff-a048766875cc",
     "regions": {
      "041db447-bbb4-4163-bd58-104a84be857a": {
       "attrs": {
        "height": 0.8,
        "width": 0.8,
        "x": 0.1,
        "y": 0.1
       },
       "content": {
        "cell": "30248960-5166-415a-a908-d6d4e3a23434",
        "part": "whole"
       },
       "id": "041db447-bbb4-4163-bd58-104a84be857a"
      }
     }
    },
    "c5e98f18-a0fb-4365-9b37-19db45e9c0f1": {
     "id": "c5e98f18-a0fb-4365-9b37-19db45e9c0f1",
     "prev": "189a8448-123c-453e-91ac-837b87f4c52f",
     "regions": {
      "e4ef0b75-fac6-4a29-8e70-d8e288113551": {
       "attrs": {
        "height": 0.8,
        "width": 0.8,
        "x": 0.1,
        "y": 0.1
       },
       "content": {
        "cell": "8286f07a-5e70-4423-a3f0-bd54f49f8cd4",
        "part": "whole"
       },
       "id": "e4ef0b75-fac6-4a29-8e70-d8e288113551"
      }
     }
    },
    "c8c84d6d-83b7-4a2b-81a0-aa08b5db606e": {
     "id": "c8c84d6d-83b7-4a2b-81a0-aa08b5db606e",
     "prev": "c2271e71-a302-42e2-86f9-a6a08f8b6aec",
     "regions": {
      "4d30b2fb-54ae-41f8-a8c9-e820c775d124": {
       "attrs": {
        "height": 0.8,
        "width": 0.8,
        "x": 0.1,
        "y": 0.1
       },
       "content": {
        "cell": "d54fc4ad-016e-422b-af93-2b7efc3c16ed",
        "part": "whole"
       },
       "id": "4d30b2fb-54ae-41f8-a8c9-e820c775d124"
      }
     }
    },
    "cfce1e41-bd03-4f35-ac4c-a086e9f9eb5d": {
     "id": "cfce1e41-bd03-4f35-ac4c-a086e9f9eb5d",
     "prev": "653e40a9-f90d-4e96-9c3a-cc0496bf63dc",
     "regions": {
      "dc13713f-b2ee-4841-aa74-ed73d818a249": {
       "attrs": {
        "height": 0.8,
        "width": 0.8,
        "x": 0.1,
        "y": 0.1
       },
       "content": {
        "cell": "2cc66b77-a1d5-4dd0-bd69-8c9994dde5d6",
        "part": "whole"
       },
       "id": "dc13713f-b2ee-4841-aa74-ed73d818a249"
      }
     }
    },
    "da6b9e0b-0344-47d7-8d1a-d85cf8e53921": {
     "id": "da6b9e0b-0344-47d7-8d1a-d85cf8e53921",
     "prev": "43f95af2-3a38-45fa-aac9-2527905284ea",
     "regions": {
      "8f60e1e9-d492-4e14-9604-91591a2dc032": {
       "attrs": {
        "height": 0.8,
        "width": 0.8,
        "x": 0.1,
        "y": 0.1
       },
       "content": {
        "cell": "743bc2b3-b029-43cf-b7b4-3a734f90d171",
        "part": "whole"
       },
       "id": "8f60e1e9-d492-4e14-9604-91591a2dc032"
      }
     }
    },
    "e2fbd982-c138-4d75-ac97-197ae3d6742f": {
     "id": "e2fbd982-c138-4d75-ac97-197ae3d6742f",
     "prev": "da6b9e0b-0344-47d7-8d1a-d85cf8e53921",
     "regions": {
      "f26d0900-cdd5-4ab5-abd6-fdf56da270bc": {
       "attrs": {
        "height": 0.8,
        "width": 0.8,
        "x": 0.1,
        "y": 0.1
       },
       "content": {
        "cell": "e906b758-1796-40fe-89b0-2e69059130a7",
        "part": "whole"
       },
       "id": "f26d0900-cdd5-4ab5-abd6-fdf56da270bc"
      }
     }
    },
    "eaab4f5e-5ace-4025-b0f1-165754fb6d3d": {
     "id": "eaab4f5e-5ace-4025-b0f1-165754fb6d3d",
     "prev": "45fe1251-5f24-42a5-bd2f-e52699b44935",
     "regions": {
      "3fbba3a1-3f5c-41c4-8093-003a89c88653": {
       "attrs": {
        "height": 0.8,
        "width": 0.8,
        "x": 0.1,
        "y": 0.1
       },
       "content": {
        "cell": "a7179b38-5181-4549-b6ec-4988aa279c88",
        "part": "whole"
       },
       "id": "3fbba3a1-3f5c-41c4-8093-003a89c88653"
      }
     }
    },
    "f640a13f-4d82-4684-9958-adb7dbd17370": {
     "id": "f640a13f-4d82-4684-9958-adb7dbd17370",
     "prev": "127f7ddf-d6f9-48bc-ba2d-5f1a755e33fb",
     "regions": {
      "1b4dbe06-4c43-4de1-911a-b5a5e28e8bdb": {
       "attrs": {
        "height": 0.8,
        "width": 0.8,
        "x": 0.1,
        "y": 0.1
       },
       "content": {
        "cell": "0b3ee273-8060-4aea-901f-2299f15bceb2",
        "part": "whole"
       },
       "id": "1b4dbe06-4c43-4de1-911a-b5a5e28e8bdb"
      }
     }
    },
    "f99c1815-0594-49d9-b4a6-38db28a1f981": {
     "id": "f99c1815-0594-49d9-b4a6-38db28a1f981",
     "prev": "88e78a8c-b3c3-426c-9daf-001fbca578c0",
     "regions": {
      "395a719d-1249-4ee9-bc13-9ab8bb696b2c": {
       "attrs": {
        "height": 0.8,
        "width": 0.8,
        "x": 0.1,
        "y": 0.1
       },
       "content": {
        "cell": "1e3b98aa-0252-4548-b2c4-50c64d10064d",
        "part": "whole"
       },
       "id": "395a719d-1249-4ee9-bc13-9ab8bb696b2c"
      }
     }
    }
   },
   "themes": {}
  }
 },
 "nbformat": 4,
 "nbformat_minor": 1
}
