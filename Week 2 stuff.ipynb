{
 "cells": [
  {
   "cell_type": "code",
   "execution_count": 3,
   "metadata": {},
   "outputs": [
    {
     "name": "stderr",
     "output_type": "stream",
     "text": [
      "Warning message in data(read.csv):\n",
      "\"data set 'read.csv' not found\""
     ]
    }
   ],
   "source": [
    "data(read.csv)"
   ]
  },
  {
   "cell_type": "code",
   "execution_count": 2,
   "metadata": {},
   "outputs": [
    {
     "name": "stderr",
     "output_type": "stream",
     "text": [
      "Warning message in data(titanic):\n",
      "\"data set 'titanic' not found\""
     ]
    }
   ],
   "source": [
    "data(titanic)"
   ]
  },
  {
   "cell_type": "code",
   "execution_count": 4,
   "metadata": {
    "collapsed": true
   },
   "outputs": [],
   "source": [
    "help(read.csv)"
   ]
  },
  {
   "cell_type": "code",
   "execution_count": 6,
   "metadata": {},
   "outputs": [
    {
     "data": {
      "text/html": [
       "<table>\n",
       "<thead><tr><th scope=col>Name</th><th scope=col>PClass</th><th scope=col>Age</th><th scope=col>Sex</th><th scope=col>Survived</th></tr></thead>\n",
       "<tbody>\n",
       "\t<tr><td>Allen, Miss Elisabeth Walton                    </td><td>1st                                             </td><td>29.00                                           </td><td>female                                          </td><td>1                                               </td></tr>\n",
       "\t<tr><td>Allison, Miss Helen Loraine                     </td><td>1st                                             </td><td> 2.00                                           </td><td>female                                          </td><td>0                                               </td></tr>\n",
       "\t<tr><td>Allison, Mr Hudson Joshua Creighton             </td><td>1st                                             </td><td>30.00                                           </td><td>male                                            </td><td>0                                               </td></tr>\n",
       "\t<tr><td>Allison, Mrs Hudson JC (Bessie Waldo Daniels)   </td><td>1st                                             </td><td>25.00                                           </td><td>female                                          </td><td>0                                               </td></tr>\n",
       "\t<tr><td>Allison, Master Hudson Trevor                   </td><td>1st                                             </td><td> 0.92                                           </td><td>male                                            </td><td>1                                               </td></tr>\n",
       "\t<tr><td>Anderson, Mr Harry                              </td><td>1st                                             </td><td>47.00                                           </td><td>male                                            </td><td>1                                               </td></tr>\n",
       "\t<tr><td>Andrews, Miss Kornelia Theodosia                </td><td>1st                                             </td><td>63.00                                           </td><td>female                                          </td><td>1                                               </td></tr>\n",
       "\t<tr><td>Andrews, Mr Thomas, jr                          </td><td>1st                                             </td><td>39.00                                           </td><td>male                                            </td><td>0                                               </td></tr>\n",
       "\t<tr><td>Appleton, Mrs Edward Dale (Charlotte Lamson)    </td><td>1st                                             </td><td>58.00                                           </td><td>female                                          </td><td>1                                               </td></tr>\n",
       "\t<tr><td>Artagaveytia, Mr Ramon                          </td><td>1st                                             </td><td>71.00                                           </td><td>male                                            </td><td>0                                               </td></tr>\n",
       "\t<tr><td>Astor, Colonel John Jacob                       </td><td>1st                                             </td><td>47.00                                           </td><td>male                                            </td><td>0                                               </td></tr>\n",
       "\t<tr><td>Astor, Mrs John Jacob (Madeleine Talmadge Force)</td><td>1st                                             </td><td>19.00                                           </td><td>female                                          </td><td>1                                               </td></tr>\n",
       "\t<tr><td>Aubert, Mrs Leontine Pauline                    </td><td>1st                                             </td><td>   NA                                           </td><td>female                                          </td><td>1                                               </td></tr>\n",
       "\t<tr><td>Barkworth, Mr Algernon H                        </td><td>1st                                             </td><td>   NA                                           </td><td>male                                            </td><td>1                                               </td></tr>\n",
       "\t<tr><td>Baumann, Mr John D                              </td><td>1st                                             </td><td>   NA                                           </td><td>male                                            </td><td>0                                               </td></tr>\n",
       "\t<tr><td>Baxter, Mrs James (Helene DeLaudeniere Chaput)  </td><td>1st                                             </td><td>50.00                                           </td><td>female                                          </td><td>1                                               </td></tr>\n",
       "\t<tr><td>Baxter, Mr Quigg Edmond                         </td><td>1st                                             </td><td>24.00                                           </td><td>male                                            </td><td>0                                               </td></tr>\n",
       "\t<tr><td>Beattie, Mr Thomson                             </td><td>1st                                             </td><td>36.00                                           </td><td>male                                            </td><td>0                                               </td></tr>\n",
       "\t<tr><td>Beckwith, Mr Richard Leonard                    </td><td>1st                                             </td><td>37.00                                           </td><td>male                                            </td><td>1                                               </td></tr>\n",
       "\t<tr><td>Beckwith, Mrs Richard Leonard (Sallie Monypeny) </td><td>1st                                             </td><td>47.00                                           </td><td>female                                          </td><td>1                                               </td></tr>\n",
       "\t<tr><td>Behr, Mr Karl Howell                            </td><td>1st                                             </td><td>26.00                                           </td><td>male                                            </td><td>1                                               </td></tr>\n",
       "\t<tr><td>Birnbaum, Mr Jakob                              </td><td>1st                                             </td><td>25.00                                           </td><td>male                                            </td><td>0                                               </td></tr>\n",
       "\t<tr><td>Bishop, Mr Dickinson H                          </td><td>1st                                             </td><td>25.00                                           </td><td>male                                            </td><td>1                                               </td></tr>\n",
       "\t<tr><td>Bishop, Mrs Dickinson H (Helen Walton)          </td><td>1st                                             </td><td>19.00                                           </td><td>female                                          </td><td>1                                               </td></tr>\n",
       "\t<tr><td>Bjornstrm-Steffansson, Mr Mauritz Hakan         </td><td>1st                                             </td><td>28.00                                           </td><td>male                                            </td><td>1                                               </td></tr>\n",
       "\t<tr><td>Blackwell, Mr Stephen Weart                     </td><td>1st                                             </td><td>45.00                                           </td><td>male                                            </td><td>0                                               </td></tr>\n",
       "\t<tr><td>Blank, Mr Henry                                 </td><td>1st                                             </td><td>39.00                                           </td><td>male                                            </td><td>1                                               </td></tr>\n",
       "\t<tr><td>Bonnell, Miss Caroline                          </td><td>1st                                             </td><td>30.00                                           </td><td>female                                          </td><td>1                                               </td></tr>\n",
       "\t<tr><td>Bonnell, Miss Elizabeth                         </td><td>1st                                             </td><td>58.00                                           </td><td>female                                          </td><td>1                                               </td></tr>\n",
       "\t<tr><td>Borebank, Mr John James                         </td><td>1st                                             </td><td>   NA                                           </td><td>male                                            </td><td>0                                               </td></tr>\n",
       "\t<tr><td>...</td><td>...</td><td>...</td><td>...</td><td>...</td></tr>\n",
       "\t<tr><td>Vestrom, Miss Hulda Amanda Adolfina</td><td>3rd                                </td><td>14                                 </td><td>female                             </td><td>0                                  </td></tr>\n",
       "\t<tr><td>Vonk, Mr Jenko                     </td><td>3rd                                </td><td>22                                 </td><td>male                               </td><td>0                                  </td></tr>\n",
       "\t<tr><td>Ware, Mr Frederick                 </td><td>3rd                                </td><td>NA                                 </td><td>male                               </td><td>0                                  </td></tr>\n",
       "\t<tr><td>Warren, Mr Charles William         </td><td>3rd                                </td><td>NA                                 </td><td>male                               </td><td>0                                  </td></tr>\n",
       "\t<tr><td>Wazli, Mr Yousif                   </td><td>3rd                                </td><td>NA                                 </td><td>male                               </td><td>0                                  </td></tr>\n",
       "\t<tr><td>Webber, Mr James                   </td><td>3rd                                </td><td>NA                                 </td><td>male                               </td><td>0                                  </td></tr>\n",
       "\t<tr><td>Wennerstrom, Mr August Edvard      </td><td>3rd                                </td><td>NA                                 </td><td>male                               </td><td>1                                  </td></tr>\n",
       "\t<tr><td>Wenzel, Mr Linhart                 </td><td>3rd                                </td><td>NA                                 </td><td>male                               </td><td>0                                  </td></tr>\n",
       "\t<tr><td>Widegren, Mr Charles Peter         </td><td>3rd                                </td><td>51                                 </td><td>male                               </td><td>0                                  </td></tr>\n",
       "\t<tr><td>Wiklund, Mr Jacob Alfred           </td><td>3rd                                </td><td>18                                 </td><td>male                               </td><td>0                                  </td></tr>\n",
       "\t<tr><td>Wilkes, Mrs Ellen                  </td><td>3rd                                </td><td>45                                 </td><td>female                             </td><td>1                                  </td></tr>\n",
       "\t<tr><td>Willer, Mr Aaron                   </td><td>3rd                                </td><td>NA                                 </td><td>male                               </td><td>0                                  </td></tr>\n",
       "\t<tr><td>Willey, Mr Edward                  </td><td>3rd                                </td><td>NA                                 </td><td>male                               </td><td>0                                  </td></tr>\n",
       "\t<tr><td>Williams, Mr Howard Hugh           </td><td>3rd                                </td><td>NA                                 </td><td>male                               </td><td>0                                  </td></tr>\n",
       "\t<tr><td>Williams, Mr Leslie                </td><td>3rd                                </td><td>28                                 </td><td>male                               </td><td>0                                  </td></tr>\n",
       "\t<tr><td>Windelov, Mr Einar                 </td><td>3rd                                </td><td>21                                 </td><td>male                               </td><td>0                                  </td></tr>\n",
       "\t<tr><td>Wirz, Mr Albert                    </td><td>3rd                                </td><td>27                                 </td><td>male                               </td><td>0                                  </td></tr>\n",
       "\t<tr><td>Wiseman, Mr Phillippe              </td><td>3rd                                </td><td>NA                                 </td><td>male                               </td><td>0                                  </td></tr>\n",
       "\t<tr><td>Wittevrongel, Mr Camiel            </td><td>3rd                                </td><td>36                                 </td><td>male                               </td><td>0                                  </td></tr>\n",
       "\t<tr><td>Yalsevac, Mr Ivan                  </td><td>3rd                                </td><td>NA                                 </td><td>male                               </td><td>1                                  </td></tr>\n",
       "\t<tr><td>Yasbeck, Mr Antoni                 </td><td>3rd                                </td><td>27                                 </td><td>male                               </td><td>0                                  </td></tr>\n",
       "\t<tr><td>Yasbeck, Mrs Antoni                </td><td>3rd                                </td><td>15                                 </td><td>female                             </td><td>1                                  </td></tr>\n",
       "\t<tr><td>Youssef, Mr Gerios                 </td><td>3rd                                </td><td>NA                                 </td><td>male                               </td><td>0                                  </td></tr>\n",
       "\t<tr><td>Zabour, Miss Hileni                </td><td>3rd                                </td><td>NA                                 </td><td>female                             </td><td>0                                  </td></tr>\n",
       "\t<tr><td>Zabour, Miss Tamini                </td><td>3rd                                </td><td>NA                                 </td><td>female                             </td><td>0                                  </td></tr>\n",
       "\t<tr><td>Zakarian, Mr Artun                 </td><td>3rd                                </td><td>27                                 </td><td>male                               </td><td>0                                  </td></tr>\n",
       "\t<tr><td>Zakarian, Mr Maprieder             </td><td>3rd                                </td><td>26                                 </td><td>male                               </td><td>0                                  </td></tr>\n",
       "\t<tr><td>Zenni, Mr Philip                   </td><td>3rd                                </td><td>22                                 </td><td>male                               </td><td>0                                  </td></tr>\n",
       "\t<tr><td>Lievens, Mr Rene                   </td><td>3rd                                </td><td>24                                 </td><td>male                               </td><td>0                                  </td></tr>\n",
       "\t<tr><td>Zimmerman, Leo                     </td><td>3rd                                </td><td>29                                 </td><td>male                               </td><td>0                                  </td></tr>\n",
       "</tbody>\n",
       "</table>\n"
      ],
      "text/latex": [
       "\\begin{tabular}{r|lllll}\n",
       " Name & PClass & Age & Sex & Survived\\\\\n",
       "\\hline\n",
       "\t Allen, Miss Elisabeth Walton                     & 1st                                              & 29.00                                            & female                                           & 1                                               \\\\\n",
       "\t Allison, Miss Helen Loraine                      & 1st                                              &  2.00                                            & female                                           & 0                                               \\\\\n",
       "\t Allison, Mr Hudson Joshua Creighton              & 1st                                              & 30.00                                            & male                                             & 0                                               \\\\\n",
       "\t Allison, Mrs Hudson JC (Bessie Waldo Daniels)    & 1st                                              & 25.00                                            & female                                           & 0                                               \\\\\n",
       "\t Allison, Master Hudson Trevor                    & 1st                                              &  0.92                                            & male                                             & 1                                               \\\\\n",
       "\t Anderson, Mr Harry                               & 1st                                              & 47.00                                            & male                                             & 1                                               \\\\\n",
       "\t Andrews, Miss Kornelia Theodosia                 & 1st                                              & 63.00                                            & female                                           & 1                                               \\\\\n",
       "\t Andrews, Mr Thomas, jr                           & 1st                                              & 39.00                                            & male                                             & 0                                               \\\\\n",
       "\t Appleton, Mrs Edward Dale (Charlotte Lamson)     & 1st                                              & 58.00                                            & female                                           & 1                                               \\\\\n",
       "\t Artagaveytia, Mr Ramon                           & 1st                                              & 71.00                                            & male                                             & 0                                               \\\\\n",
       "\t Astor, Colonel John Jacob                        & 1st                                              & 47.00                                            & male                                             & 0                                               \\\\\n",
       "\t Astor, Mrs John Jacob (Madeleine Talmadge Force) & 1st                                              & 19.00                                            & female                                           & 1                                               \\\\\n",
       "\t Aubert, Mrs Leontine Pauline                     & 1st                                              &    NA                                            & female                                           & 1                                               \\\\\n",
       "\t Barkworth, Mr Algernon H                         & 1st                                              &    NA                                            & male                                             & 1                                               \\\\\n",
       "\t Baumann, Mr John D                               & 1st                                              &    NA                                            & male                                             & 0                                               \\\\\n",
       "\t Baxter, Mrs James (Helene DeLaudeniere Chaput)   & 1st                                              & 50.00                                            & female                                           & 1                                               \\\\\n",
       "\t Baxter, Mr Quigg Edmond                          & 1st                                              & 24.00                                            & male                                             & 0                                               \\\\\n",
       "\t Beattie, Mr Thomson                              & 1st                                              & 36.00                                            & male                                             & 0                                               \\\\\n",
       "\t Beckwith, Mr Richard Leonard                     & 1st                                              & 37.00                                            & male                                             & 1                                               \\\\\n",
       "\t Beckwith, Mrs Richard Leonard (Sallie Monypeny)  & 1st                                              & 47.00                                            & female                                           & 1                                               \\\\\n",
       "\t Behr, Mr Karl Howell                             & 1st                                              & 26.00                                            & male                                             & 1                                               \\\\\n",
       "\t Birnbaum, Mr Jakob                               & 1st                                              & 25.00                                            & male                                             & 0                                               \\\\\n",
       "\t Bishop, Mr Dickinson H                           & 1st                                              & 25.00                                            & male                                             & 1                                               \\\\\n",
       "\t Bishop, Mrs Dickinson H (Helen Walton)           & 1st                                              & 19.00                                            & female                                           & 1                                               \\\\\n",
       "\t Bjornstrm-Steffansson, Mr Mauritz Hakan          & 1st                                              & 28.00                                            & male                                             & 1                                               \\\\\n",
       "\t Blackwell, Mr Stephen Weart                      & 1st                                              & 45.00                                            & male                                             & 0                                               \\\\\n",
       "\t Blank, Mr Henry                                  & 1st                                              & 39.00                                            & male                                             & 1                                               \\\\\n",
       "\t Bonnell, Miss Caroline                           & 1st                                              & 30.00                                            & female                                           & 1                                               \\\\\n",
       "\t Bonnell, Miss Elizabeth                          & 1st                                              & 58.00                                            & female                                           & 1                                               \\\\\n",
       "\t Borebank, Mr John James                          & 1st                                              &    NA                                            & male                                             & 0                                               \\\\\n",
       "\t ... & ... & ... & ... & ...\\\\\n",
       "\t Vestrom, Miss Hulda Amanda Adolfina & 3rd                                 & 14                                  & female                              & 0                                  \\\\\n",
       "\t Vonk, Mr Jenko                      & 3rd                                 & 22                                  & male                                & 0                                  \\\\\n",
       "\t Ware, Mr Frederick                  & 3rd                                 & NA                                  & male                                & 0                                  \\\\\n",
       "\t Warren, Mr Charles William          & 3rd                                 & NA                                  & male                                & 0                                  \\\\\n",
       "\t Wazli, Mr Yousif                    & 3rd                                 & NA                                  & male                                & 0                                  \\\\\n",
       "\t Webber, Mr James                    & 3rd                                 & NA                                  & male                                & 0                                  \\\\\n",
       "\t Wennerstrom, Mr August Edvard       & 3rd                                 & NA                                  & male                                & 1                                  \\\\\n",
       "\t Wenzel, Mr Linhart                  & 3rd                                 & NA                                  & male                                & 0                                  \\\\\n",
       "\t Widegren, Mr Charles Peter          & 3rd                                 & 51                                  & male                                & 0                                  \\\\\n",
       "\t Wiklund, Mr Jacob Alfred            & 3rd                                 & 18                                  & male                                & 0                                  \\\\\n",
       "\t Wilkes, Mrs Ellen                   & 3rd                                 & 45                                  & female                              & 1                                  \\\\\n",
       "\t Willer, Mr Aaron                    & 3rd                                 & NA                                  & male                                & 0                                  \\\\\n",
       "\t Willey, Mr Edward                   & 3rd                                 & NA                                  & male                                & 0                                  \\\\\n",
       "\t Williams, Mr Howard Hugh            & 3rd                                 & NA                                  & male                                & 0                                  \\\\\n",
       "\t Williams, Mr Leslie                 & 3rd                                 & 28                                  & male                                & 0                                  \\\\\n",
       "\t Windelov, Mr Einar                  & 3rd                                 & 21                                  & male                                & 0                                  \\\\\n",
       "\t Wirz, Mr Albert                     & 3rd                                 & 27                                  & male                                & 0                                  \\\\\n",
       "\t Wiseman, Mr Phillippe               & 3rd                                 & NA                                  & male                                & 0                                  \\\\\n",
       "\t Wittevrongel, Mr Camiel             & 3rd                                 & 36                                  & male                                & 0                                  \\\\\n",
       "\t Yalsevac, Mr Ivan                   & 3rd                                 & NA                                  & male                                & 1                                  \\\\\n",
       "\t Yasbeck, Mr Antoni                  & 3rd                                 & 27                                  & male                                & 0                                  \\\\\n",
       "\t Yasbeck, Mrs Antoni                 & 3rd                                 & 15                                  & female                              & 1                                  \\\\\n",
       "\t Youssef, Mr Gerios                  & 3rd                                 & NA                                  & male                                & 0                                  \\\\\n",
       "\t Zabour, Miss Hileni                 & 3rd                                 & NA                                  & female                              & 0                                  \\\\\n",
       "\t Zabour, Miss Tamini                 & 3rd                                 & NA                                  & female                              & 0                                  \\\\\n",
       "\t Zakarian, Mr Artun                  & 3rd                                 & 27                                  & male                                & 0                                  \\\\\n",
       "\t Zakarian, Mr Maprieder              & 3rd                                 & 26                                  & male                                & 0                                  \\\\\n",
       "\t Zenni, Mr Philip                    & 3rd                                 & 22                                  & male                                & 0                                  \\\\\n",
       "\t Lievens, Mr Rene                    & 3rd                                 & 24                                  & male                                & 0                                  \\\\\n",
       "\t Zimmerman, Leo                      & 3rd                                 & 29                                  & male                                & 0                                  \\\\\n",
       "\\end{tabular}\n"
      ],
      "text/markdown": [
       "\n",
       "Name | PClass | Age | Sex | Survived | \n",
       "|---|---|---|---|---|---|---|---|---|---|---|---|---|---|---|---|---|---|---|---|---|---|---|---|---|---|---|---|---|---|---|---|---|---|---|---|---|---|---|---|---|---|---|---|---|---|---|---|---|---|---|---|---|---|---|---|---|---|---|---|---|\n",
       "| Allen, Miss Elisabeth Walton                     | 1st                                              | 29.00                                            | female                                           | 1                                                | \n",
       "| Allison, Miss Helen Loraine                      | 1st                                              |  2.00                                            | female                                           | 0                                                | \n",
       "| Allison, Mr Hudson Joshua Creighton              | 1st                                              | 30.00                                            | male                                             | 0                                                | \n",
       "| Allison, Mrs Hudson JC (Bessie Waldo Daniels)    | 1st                                              | 25.00                                            | female                                           | 0                                                | \n",
       "| Allison, Master Hudson Trevor                    | 1st                                              |  0.92                                            | male                                             | 1                                                | \n",
       "| Anderson, Mr Harry                               | 1st                                              | 47.00                                            | male                                             | 1                                                | \n",
       "| Andrews, Miss Kornelia Theodosia                 | 1st                                              | 63.00                                            | female                                           | 1                                                | \n",
       "| Andrews, Mr Thomas, jr                           | 1st                                              | 39.00                                            | male                                             | 0                                                | \n",
       "| Appleton, Mrs Edward Dale (Charlotte Lamson)     | 1st                                              | 58.00                                            | female                                           | 1                                                | \n",
       "| Artagaveytia, Mr Ramon                           | 1st                                              | 71.00                                            | male                                             | 0                                                | \n",
       "| Astor, Colonel John Jacob                        | 1st                                              | 47.00                                            | male                                             | 0                                                | \n",
       "| Astor, Mrs John Jacob (Madeleine Talmadge Force) | 1st                                              | 19.00                                            | female                                           | 1                                                | \n",
       "| Aubert, Mrs Leontine Pauline                     | 1st                                              |    NA                                            | female                                           | 1                                                | \n",
       "| Barkworth, Mr Algernon H                         | 1st                                              |    NA                                            | male                                             | 1                                                | \n",
       "| Baumann, Mr John D                               | 1st                                              |    NA                                            | male                                             | 0                                                | \n",
       "| Baxter, Mrs James (Helene DeLaudeniere Chaput)   | 1st                                              | 50.00                                            | female                                           | 1                                                | \n",
       "| Baxter, Mr Quigg Edmond                          | 1st                                              | 24.00                                            | male                                             | 0                                                | \n",
       "| Beattie, Mr Thomson                              | 1st                                              | 36.00                                            | male                                             | 0                                                | \n",
       "| Beckwith, Mr Richard Leonard                     | 1st                                              | 37.00                                            | male                                             | 1                                                | \n",
       "| Beckwith, Mrs Richard Leonard (Sallie Monypeny)  | 1st                                              | 47.00                                            | female                                           | 1                                                | \n",
       "| Behr, Mr Karl Howell                             | 1st                                              | 26.00                                            | male                                             | 1                                                | \n",
       "| Birnbaum, Mr Jakob                               | 1st                                              | 25.00                                            | male                                             | 0                                                | \n",
       "| Bishop, Mr Dickinson H                           | 1st                                              | 25.00                                            | male                                             | 1                                                | \n",
       "| Bishop, Mrs Dickinson H (Helen Walton)           | 1st                                              | 19.00                                            | female                                           | 1                                                | \n",
       "| Bjornstrm-Steffansson, Mr Mauritz Hakan          | 1st                                              | 28.00                                            | male                                             | 1                                                | \n",
       "| Blackwell, Mr Stephen Weart                      | 1st                                              | 45.00                                            | male                                             | 0                                                | \n",
       "| Blank, Mr Henry                                  | 1st                                              | 39.00                                            | male                                             | 1                                                | \n",
       "| Bonnell, Miss Caroline                           | 1st                                              | 30.00                                            | female                                           | 1                                                | \n",
       "| Bonnell, Miss Elizabeth                          | 1st                                              | 58.00                                            | female                                           | 1                                                | \n",
       "| Borebank, Mr John James                          | 1st                                              |    NA                                            | male                                             | 0                                                | \n",
       "| ... | ... | ... | ... | ... | \n",
       "| Vestrom, Miss Hulda Amanda Adolfina | 3rd                                 | 14                                  | female                              | 0                                   | \n",
       "| Vonk, Mr Jenko                      | 3rd                                 | 22                                  | male                                | 0                                   | \n",
       "| Ware, Mr Frederick                  | 3rd                                 | NA                                  | male                                | 0                                   | \n",
       "| Warren, Mr Charles William          | 3rd                                 | NA                                  | male                                | 0                                   | \n",
       "| Wazli, Mr Yousif                    | 3rd                                 | NA                                  | male                                | 0                                   | \n",
       "| Webber, Mr James                    | 3rd                                 | NA                                  | male                                | 0                                   | \n",
       "| Wennerstrom, Mr August Edvard       | 3rd                                 | NA                                  | male                                | 1                                   | \n",
       "| Wenzel, Mr Linhart                  | 3rd                                 | NA                                  | male                                | 0                                   | \n",
       "| Widegren, Mr Charles Peter          | 3rd                                 | 51                                  | male                                | 0                                   | \n",
       "| Wiklund, Mr Jacob Alfred            | 3rd                                 | 18                                  | male                                | 0                                   | \n",
       "| Wilkes, Mrs Ellen                   | 3rd                                 | 45                                  | female                              | 1                                   | \n",
       "| Willer, Mr Aaron                    | 3rd                                 | NA                                  | male                                | 0                                   | \n",
       "| Willey, Mr Edward                   | 3rd                                 | NA                                  | male                                | 0                                   | \n",
       "| Williams, Mr Howard Hugh            | 3rd                                 | NA                                  | male                                | 0                                   | \n",
       "| Williams, Mr Leslie                 | 3rd                                 | 28                                  | male                                | 0                                   | \n",
       "| Windelov, Mr Einar                  | 3rd                                 | 21                                  | male                                | 0                                   | \n",
       "| Wirz, Mr Albert                     | 3rd                                 | 27                                  | male                                | 0                                   | \n",
       "| Wiseman, Mr Phillippe               | 3rd                                 | NA                                  | male                                | 0                                   | \n",
       "| Wittevrongel, Mr Camiel             | 3rd                                 | 36                                  | male                                | 0                                   | \n",
       "| Yalsevac, Mr Ivan                   | 3rd                                 | NA                                  | male                                | 1                                   | \n",
       "| Yasbeck, Mr Antoni                  | 3rd                                 | 27                                  | male                                | 0                                   | \n",
       "| Yasbeck, Mrs Antoni                 | 3rd                                 | 15                                  | female                              | 1                                   | \n",
       "| Youssef, Mr Gerios                  | 3rd                                 | NA                                  | male                                | 0                                   | \n",
       "| Zabour, Miss Hileni                 | 3rd                                 | NA                                  | female                              | 0                                   | \n",
       "| Zabour, Miss Tamini                 | 3rd                                 | NA                                  | female                              | 0                                   | \n",
       "| Zakarian, Mr Artun                  | 3rd                                 | 27                                  | male                                | 0                                   | \n",
       "| Zakarian, Mr Maprieder              | 3rd                                 | 26                                  | male                                | 0                                   | \n",
       "| Zenni, Mr Philip                    | 3rd                                 | 22                                  | male                                | 0                                   | \n",
       "| Lievens, Mr Rene                    | 3rd                                 | 24                                  | male                                | 0                                   | \n",
       "| Zimmerman, Leo                      | 3rd                                 | 29                                  | male                                | 0                                   | \n",
       "\n",
       "\n"
      ],
      "text/plain": [
       "     Name                                             PClass Age   Sex   \n",
       "1    Allen, Miss Elisabeth Walton                     1st    29.00 female\n",
       "2    Allison, Miss Helen Loraine                      1st     2.00 female\n",
       "3    Allison, Mr Hudson Joshua Creighton              1st    30.00 male  \n",
       "4    Allison, Mrs Hudson JC (Bessie Waldo Daniels)    1st    25.00 female\n",
       "5    Allison, Master Hudson Trevor                    1st     0.92 male  \n",
       "6    Anderson, Mr Harry                               1st    47.00 male  \n",
       "7    Andrews, Miss Kornelia Theodosia                 1st    63.00 female\n",
       "8    Andrews, Mr Thomas, jr                           1st    39.00 male  \n",
       "9    Appleton, Mrs Edward Dale (Charlotte Lamson)     1st    58.00 female\n",
       "10   Artagaveytia, Mr Ramon                           1st    71.00 male  \n",
       "11   Astor, Colonel John Jacob                        1st    47.00 male  \n",
       "12   Astor, Mrs John Jacob (Madeleine Talmadge Force) 1st    19.00 female\n",
       "13   Aubert, Mrs Leontine Pauline                     1st       NA female\n",
       "14   Barkworth, Mr Algernon H                         1st       NA male  \n",
       "15   Baumann, Mr John D                               1st       NA male  \n",
       "16   Baxter, Mrs James (Helene DeLaudeniere Chaput)   1st    50.00 female\n",
       "17   Baxter, Mr Quigg Edmond                          1st    24.00 male  \n",
       "18   Beattie, Mr Thomson                              1st    36.00 male  \n",
       "19   Beckwith, Mr Richard Leonard                     1st    37.00 male  \n",
       "20   Beckwith, Mrs Richard Leonard (Sallie Monypeny)  1st    47.00 female\n",
       "21   Behr, Mr Karl Howell                             1st    26.00 male  \n",
       "22   Birnbaum, Mr Jakob                               1st    25.00 male  \n",
       "23   Bishop, Mr Dickinson H                           1st    25.00 male  \n",
       "24   Bishop, Mrs Dickinson H (Helen Walton)           1st    19.00 female\n",
       "25   Bjornstrm-Steffansson, Mr Mauritz Hakan          1st    28.00 male  \n",
       "26   Blackwell, Mr Stephen Weart                      1st    45.00 male  \n",
       "27   Blank, Mr Henry                                  1st    39.00 male  \n",
       "28   Bonnell, Miss Caroline                           1st    30.00 female\n",
       "29   Bonnell, Miss Elizabeth                          1st    58.00 female\n",
       "30   Borebank, Mr John James                          1st       NA male  \n",
       "...  ...                                              ...    ...   ...   \n",
       "1283 Vestrom, Miss Hulda Amanda Adolfina              3rd    14    female\n",
       "1284 Vonk, Mr Jenko                                   3rd    22    male  \n",
       "1285 Ware, Mr Frederick                               3rd    NA    male  \n",
       "1286 Warren, Mr Charles William                       3rd    NA    male  \n",
       "1287 Wazli, Mr Yousif                                 3rd    NA    male  \n",
       "1288 Webber, Mr James                                 3rd    NA    male  \n",
       "1289 Wennerstrom, Mr August Edvard                    3rd    NA    male  \n",
       "1290 Wenzel, Mr Linhart                               3rd    NA    male  \n",
       "1291 Widegren, Mr Charles Peter                       3rd    51    male  \n",
       "1292 Wiklund, Mr Jacob Alfred                         3rd    18    male  \n",
       "1293 Wilkes, Mrs Ellen                                3rd    45    female\n",
       "1294 Willer, Mr Aaron                                 3rd    NA    male  \n",
       "1295 Willey, Mr Edward                                3rd    NA    male  \n",
       "1296 Williams, Mr Howard Hugh                         3rd    NA    male  \n",
       "1297 Williams, Mr Leslie                              3rd    28    male  \n",
       "1298 Windelov, Mr Einar                               3rd    21    male  \n",
       "1299 Wirz, Mr Albert                                  3rd    27    male  \n",
       "1300 Wiseman, Mr Phillippe                            3rd    NA    male  \n",
       "1301 Wittevrongel, Mr Camiel                          3rd    36    male  \n",
       "1302 Yalsevac, Mr Ivan                                3rd    NA    male  \n",
       "1303 Yasbeck, Mr Antoni                               3rd    27    male  \n",
       "1304 Yasbeck, Mrs Antoni                              3rd    15    female\n",
       "1305 Youssef, Mr Gerios                               3rd    NA    male  \n",
       "1306 Zabour, Miss Hileni                              3rd    NA    female\n",
       "1307 Zabour, Miss Tamini                              3rd    NA    female\n",
       "1308 Zakarian, Mr Artun                               3rd    27    male  \n",
       "1309 Zakarian, Mr Maprieder                           3rd    26    male  \n",
       "1310 Zenni, Mr Philip                                 3rd    22    male  \n",
       "1311 Lievens, Mr Rene                                 3rd    24    male  \n",
       "1312 Zimmerman, Leo                                   3rd    29    male  \n",
       "     Survived\n",
       "1    1       \n",
       "2    0       \n",
       "3    0       \n",
       "4    0       \n",
       "5    1       \n",
       "6    1       \n",
       "7    1       \n",
       "8    0       \n",
       "9    1       \n",
       "10   0       \n",
       "11   0       \n",
       "12   1       \n",
       "13   1       \n",
       "14   1       \n",
       "15   0       \n",
       "16   1       \n",
       "17   0       \n",
       "18   0       \n",
       "19   1       \n",
       "20   1       \n",
       "21   1       \n",
       "22   0       \n",
       "23   1       \n",
       "24   1       \n",
       "25   1       \n",
       "26   0       \n",
       "27   1       \n",
       "28   1       \n",
       "29   1       \n",
       "30   0       \n",
       "...  ...     \n",
       "1283 0       \n",
       "1284 0       \n",
       "1285 0       \n",
       "1286 0       \n",
       "1287 0       \n",
       "1288 0       \n",
       "1289 1       \n",
       "1290 0       \n",
       "1291 0       \n",
       "1292 0       \n",
       "1293 1       \n",
       "1294 0       \n",
       "1295 0       \n",
       "1296 0       \n",
       "1297 0       \n",
       "1298 0       \n",
       "1299 0       \n",
       "1300 0       \n",
       "1301 0       \n",
       "1302 1       \n",
       "1303 0       \n",
       "1304 1       \n",
       "1305 0       \n",
       "1306 0       \n",
       "1307 0       \n",
       "1308 0       \n",
       "1309 0       \n",
       "1310 0       \n",
       "1311 0       \n",
       "1312 0       "
      ]
     },
     "metadata": {},
     "output_type": "display_data"
    }
   ],
   "source": [
    "read.csv(\"titanic.csv\")"
   ]
  },
  {
   "cell_type": "code",
   "execution_count": 7,
   "metadata": {},
   "outputs": [
    {
     "data": {
      "text/html": [
       "<table>\n",
       "<thead><tr><th scope=col>Name</th><th scope=col>PClass</th><th scope=col>Age</th><th scope=col>Sex</th><th scope=col>Survived</th></tr></thead>\n",
       "<tbody>\n",
       "\t<tr><td>Allen, Miss Elisabeth Walton                    </td><td>1st                                             </td><td>29.00                                           </td><td>female                                          </td><td>1                                               </td></tr>\n",
       "\t<tr><td>Allison, Miss Helen Loraine                     </td><td>1st                                             </td><td> 2.00                                           </td><td>female                                          </td><td>0                                               </td></tr>\n",
       "\t<tr><td>Allison, Mr Hudson Joshua Creighton             </td><td>1st                                             </td><td>30.00                                           </td><td>male                                            </td><td>0                                               </td></tr>\n",
       "\t<tr><td>Allison, Mrs Hudson JC (Bessie Waldo Daniels)   </td><td>1st                                             </td><td>25.00                                           </td><td>female                                          </td><td>0                                               </td></tr>\n",
       "\t<tr><td>Allison, Master Hudson Trevor                   </td><td>1st                                             </td><td> 0.92                                           </td><td>male                                            </td><td>1                                               </td></tr>\n",
       "\t<tr><td>Anderson, Mr Harry                              </td><td>1st                                             </td><td>47.00                                           </td><td>male                                            </td><td>1                                               </td></tr>\n",
       "\t<tr><td>Andrews, Miss Kornelia Theodosia                </td><td>1st                                             </td><td>63.00                                           </td><td>female                                          </td><td>1                                               </td></tr>\n",
       "\t<tr><td>Andrews, Mr Thomas, jr                          </td><td>1st                                             </td><td>39.00                                           </td><td>male                                            </td><td>0                                               </td></tr>\n",
       "\t<tr><td>Appleton, Mrs Edward Dale (Charlotte Lamson)    </td><td>1st                                             </td><td>58.00                                           </td><td>female                                          </td><td>1                                               </td></tr>\n",
       "\t<tr><td>Artagaveytia, Mr Ramon                          </td><td>1st                                             </td><td>71.00                                           </td><td>male                                            </td><td>0                                               </td></tr>\n",
       "\t<tr><td>Astor, Colonel John Jacob                       </td><td>1st                                             </td><td>47.00                                           </td><td>male                                            </td><td>0                                               </td></tr>\n",
       "\t<tr><td>Astor, Mrs John Jacob (Madeleine Talmadge Force)</td><td>1st                                             </td><td>19.00                                           </td><td>female                                          </td><td>1                                               </td></tr>\n",
       "\t<tr><td>Aubert, Mrs Leontine Pauline                    </td><td>1st                                             </td><td>   NA                                           </td><td>female                                          </td><td>1                                               </td></tr>\n",
       "\t<tr><td>Barkworth, Mr Algernon H                        </td><td>1st                                             </td><td>   NA                                           </td><td>male                                            </td><td>1                                               </td></tr>\n",
       "\t<tr><td>Baumann, Mr John D                              </td><td>1st                                             </td><td>   NA                                           </td><td>male                                            </td><td>0                                               </td></tr>\n",
       "\t<tr><td>Baxter, Mrs James (Helene DeLaudeniere Chaput)  </td><td>1st                                             </td><td>50.00                                           </td><td>female                                          </td><td>1                                               </td></tr>\n",
       "\t<tr><td>Baxter, Mr Quigg Edmond                         </td><td>1st                                             </td><td>24.00                                           </td><td>male                                            </td><td>0                                               </td></tr>\n",
       "\t<tr><td>Beattie, Mr Thomson                             </td><td>1st                                             </td><td>36.00                                           </td><td>male                                            </td><td>0                                               </td></tr>\n",
       "\t<tr><td>Beckwith, Mr Richard Leonard                    </td><td>1st                                             </td><td>37.00                                           </td><td>male                                            </td><td>1                                               </td></tr>\n",
       "\t<tr><td>Beckwith, Mrs Richard Leonard (Sallie Monypeny) </td><td>1st                                             </td><td>47.00                                           </td><td>female                                          </td><td>1                                               </td></tr>\n",
       "\t<tr><td>Behr, Mr Karl Howell                            </td><td>1st                                             </td><td>26.00                                           </td><td>male                                            </td><td>1                                               </td></tr>\n",
       "\t<tr><td>Birnbaum, Mr Jakob                              </td><td>1st                                             </td><td>25.00                                           </td><td>male                                            </td><td>0                                               </td></tr>\n",
       "\t<tr><td>Bishop, Mr Dickinson H                          </td><td>1st                                             </td><td>25.00                                           </td><td>male                                            </td><td>1                                               </td></tr>\n",
       "\t<tr><td>Bishop, Mrs Dickinson H (Helen Walton)          </td><td>1st                                             </td><td>19.00                                           </td><td>female                                          </td><td>1                                               </td></tr>\n",
       "\t<tr><td>Bjornstrm-Steffansson, Mr Mauritz Hakan         </td><td>1st                                             </td><td>28.00                                           </td><td>male                                            </td><td>1                                               </td></tr>\n",
       "\t<tr><td>Blackwell, Mr Stephen Weart                     </td><td>1st                                             </td><td>45.00                                           </td><td>male                                            </td><td>0                                               </td></tr>\n",
       "\t<tr><td>Blank, Mr Henry                                 </td><td>1st                                             </td><td>39.00                                           </td><td>male                                            </td><td>1                                               </td></tr>\n",
       "\t<tr><td>Bonnell, Miss Caroline                          </td><td>1st                                             </td><td>30.00                                           </td><td>female                                          </td><td>1                                               </td></tr>\n",
       "\t<tr><td>Bonnell, Miss Elizabeth                         </td><td>1st                                             </td><td>58.00                                           </td><td>female                                          </td><td>1                                               </td></tr>\n",
       "\t<tr><td>Borebank, Mr John James                         </td><td>1st                                             </td><td>   NA                                           </td><td>male                                            </td><td>0                                               </td></tr>\n",
       "\t<tr><td>...</td><td>...</td><td>...</td><td>...</td><td>...</td></tr>\n",
       "\t<tr><td>Vestrom, Miss Hulda Amanda Adolfina</td><td>3rd                                </td><td>14                                 </td><td>female                             </td><td>0                                  </td></tr>\n",
       "\t<tr><td>Vonk, Mr Jenko                     </td><td>3rd                                </td><td>22                                 </td><td>male                               </td><td>0                                  </td></tr>\n",
       "\t<tr><td>Ware, Mr Frederick                 </td><td>3rd                                </td><td>NA                                 </td><td>male                               </td><td>0                                  </td></tr>\n",
       "\t<tr><td>Warren, Mr Charles William         </td><td>3rd                                </td><td>NA                                 </td><td>male                               </td><td>0                                  </td></tr>\n",
       "\t<tr><td>Wazli, Mr Yousif                   </td><td>3rd                                </td><td>NA                                 </td><td>male                               </td><td>0                                  </td></tr>\n",
       "\t<tr><td>Webber, Mr James                   </td><td>3rd                                </td><td>NA                                 </td><td>male                               </td><td>0                                  </td></tr>\n",
       "\t<tr><td>Wennerstrom, Mr August Edvard      </td><td>3rd                                </td><td>NA                                 </td><td>male                               </td><td>1                                  </td></tr>\n",
       "\t<tr><td>Wenzel, Mr Linhart                 </td><td>3rd                                </td><td>NA                                 </td><td>male                               </td><td>0                                  </td></tr>\n",
       "\t<tr><td>Widegren, Mr Charles Peter         </td><td>3rd                                </td><td>51                                 </td><td>male                               </td><td>0                                  </td></tr>\n",
       "\t<tr><td>Wiklund, Mr Jacob Alfred           </td><td>3rd                                </td><td>18                                 </td><td>male                               </td><td>0                                  </td></tr>\n",
       "\t<tr><td>Wilkes, Mrs Ellen                  </td><td>3rd                                </td><td>45                                 </td><td>female                             </td><td>1                                  </td></tr>\n",
       "\t<tr><td>Willer, Mr Aaron                   </td><td>3rd                                </td><td>NA                                 </td><td>male                               </td><td>0                                  </td></tr>\n",
       "\t<tr><td>Willey, Mr Edward                  </td><td>3rd                                </td><td>NA                                 </td><td>male                               </td><td>0                                  </td></tr>\n",
       "\t<tr><td>Williams, Mr Howard Hugh           </td><td>3rd                                </td><td>NA                                 </td><td>male                               </td><td>0                                  </td></tr>\n",
       "\t<tr><td>Williams, Mr Leslie                </td><td>3rd                                </td><td>28                                 </td><td>male                               </td><td>0                                  </td></tr>\n",
       "\t<tr><td>Windelov, Mr Einar                 </td><td>3rd                                </td><td>21                                 </td><td>male                               </td><td>0                                  </td></tr>\n",
       "\t<tr><td>Wirz, Mr Albert                    </td><td>3rd                                </td><td>27                                 </td><td>male                               </td><td>0                                  </td></tr>\n",
       "\t<tr><td>Wiseman, Mr Phillippe              </td><td>3rd                                </td><td>NA                                 </td><td>male                               </td><td>0                                  </td></tr>\n",
       "\t<tr><td>Wittevrongel, Mr Camiel            </td><td>3rd                                </td><td>36                                 </td><td>male                               </td><td>0                                  </td></tr>\n",
       "\t<tr><td>Yalsevac, Mr Ivan                  </td><td>3rd                                </td><td>NA                                 </td><td>male                               </td><td>1                                  </td></tr>\n",
       "\t<tr><td>Yasbeck, Mr Antoni                 </td><td>3rd                                </td><td>27                                 </td><td>male                               </td><td>0                                  </td></tr>\n",
       "\t<tr><td>Yasbeck, Mrs Antoni                </td><td>3rd                                </td><td>15                                 </td><td>female                             </td><td>1                                  </td></tr>\n",
       "\t<tr><td>Youssef, Mr Gerios                 </td><td>3rd                                </td><td>NA                                 </td><td>male                               </td><td>0                                  </td></tr>\n",
       "\t<tr><td>Zabour, Miss Hileni                </td><td>3rd                                </td><td>NA                                 </td><td>female                             </td><td>0                                  </td></tr>\n",
       "\t<tr><td>Zabour, Miss Tamini                </td><td>3rd                                </td><td>NA                                 </td><td>female                             </td><td>0                                  </td></tr>\n",
       "\t<tr><td>Zakarian, Mr Artun                 </td><td>3rd                                </td><td>27                                 </td><td>male                               </td><td>0                                  </td></tr>\n",
       "\t<tr><td>Zakarian, Mr Maprieder             </td><td>3rd                                </td><td>26                                 </td><td>male                               </td><td>0                                  </td></tr>\n",
       "\t<tr><td>Zenni, Mr Philip                   </td><td>3rd                                </td><td>22                                 </td><td>male                               </td><td>0                                  </td></tr>\n",
       "\t<tr><td>Lievens, Mr Rene                   </td><td>3rd                                </td><td>24                                 </td><td>male                               </td><td>0                                  </td></tr>\n",
       "\t<tr><td>Zimmerman, Leo                     </td><td>3rd                                </td><td>29                                 </td><td>male                               </td><td>0                                  </td></tr>\n",
       "</tbody>\n",
       "</table>\n"
      ],
      "text/latex": [
       "\\begin{tabular}{r|lllll}\n",
       " Name & PClass & Age & Sex & Survived\\\\\n",
       "\\hline\n",
       "\t Allen, Miss Elisabeth Walton                     & 1st                                              & 29.00                                            & female                                           & 1                                               \\\\\n",
       "\t Allison, Miss Helen Loraine                      & 1st                                              &  2.00                                            & female                                           & 0                                               \\\\\n",
       "\t Allison, Mr Hudson Joshua Creighton              & 1st                                              & 30.00                                            & male                                             & 0                                               \\\\\n",
       "\t Allison, Mrs Hudson JC (Bessie Waldo Daniels)    & 1st                                              & 25.00                                            & female                                           & 0                                               \\\\\n",
       "\t Allison, Master Hudson Trevor                    & 1st                                              &  0.92                                            & male                                             & 1                                               \\\\\n",
       "\t Anderson, Mr Harry                               & 1st                                              & 47.00                                            & male                                             & 1                                               \\\\\n",
       "\t Andrews, Miss Kornelia Theodosia                 & 1st                                              & 63.00                                            & female                                           & 1                                               \\\\\n",
       "\t Andrews, Mr Thomas, jr                           & 1st                                              & 39.00                                            & male                                             & 0                                               \\\\\n",
       "\t Appleton, Mrs Edward Dale (Charlotte Lamson)     & 1st                                              & 58.00                                            & female                                           & 1                                               \\\\\n",
       "\t Artagaveytia, Mr Ramon                           & 1st                                              & 71.00                                            & male                                             & 0                                               \\\\\n",
       "\t Astor, Colonel John Jacob                        & 1st                                              & 47.00                                            & male                                             & 0                                               \\\\\n",
       "\t Astor, Mrs John Jacob (Madeleine Talmadge Force) & 1st                                              & 19.00                                            & female                                           & 1                                               \\\\\n",
       "\t Aubert, Mrs Leontine Pauline                     & 1st                                              &    NA                                            & female                                           & 1                                               \\\\\n",
       "\t Barkworth, Mr Algernon H                         & 1st                                              &    NA                                            & male                                             & 1                                               \\\\\n",
       "\t Baumann, Mr John D                               & 1st                                              &    NA                                            & male                                             & 0                                               \\\\\n",
       "\t Baxter, Mrs James (Helene DeLaudeniere Chaput)   & 1st                                              & 50.00                                            & female                                           & 1                                               \\\\\n",
       "\t Baxter, Mr Quigg Edmond                          & 1st                                              & 24.00                                            & male                                             & 0                                               \\\\\n",
       "\t Beattie, Mr Thomson                              & 1st                                              & 36.00                                            & male                                             & 0                                               \\\\\n",
       "\t Beckwith, Mr Richard Leonard                     & 1st                                              & 37.00                                            & male                                             & 1                                               \\\\\n",
       "\t Beckwith, Mrs Richard Leonard (Sallie Monypeny)  & 1st                                              & 47.00                                            & female                                           & 1                                               \\\\\n",
       "\t Behr, Mr Karl Howell                             & 1st                                              & 26.00                                            & male                                             & 1                                               \\\\\n",
       "\t Birnbaum, Mr Jakob                               & 1st                                              & 25.00                                            & male                                             & 0                                               \\\\\n",
       "\t Bishop, Mr Dickinson H                           & 1st                                              & 25.00                                            & male                                             & 1                                               \\\\\n",
       "\t Bishop, Mrs Dickinson H (Helen Walton)           & 1st                                              & 19.00                                            & female                                           & 1                                               \\\\\n",
       "\t Bjornstrm-Steffansson, Mr Mauritz Hakan          & 1st                                              & 28.00                                            & male                                             & 1                                               \\\\\n",
       "\t Blackwell, Mr Stephen Weart                      & 1st                                              & 45.00                                            & male                                             & 0                                               \\\\\n",
       "\t Blank, Mr Henry                                  & 1st                                              & 39.00                                            & male                                             & 1                                               \\\\\n",
       "\t Bonnell, Miss Caroline                           & 1st                                              & 30.00                                            & female                                           & 1                                               \\\\\n",
       "\t Bonnell, Miss Elizabeth                          & 1st                                              & 58.00                                            & female                                           & 1                                               \\\\\n",
       "\t Borebank, Mr John James                          & 1st                                              &    NA                                            & male                                             & 0                                               \\\\\n",
       "\t ... & ... & ... & ... & ...\\\\\n",
       "\t Vestrom, Miss Hulda Amanda Adolfina & 3rd                                 & 14                                  & female                              & 0                                  \\\\\n",
       "\t Vonk, Mr Jenko                      & 3rd                                 & 22                                  & male                                & 0                                  \\\\\n",
       "\t Ware, Mr Frederick                  & 3rd                                 & NA                                  & male                                & 0                                  \\\\\n",
       "\t Warren, Mr Charles William          & 3rd                                 & NA                                  & male                                & 0                                  \\\\\n",
       "\t Wazli, Mr Yousif                    & 3rd                                 & NA                                  & male                                & 0                                  \\\\\n",
       "\t Webber, Mr James                    & 3rd                                 & NA                                  & male                                & 0                                  \\\\\n",
       "\t Wennerstrom, Mr August Edvard       & 3rd                                 & NA                                  & male                                & 1                                  \\\\\n",
       "\t Wenzel, Mr Linhart                  & 3rd                                 & NA                                  & male                                & 0                                  \\\\\n",
       "\t Widegren, Mr Charles Peter          & 3rd                                 & 51                                  & male                                & 0                                  \\\\\n",
       "\t Wiklund, Mr Jacob Alfred            & 3rd                                 & 18                                  & male                                & 0                                  \\\\\n",
       "\t Wilkes, Mrs Ellen                   & 3rd                                 & 45                                  & female                              & 1                                  \\\\\n",
       "\t Willer, Mr Aaron                    & 3rd                                 & NA                                  & male                                & 0                                  \\\\\n",
       "\t Willey, Mr Edward                   & 3rd                                 & NA                                  & male                                & 0                                  \\\\\n",
       "\t Williams, Mr Howard Hugh            & 3rd                                 & NA                                  & male                                & 0                                  \\\\\n",
       "\t Williams, Mr Leslie                 & 3rd                                 & 28                                  & male                                & 0                                  \\\\\n",
       "\t Windelov, Mr Einar                  & 3rd                                 & 21                                  & male                                & 0                                  \\\\\n",
       "\t Wirz, Mr Albert                     & 3rd                                 & 27                                  & male                                & 0                                  \\\\\n",
       "\t Wiseman, Mr Phillippe               & 3rd                                 & NA                                  & male                                & 0                                  \\\\\n",
       "\t Wittevrongel, Mr Camiel             & 3rd                                 & 36                                  & male                                & 0                                  \\\\\n",
       "\t Yalsevac, Mr Ivan                   & 3rd                                 & NA                                  & male                                & 1                                  \\\\\n",
       "\t Yasbeck, Mr Antoni                  & 3rd                                 & 27                                  & male                                & 0                                  \\\\\n",
       "\t Yasbeck, Mrs Antoni                 & 3rd                                 & 15                                  & female                              & 1                                  \\\\\n",
       "\t Youssef, Mr Gerios                  & 3rd                                 & NA                                  & male                                & 0                                  \\\\\n",
       "\t Zabour, Miss Hileni                 & 3rd                                 & NA                                  & female                              & 0                                  \\\\\n",
       "\t Zabour, Miss Tamini                 & 3rd                                 & NA                                  & female                              & 0                                  \\\\\n",
       "\t Zakarian, Mr Artun                  & 3rd                                 & 27                                  & male                                & 0                                  \\\\\n",
       "\t Zakarian, Mr Maprieder              & 3rd                                 & 26                                  & male                                & 0                                  \\\\\n",
       "\t Zenni, Mr Philip                    & 3rd                                 & 22                                  & male                                & 0                                  \\\\\n",
       "\t Lievens, Mr Rene                    & 3rd                                 & 24                                  & male                                & 0                                  \\\\\n",
       "\t Zimmerman, Leo                      & 3rd                                 & 29                                  & male                                & 0                                  \\\\\n",
       "\\end{tabular}\n"
      ],
      "text/markdown": [
       "\n",
       "Name | PClass | Age | Sex | Survived | \n",
       "|---|---|---|---|---|---|---|---|---|---|---|---|---|---|---|---|---|---|---|---|---|---|---|---|---|---|---|---|---|---|---|---|---|---|---|---|---|---|---|---|---|---|---|---|---|---|---|---|---|---|---|---|---|---|---|---|---|---|---|---|---|\n",
       "| Allen, Miss Elisabeth Walton                     | 1st                                              | 29.00                                            | female                                           | 1                                                | \n",
       "| Allison, Miss Helen Loraine                      | 1st                                              |  2.00                                            | female                                           | 0                                                | \n",
       "| Allison, Mr Hudson Joshua Creighton              | 1st                                              | 30.00                                            | male                                             | 0                                                | \n",
       "| Allison, Mrs Hudson JC (Bessie Waldo Daniels)    | 1st                                              | 25.00                                            | female                                           | 0                                                | \n",
       "| Allison, Master Hudson Trevor                    | 1st                                              |  0.92                                            | male                                             | 1                                                | \n",
       "| Anderson, Mr Harry                               | 1st                                              | 47.00                                            | male                                             | 1                                                | \n",
       "| Andrews, Miss Kornelia Theodosia                 | 1st                                              | 63.00                                            | female                                           | 1                                                | \n",
       "| Andrews, Mr Thomas, jr                           | 1st                                              | 39.00                                            | male                                             | 0                                                | \n",
       "| Appleton, Mrs Edward Dale (Charlotte Lamson)     | 1st                                              | 58.00                                            | female                                           | 1                                                | \n",
       "| Artagaveytia, Mr Ramon                           | 1st                                              | 71.00                                            | male                                             | 0                                                | \n",
       "| Astor, Colonel John Jacob                        | 1st                                              | 47.00                                            | male                                             | 0                                                | \n",
       "| Astor, Mrs John Jacob (Madeleine Talmadge Force) | 1st                                              | 19.00                                            | female                                           | 1                                                | \n",
       "| Aubert, Mrs Leontine Pauline                     | 1st                                              |    NA                                            | female                                           | 1                                                | \n",
       "| Barkworth, Mr Algernon H                         | 1st                                              |    NA                                            | male                                             | 1                                                | \n",
       "| Baumann, Mr John D                               | 1st                                              |    NA                                            | male                                             | 0                                                | \n",
       "| Baxter, Mrs James (Helene DeLaudeniere Chaput)   | 1st                                              | 50.00                                            | female                                           | 1                                                | \n",
       "| Baxter, Mr Quigg Edmond                          | 1st                                              | 24.00                                            | male                                             | 0                                                | \n",
       "| Beattie, Mr Thomson                              | 1st                                              | 36.00                                            | male                                             | 0                                                | \n",
       "| Beckwith, Mr Richard Leonard                     | 1st                                              | 37.00                                            | male                                             | 1                                                | \n",
       "| Beckwith, Mrs Richard Leonard (Sallie Monypeny)  | 1st                                              | 47.00                                            | female                                           | 1                                                | \n",
       "| Behr, Mr Karl Howell                             | 1st                                              | 26.00                                            | male                                             | 1                                                | \n",
       "| Birnbaum, Mr Jakob                               | 1st                                              | 25.00                                            | male                                             | 0                                                | \n",
       "| Bishop, Mr Dickinson H                           | 1st                                              | 25.00                                            | male                                             | 1                                                | \n",
       "| Bishop, Mrs Dickinson H (Helen Walton)           | 1st                                              | 19.00                                            | female                                           | 1                                                | \n",
       "| Bjornstrm-Steffansson, Mr Mauritz Hakan          | 1st                                              | 28.00                                            | male                                             | 1                                                | \n",
       "| Blackwell, Mr Stephen Weart                      | 1st                                              | 45.00                                            | male                                             | 0                                                | \n",
       "| Blank, Mr Henry                                  | 1st                                              | 39.00                                            | male                                             | 1                                                | \n",
       "| Bonnell, Miss Caroline                           | 1st                                              | 30.00                                            | female                                           | 1                                                | \n",
       "| Bonnell, Miss Elizabeth                          | 1st                                              | 58.00                                            | female                                           | 1                                                | \n",
       "| Borebank, Mr John James                          | 1st                                              |    NA                                            | male                                             | 0                                                | \n",
       "| ... | ... | ... | ... | ... | \n",
       "| Vestrom, Miss Hulda Amanda Adolfina | 3rd                                 | 14                                  | female                              | 0                                   | \n",
       "| Vonk, Mr Jenko                      | 3rd                                 | 22                                  | male                                | 0                                   | \n",
       "| Ware, Mr Frederick                  | 3rd                                 | NA                                  | male                                | 0                                   | \n",
       "| Warren, Mr Charles William          | 3rd                                 | NA                                  | male                                | 0                                   | \n",
       "| Wazli, Mr Yousif                    | 3rd                                 | NA                                  | male                                | 0                                   | \n",
       "| Webber, Mr James                    | 3rd                                 | NA                                  | male                                | 0                                   | \n",
       "| Wennerstrom, Mr August Edvard       | 3rd                                 | NA                                  | male                                | 1                                   | \n",
       "| Wenzel, Mr Linhart                  | 3rd                                 | NA                                  | male                                | 0                                   | \n",
       "| Widegren, Mr Charles Peter          | 3rd                                 | 51                                  | male                                | 0                                   | \n",
       "| Wiklund, Mr Jacob Alfred            | 3rd                                 | 18                                  | male                                | 0                                   | \n",
       "| Wilkes, Mrs Ellen                   | 3rd                                 | 45                                  | female                              | 1                                   | \n",
       "| Willer, Mr Aaron                    | 3rd                                 | NA                                  | male                                | 0                                   | \n",
       "| Willey, Mr Edward                   | 3rd                                 | NA                                  | male                                | 0                                   | \n",
       "| Williams, Mr Howard Hugh            | 3rd                                 | NA                                  | male                                | 0                                   | \n",
       "| Williams, Mr Leslie                 | 3rd                                 | 28                                  | male                                | 0                                   | \n",
       "| Windelov, Mr Einar                  | 3rd                                 | 21                                  | male                                | 0                                   | \n",
       "| Wirz, Mr Albert                     | 3rd                                 | 27                                  | male                                | 0                                   | \n",
       "| Wiseman, Mr Phillippe               | 3rd                                 | NA                                  | male                                | 0                                   | \n",
       "| Wittevrongel, Mr Camiel             | 3rd                                 | 36                                  | male                                | 0                                   | \n",
       "| Yalsevac, Mr Ivan                   | 3rd                                 | NA                                  | male                                | 1                                   | \n",
       "| Yasbeck, Mr Antoni                  | 3rd                                 | 27                                  | male                                | 0                                   | \n",
       "| Yasbeck, Mrs Antoni                 | 3rd                                 | 15                                  | female                              | 1                                   | \n",
       "| Youssef, Mr Gerios                  | 3rd                                 | NA                                  | male                                | 0                                   | \n",
       "| Zabour, Miss Hileni                 | 3rd                                 | NA                                  | female                              | 0                                   | \n",
       "| Zabour, Miss Tamini                 | 3rd                                 | NA                                  | female                              | 0                                   | \n",
       "| Zakarian, Mr Artun                  | 3rd                                 | 27                                  | male                                | 0                                   | \n",
       "| Zakarian, Mr Maprieder              | 3rd                                 | 26                                  | male                                | 0                                   | \n",
       "| Zenni, Mr Philip                    | 3rd                                 | 22                                  | male                                | 0                                   | \n",
       "| Lievens, Mr Rene                    | 3rd                                 | 24                                  | male                                | 0                                   | \n",
       "| Zimmerman, Leo                      | 3rd                                 | 29                                  | male                                | 0                                   | \n",
       "\n",
       "\n"
      ],
      "text/plain": [
       "     Name                                             PClass Age   Sex   \n",
       "1    Allen, Miss Elisabeth Walton                     1st    29.00 female\n",
       "2    Allison, Miss Helen Loraine                      1st     2.00 female\n",
       "3    Allison, Mr Hudson Joshua Creighton              1st    30.00 male  \n",
       "4    Allison, Mrs Hudson JC (Bessie Waldo Daniels)    1st    25.00 female\n",
       "5    Allison, Master Hudson Trevor                    1st     0.92 male  \n",
       "6    Anderson, Mr Harry                               1st    47.00 male  \n",
       "7    Andrews, Miss Kornelia Theodosia                 1st    63.00 female\n",
       "8    Andrews, Mr Thomas, jr                           1st    39.00 male  \n",
       "9    Appleton, Mrs Edward Dale (Charlotte Lamson)     1st    58.00 female\n",
       "10   Artagaveytia, Mr Ramon                           1st    71.00 male  \n",
       "11   Astor, Colonel John Jacob                        1st    47.00 male  \n",
       "12   Astor, Mrs John Jacob (Madeleine Talmadge Force) 1st    19.00 female\n",
       "13   Aubert, Mrs Leontine Pauline                     1st       NA female\n",
       "14   Barkworth, Mr Algernon H                         1st       NA male  \n",
       "15   Baumann, Mr John D                               1st       NA male  \n",
       "16   Baxter, Mrs James (Helene DeLaudeniere Chaput)   1st    50.00 female\n",
       "17   Baxter, Mr Quigg Edmond                          1st    24.00 male  \n",
       "18   Beattie, Mr Thomson                              1st    36.00 male  \n",
       "19   Beckwith, Mr Richard Leonard                     1st    37.00 male  \n",
       "20   Beckwith, Mrs Richard Leonard (Sallie Monypeny)  1st    47.00 female\n",
       "21   Behr, Mr Karl Howell                             1st    26.00 male  \n",
       "22   Birnbaum, Mr Jakob                               1st    25.00 male  \n",
       "23   Bishop, Mr Dickinson H                           1st    25.00 male  \n",
       "24   Bishop, Mrs Dickinson H (Helen Walton)           1st    19.00 female\n",
       "25   Bjornstrm-Steffansson, Mr Mauritz Hakan          1st    28.00 male  \n",
       "26   Blackwell, Mr Stephen Weart                      1st    45.00 male  \n",
       "27   Blank, Mr Henry                                  1st    39.00 male  \n",
       "28   Bonnell, Miss Caroline                           1st    30.00 female\n",
       "29   Bonnell, Miss Elizabeth                          1st    58.00 female\n",
       "30   Borebank, Mr John James                          1st       NA male  \n",
       "...  ...                                              ...    ...   ...   \n",
       "1283 Vestrom, Miss Hulda Amanda Adolfina              3rd    14    female\n",
       "1284 Vonk, Mr Jenko                                   3rd    22    male  \n",
       "1285 Ware, Mr Frederick                               3rd    NA    male  \n",
       "1286 Warren, Mr Charles William                       3rd    NA    male  \n",
       "1287 Wazli, Mr Yousif                                 3rd    NA    male  \n",
       "1288 Webber, Mr James                                 3rd    NA    male  \n",
       "1289 Wennerstrom, Mr August Edvard                    3rd    NA    male  \n",
       "1290 Wenzel, Mr Linhart                               3rd    NA    male  \n",
       "1291 Widegren, Mr Charles Peter                       3rd    51    male  \n",
       "1292 Wiklund, Mr Jacob Alfred                         3rd    18    male  \n",
       "1293 Wilkes, Mrs Ellen                                3rd    45    female\n",
       "1294 Willer, Mr Aaron                                 3rd    NA    male  \n",
       "1295 Willey, Mr Edward                                3rd    NA    male  \n",
       "1296 Williams, Mr Howard Hugh                         3rd    NA    male  \n",
       "1297 Williams, Mr Leslie                              3rd    28    male  \n",
       "1298 Windelov, Mr Einar                               3rd    21    male  \n",
       "1299 Wirz, Mr Albert                                  3rd    27    male  \n",
       "1300 Wiseman, Mr Phillippe                            3rd    NA    male  \n",
       "1301 Wittevrongel, Mr Camiel                          3rd    36    male  \n",
       "1302 Yalsevac, Mr Ivan                                3rd    NA    male  \n",
       "1303 Yasbeck, Mr Antoni                               3rd    27    male  \n",
       "1304 Yasbeck, Mrs Antoni                              3rd    15    female\n",
       "1305 Youssef, Mr Gerios                               3rd    NA    male  \n",
       "1306 Zabour, Miss Hileni                              3rd    NA    female\n",
       "1307 Zabour, Miss Tamini                              3rd    NA    female\n",
       "1308 Zakarian, Mr Artun                               3rd    27    male  \n",
       "1309 Zakarian, Mr Maprieder                           3rd    26    male  \n",
       "1310 Zenni, Mr Philip                                 3rd    22    male  \n",
       "1311 Lievens, Mr Rene                                 3rd    24    male  \n",
       "1312 Zimmerman, Leo                                   3rd    29    male  \n",
       "     Survived\n",
       "1    1       \n",
       "2    0       \n",
       "3    0       \n",
       "4    0       \n",
       "5    1       \n",
       "6    1       \n",
       "7    1       \n",
       "8    0       \n",
       "9    1       \n",
       "10   0       \n",
       "11   0       \n",
       "12   1       \n",
       "13   1       \n",
       "14   1       \n",
       "15   0       \n",
       "16   1       \n",
       "17   0       \n",
       "18   0       \n",
       "19   1       \n",
       "20   1       \n",
       "21   1       \n",
       "22   0       \n",
       "23   1       \n",
       "24   1       \n",
       "25   1       \n",
       "26   0       \n",
       "27   1       \n",
       "28   1       \n",
       "29   1       \n",
       "30   0       \n",
       "...  ...     \n",
       "1283 0       \n",
       "1284 0       \n",
       "1285 0       \n",
       "1286 0       \n",
       "1287 0       \n",
       "1288 0       \n",
       "1289 1       \n",
       "1290 0       \n",
       "1291 0       \n",
       "1292 0       \n",
       "1293 1       \n",
       "1294 0       \n",
       "1295 0       \n",
       "1296 0       \n",
       "1297 0       \n",
       "1298 0       \n",
       "1299 0       \n",
       "1300 0       \n",
       "1301 0       \n",
       "1302 1       \n",
       "1303 0       \n",
       "1304 1       \n",
       "1305 0       \n",
       "1306 0       \n",
       "1307 0       \n",
       "1308 0       \n",
       "1309 0       \n",
       "1310 0       \n",
       "1311 0       \n",
       "1312 0       "
      ]
     },
     "metadata": {},
     "output_type": "display_data"
    }
   ],
   "source": [
    "read.csv(file.choose())"
   ]
  },
  {
   "cell_type": "code",
   "execution_count": 11,
   "metadata": {},
   "outputs": [
    {
     "ename": "ERROR",
     "evalue": "Error in library(dplyr): there is no package called 'dplyr'\n",
     "output_type": "error",
     "traceback": [
      "Error in library(dplyr): there is no package called 'dplyr'\nTraceback:\n",
      "1. library(dplyr)",
      "2. stop(txt, domain = NA)"
     ]
    }
   ],
   "source": [
    "library(dplyr)"
   ]
  },
  {
   "cell_type": "code",
   "execution_count": 10,
   "metadata": {
    "collapsed": true
   },
   "outputs": [],
   "source": [
    "data = read.csv(\"Titanic.csv\", na.strings =c(\"NA\") )"
   ]
  },
  {
   "cell_type": "code",
   "execution_count": 13,
   "metadata": {},
   "outputs": [
    {
     "name": "stderr",
     "output_type": "stream",
     "text": [
      "Installing package into 'C:/Users/theo0007/Documents/R/win-library/3.4'\n",
      "(as 'lib' is unspecified)\n",
      "also installing the dependencies 'BH', 'plogr'\n",
      "\n"
     ]
    },
    {
     "name": "stdout",
     "output_type": "stream",
     "text": [
      "package 'BH' successfully unpacked and MD5 sums checked\n",
      "package 'plogr' successfully unpacked and MD5 sums checked\n",
      "package 'dplyr' successfully unpacked and MD5 sums checked\n",
      "\n",
      "The downloaded binary packages are in\n",
      "\tC:\\Users\\theo0007\\AppData\\Local\\Temp\\RtmpOYybxg\\downloaded_packages\n"
     ]
    },
    {
     "name": "stderr",
     "output_type": "stream",
     "text": [
      "\n",
      "Attaching package: 'dplyr'\n",
      "\n",
      "The following objects are masked from 'package:stats':\n",
      "\n",
      "    filter, lag\n",
      "\n",
      "The following objects are masked from 'package:base':\n",
      "\n",
      "    intersect, setdiff, setequal, union\n",
      "\n"
     ]
    }
   ],
   "source": [
    "install.packages(\"dplyr\",repos = \"http://cran.us.r-project.org\")\n",
    "library(dplyr)"
   ]
  },
  {
   "cell_type": "code",
   "execution_count": 15,
   "metadata": {
    "collapsed": true
   },
   "outputs": [],
   "source": [
    "library(dplyr)"
   ]
  },
  {
   "cell_type": "code",
   "execution_count": null,
   "metadata": {
    "collapsed": true
   },
   "outputs": [],
   "source": [
    "data = read.csv(\"Titanic.csv\", na.strings =c(\"NA\") )"
   ]
  },
  {
   "cell_type": "code",
   "execution_count": 16,
   "metadata": {},
   "outputs": [
    {
     "name": "stdout",
     "output_type": "stream",
     "text": [
      "'data.frame':\t1312 obs. of  5 variables:\n",
      " $ Name    : Factor w/ 1309 levels \"Abbing, Mr Anthony\",..: 22 25 26 27 24 31 45 46 50 54 ...\n",
      " $ PClass  : Factor w/ 3 levels \"1st\",\"2nd\",\"3rd\": 1 1 1 1 1 1 1 1 1 1 ...\n",
      " $ Age     : num  29 2 30 25 0.92 47 63 39 58 71 ...\n",
      " $ Sex     : Factor w/ 2 levels \"female\",\"male\": 1 1 2 1 2 2 1 2 1 2 ...\n",
      " $ Survived: int  1 0 0 0 1 1 1 0 1 0 ...\n"
     ]
    }
   ],
   "source": [
    "str(data)"
   ]
  },
  {
   "cell_type": "code",
   "execution_count": 19,
   "metadata": {
    "collapsed": true
   },
   "outputs": [],
   "source": [
    "data$Survived = as.factor(data$Survived)"
   ]
  },
  {
   "cell_type": "code",
   "execution_count": 20,
   "metadata": {},
   "outputs": [
    {
     "name": "stdout",
     "output_type": "stream",
     "text": [
      "'data.frame':\t1312 obs. of  5 variables:\n",
      " $ Name    : Factor w/ 1309 levels \"Abbing, Mr Anthony\",..: 22 25 26 27 24 31 45 46 50 54 ...\n",
      " $ PClass  : Factor w/ 3 levels \"1st\",\"2nd\",\"3rd\": 1 1 1 1 1 1 1 1 1 1 ...\n",
      " $ Age     : num  29 2 30 25 0.92 47 63 39 58 71 ...\n",
      " $ Sex     : Factor w/ 2 levels \"female\",\"male\": 1 1 2 1 2 2 1 2 1 2 ...\n",
      " $ Survived: Factor w/ 2 levels \"0\",\"1\": 2 1 1 1 2 2 2 1 2 1 ...\n"
     ]
    }
   ],
   "source": [
    "str(data)"
   ]
  },
  {
   "cell_type": "code",
   "execution_count": 21,
   "metadata": {},
   "outputs": [
    {
     "data": {
      "text/plain": [
       "                           Name      PClass         Age            Sex     \n",
       " Carlsson, Mr Frans Olof     :   2   1st:322   Min.   : 0.17   female:462  \n",
       " Connolly, Miss Kate         :   2   2nd:279   1st Qu.:21.00   male  :850  \n",
       " Kelly, Mr James             :   2   3rd:711   Median :28.00               \n",
       " Abbing, Mr Anthony          :   1             Mean   :30.40               \n",
       " Abbott, Master Eugene Joseph:   1             3rd Qu.:39.00               \n",
       " Abbott, Mr Rossmore Edward  :   1             Max.   :71.00               \n",
       " (Other)                     :1303             NA's   :556                 \n",
       " Survived\n",
       " 0:862   \n",
       " 1:450   \n",
       "         \n",
       "         \n",
       "         \n",
       "         \n",
       "         "
      ]
     },
     "metadata": {},
     "output_type": "display_data"
    }
   ],
   "source": [
    "summary(data)"
   ]
  },
  {
   "cell_type": "code",
   "execution_count": 22,
   "metadata": {},
   "outputs": [
    {
     "data": {
      "text/plain": [
       "                     \n",
       "1 function (x, ...)  \n",
       "2 UseMethod(\"subset\")"
      ]
     },
     "metadata": {},
     "output_type": "display_data"
    }
   ],
   "source": [
    "head(subset)"
   ]
  },
  {
   "cell_type": "code",
   "execution_count": 25,
   "metadata": {
    "collapsed": true
   },
   "outputs": [],
   "source": [
    "subset = select(data, ends_with(\"e\"))"
   ]
  },
  {
   "cell_type": "code",
   "execution_count": 26,
   "metadata": {},
   "outputs": [
    {
     "data": {
      "text/html": [
       "<table>\n",
       "<thead><tr><th scope=col>Name</th><th scope=col>Age</th></tr></thead>\n",
       "<tbody>\n",
       "\t<tr><td>Allen, Miss Elisabeth Walton                 </td><td>29.00                                        </td></tr>\n",
       "\t<tr><td>Allison, Miss Helen Loraine                  </td><td> 2.00                                        </td></tr>\n",
       "\t<tr><td>Allison, Mr Hudson Joshua Creighton          </td><td>30.00                                        </td></tr>\n",
       "\t<tr><td>Allison, Mrs Hudson JC (Bessie Waldo Daniels)</td><td>25.00                                        </td></tr>\n",
       "\t<tr><td>Allison, Master Hudson Trevor                </td><td> 0.92                                        </td></tr>\n",
       "\t<tr><td>Anderson, Mr Harry                           </td><td>47.00                                        </td></tr>\n",
       "</tbody>\n",
       "</table>\n"
      ],
      "text/latex": [
       "\\begin{tabular}{r|ll}\n",
       " Name & Age\\\\\n",
       "\\hline\n",
       "\t Allen, Miss Elisabeth Walton                  & 29.00                                        \\\\\n",
       "\t Allison, Miss Helen Loraine                   &  2.00                                        \\\\\n",
       "\t Allison, Mr Hudson Joshua Creighton           & 30.00                                        \\\\\n",
       "\t Allison, Mrs Hudson JC (Bessie Waldo Daniels) & 25.00                                        \\\\\n",
       "\t Allison, Master Hudson Trevor                 &  0.92                                        \\\\\n",
       "\t Anderson, Mr Harry                            & 47.00                                        \\\\\n",
       "\\end{tabular}\n"
      ],
      "text/markdown": [
       "\n",
       "Name | Age | \n",
       "|---|---|---|---|---|---|\n",
       "| Allen, Miss Elisabeth Walton                  | 29.00                                         | \n",
       "| Allison, Miss Helen Loraine                   |  2.00                                         | \n",
       "| Allison, Mr Hudson Joshua Creighton           | 30.00                                         | \n",
       "| Allison, Mrs Hudson JC (Bessie Waldo Daniels) | 25.00                                         | \n",
       "| Allison, Master Hudson Trevor                 |  0.92                                         | \n",
       "| Anderson, Mr Harry                            | 47.00                                         | \n",
       "\n",
       "\n"
      ],
      "text/plain": [
       "  Name                                          Age  \n",
       "1 Allen, Miss Elisabeth Walton                  29.00\n",
       "2 Allison, Miss Helen Loraine                    2.00\n",
       "3 Allison, Mr Hudson Joshua Creighton           30.00\n",
       "4 Allison, Mrs Hudson JC (Bessie Waldo Daniels) 25.00\n",
       "5 Allison, Master Hudson Trevor                  0.92\n",
       "6 Anderson, Mr Harry                            47.00"
      ]
     },
     "metadata": {},
     "output_type": "display_data"
    }
   ],
   "source": [
    "head(subset)"
   ]
  },
  {
   "cell_type": "code",
   "execution_count": 27,
   "metadata": {
    "collapsed": true
   },
   "outputs": [],
   "source": [
    "subset = select(data, starts_with(\"S\"))"
   ]
  },
  {
   "cell_type": "code",
   "execution_count": 28,
   "metadata": {},
   "outputs": [
    {
     "data": {
      "text/html": [
       "<table>\n",
       "<thead><tr><th scope=col>Sex</th><th scope=col>Survived</th></tr></thead>\n",
       "<tbody>\n",
       "\t<tr><td>female</td><td>1     </td></tr>\n",
       "\t<tr><td>female</td><td>0     </td></tr>\n",
       "\t<tr><td>male  </td><td>0     </td></tr>\n",
       "\t<tr><td>female</td><td>0     </td></tr>\n",
       "\t<tr><td>male  </td><td>1     </td></tr>\n",
       "\t<tr><td>male  </td><td>1     </td></tr>\n",
       "</tbody>\n",
       "</table>\n"
      ],
      "text/latex": [
       "\\begin{tabular}{r|ll}\n",
       " Sex & Survived\\\\\n",
       "\\hline\n",
       "\t female & 1     \\\\\n",
       "\t female & 0     \\\\\n",
       "\t male   & 0     \\\\\n",
       "\t female & 0     \\\\\n",
       "\t male   & 1     \\\\\n",
       "\t male   & 1     \\\\\n",
       "\\end{tabular}\n"
      ],
      "text/markdown": [
       "\n",
       "Sex | Survived | \n",
       "|---|---|---|---|---|---|\n",
       "| female | 1      | \n",
       "| female | 0      | \n",
       "| male   | 0      | \n",
       "| female | 0      | \n",
       "| male   | 1      | \n",
       "| male   | 1      | \n",
       "\n",
       "\n"
      ],
      "text/plain": [
       "  Sex    Survived\n",
       "1 female 1       \n",
       "2 female 0       \n",
       "3 male   0       \n",
       "4 female 0       \n",
       "5 male   1       \n",
       "6 male   1       "
      ]
     },
     "metadata": {},
     "output_type": "display_data"
    }
   ],
   "source": [
    "head(subset)"
   ]
  },
  {
   "cell_type": "code",
   "execution_count": 29,
   "metadata": {
    "collapsed": true
   },
   "outputs": [],
   "source": [
    "subset=select(data,Name,Age)"
   ]
  },
  {
   "cell_type": "code",
   "execution_count": 30,
   "metadata": {},
   "outputs": [
    {
     "data": {
      "text/html": [
       "<table>\n",
       "<thead><tr><th scope=col>Name</th><th scope=col>Age</th></tr></thead>\n",
       "<tbody>\n",
       "\t<tr><td>Allen, Miss Elisabeth Walton                 </td><td>29.00                                        </td></tr>\n",
       "\t<tr><td>Allison, Miss Helen Loraine                  </td><td> 2.00                                        </td></tr>\n",
       "\t<tr><td>Allison, Mr Hudson Joshua Creighton          </td><td>30.00                                        </td></tr>\n",
       "\t<tr><td>Allison, Mrs Hudson JC (Bessie Waldo Daniels)</td><td>25.00                                        </td></tr>\n",
       "\t<tr><td>Allison, Master Hudson Trevor                </td><td> 0.92                                        </td></tr>\n",
       "\t<tr><td>Anderson, Mr Harry                           </td><td>47.00                                        </td></tr>\n",
       "</tbody>\n",
       "</table>\n"
      ],
      "text/latex": [
       "\\begin{tabular}{r|ll}\n",
       " Name & Age\\\\\n",
       "\\hline\n",
       "\t Allen, Miss Elisabeth Walton                  & 29.00                                        \\\\\n",
       "\t Allison, Miss Helen Loraine                   &  2.00                                        \\\\\n",
       "\t Allison, Mr Hudson Joshua Creighton           & 30.00                                        \\\\\n",
       "\t Allison, Mrs Hudson JC (Bessie Waldo Daniels) & 25.00                                        \\\\\n",
       "\t Allison, Master Hudson Trevor                 &  0.92                                        \\\\\n",
       "\t Anderson, Mr Harry                            & 47.00                                        \\\\\n",
       "\\end{tabular}\n"
      ],
      "text/markdown": [
       "\n",
       "Name | Age | \n",
       "|---|---|---|---|---|---|\n",
       "| Allen, Miss Elisabeth Walton                  | 29.00                                         | \n",
       "| Allison, Miss Helen Loraine                   |  2.00                                         | \n",
       "| Allison, Mr Hudson Joshua Creighton           | 30.00                                         | \n",
       "| Allison, Mrs Hudson JC (Bessie Waldo Daniels) | 25.00                                         | \n",
       "| Allison, Master Hudson Trevor                 |  0.92                                         | \n",
       "| Anderson, Mr Harry                            | 47.00                                         | \n",
       "\n",
       "\n"
      ],
      "text/plain": [
       "  Name                                          Age  \n",
       "1 Allen, Miss Elisabeth Walton                  29.00\n",
       "2 Allison, Miss Helen Loraine                    2.00\n",
       "3 Allison, Mr Hudson Joshua Creighton           30.00\n",
       "4 Allison, Mrs Hudson JC (Bessie Waldo Daniels) 25.00\n",
       "5 Allison, Master Hudson Trevor                  0.92\n",
       "6 Anderson, Mr Harry                            47.00"
      ]
     },
     "metadata": {},
     "output_type": "display_data"
    }
   ],
   "source": [
    "head(subset)"
   ]
  },
  {
   "cell_type": "code",
   "execution_count": 32,
   "metadata": {},
   "outputs": [
    {
     "data": {
      "text/html": [
       "<table>\n",
       "<thead><tr><th scope=col>Name</th><th scope=col>PClass</th><th scope=col>Age</th><th scope=col>Sex</th><th scope=col>Survived</th></tr></thead>\n",
       "<tbody>\n",
       "\t<tr><td>Anderson, Mr Harry                          </td><td>1st                                         </td><td>47                                          </td><td>male                                        </td><td>1                                           </td></tr>\n",
       "\t<tr><td>Andrews, Miss Kornelia Theodosia            </td><td>1st                                         </td><td>63                                          </td><td>female                                      </td><td>1                                           </td></tr>\n",
       "\t<tr><td>Andrews, Mr Thomas, jr                      </td><td>1st                                         </td><td>39                                          </td><td>male                                        </td><td>0                                           </td></tr>\n",
       "\t<tr><td>Appleton, Mrs Edward Dale (Charlotte Lamson)</td><td>1st                                         </td><td>58                                          </td><td>female                                      </td><td>1                                           </td></tr>\n",
       "\t<tr><td>Artagaveytia, Mr Ramon                      </td><td>1st                                         </td><td>71                                          </td><td>male                                        </td><td>0                                           </td></tr>\n",
       "\t<tr><td>Astor, Colonel John Jacob                   </td><td>1st                                         </td><td>47                                          </td><td>male                                        </td><td>0                                           </td></tr>\n",
       "</tbody>\n",
       "</table>\n"
      ],
      "text/latex": [
       "\\begin{tabular}{r|lllll}\n",
       " Name & PClass & Age & Sex & Survived\\\\\n",
       "\\hline\n",
       "\t Anderson, Mr Harry                           & 1st                                          & 47                                           & male                                         & 1                                           \\\\\n",
       "\t Andrews, Miss Kornelia Theodosia             & 1st                                          & 63                                           & female                                       & 1                                           \\\\\n",
       "\t Andrews, Mr Thomas, jr                       & 1st                                          & 39                                           & male                                         & 0                                           \\\\\n",
       "\t Appleton, Mrs Edward Dale (Charlotte Lamson) & 1st                                          & 58                                           & female                                       & 1                                           \\\\\n",
       "\t Artagaveytia, Mr Ramon                       & 1st                                          & 71                                           & male                                         & 0                                           \\\\\n",
       "\t Astor, Colonel John Jacob                    & 1st                                          & 47                                           & male                                         & 0                                           \\\\\n",
       "\\end{tabular}\n"
      ],
      "text/markdown": [
       "\n",
       "Name | PClass | Age | Sex | Survived | \n",
       "|---|---|---|---|---|---|\n",
       "| Anderson, Mr Harry                           | 1st                                          | 47                                           | male                                         | 1                                            | \n",
       "| Andrews, Miss Kornelia Theodosia             | 1st                                          | 63                                           | female                                       | 1                                            | \n",
       "| Andrews, Mr Thomas, jr                       | 1st                                          | 39                                           | male                                         | 0                                            | \n",
       "| Appleton, Mrs Edward Dale (Charlotte Lamson) | 1st                                          | 58                                           | female                                       | 1                                            | \n",
       "| Artagaveytia, Mr Ramon                       | 1st                                          | 71                                           | male                                         | 0                                            | \n",
       "| Astor, Colonel John Jacob                    | 1st                                          | 47                                           | male                                         | 0                                            | \n",
       "\n",
       "\n"
      ],
      "text/plain": [
       "  Name                                         PClass Age Sex    Survived\n",
       "1 Anderson, Mr Harry                           1st    47  male   1       \n",
       "2 Andrews, Miss Kornelia Theodosia             1st    63  female 1       \n",
       "3 Andrews, Mr Thomas, jr                       1st    39  male   0       \n",
       "4 Appleton, Mrs Edward Dale (Charlotte Lamson) 1st    58  female 1       \n",
       "5 Artagaveytia, Mr Ramon                       1st    71  male   0       \n",
       "6 Astor, Colonel John Jacob                    1st    47  male   0       "
      ]
     },
     "metadata": {},
     "output_type": "display_data"
    }
   ],
   "source": [
    "data_filtered = filter(data, Age > 30)\n",
    "head(data_filtered)"
   ]
  },
  {
   "cell_type": "markdown",
   "metadata": {},
   "source": [
    "select is by columns\n",
    "filter is by rows"
   ]
  },
  {
   "cell_type": "code",
   "execution_count": 34,
   "metadata": {},
   "outputs": [
    {
     "data": {
      "text/html": [
       "<table>\n",
       "<thead><tr><th scope=col>Name</th><th scope=col>PClass</th><th scope=col>Age</th><th scope=col>Sex</th><th scope=col>Survived</th></tr></thead>\n",
       "<tbody>\n",
       "\t<tr><td>Abbing, Mr Anthony          </td><td>3rd                         </td><td>42                          </td><td>male                        </td><td>0                           </td></tr>\n",
       "\t<tr><td>Abbott, Master Eugene Joseph</td><td>3rd                         </td><td>13                          </td><td>male                        </td><td>0                           </td></tr>\n",
       "\t<tr><td>Abbott, Mr Rossmore Edward  </td><td>3rd                         </td><td>16                          </td><td>male                        </td><td>0                           </td></tr>\n",
       "\t<tr><td>Abbott, Mrs Stanton (Rosa)  </td><td>3rd                         </td><td>35                          </td><td>female                      </td><td>1                           </td></tr>\n",
       "\t<tr><td>Abelseth, Miss Anna Karen   </td><td>3rd                         </td><td>16                          </td><td>female                      </td><td>1                           </td></tr>\n",
       "\t<tr><td>Abelseth, Mr Olaus          </td><td>3rd                         </td><td>25                          </td><td>male                        </td><td>1                           </td></tr>\n",
       "</tbody>\n",
       "</table>\n"
      ],
      "text/latex": [
       "\\begin{tabular}{r|lllll}\n",
       " Name & PClass & Age & Sex & Survived\\\\\n",
       "\\hline\n",
       "\t Abbing, Mr Anthony           & 3rd                          & 42                           & male                         & 0                           \\\\\n",
       "\t Abbott, Master Eugene Joseph & 3rd                          & 13                           & male                         & 0                           \\\\\n",
       "\t Abbott, Mr Rossmore Edward   & 3rd                          & 16                           & male                         & 0                           \\\\\n",
       "\t Abbott, Mrs Stanton (Rosa)   & 3rd                          & 35                           & female                       & 1                           \\\\\n",
       "\t Abelseth, Miss Anna Karen    & 3rd                          & 16                           & female                       & 1                           \\\\\n",
       "\t Abelseth, Mr Olaus           & 3rd                          & 25                           & male                         & 1                           \\\\\n",
       "\\end{tabular}\n"
      ],
      "text/markdown": [
       "\n",
       "Name | PClass | Age | Sex | Survived | \n",
       "|---|---|---|---|---|---|\n",
       "| Abbing, Mr Anthony           | 3rd                          | 42                           | male                         | 0                            | \n",
       "| Abbott, Master Eugene Joseph | 3rd                          | 13                           | male                         | 0                            | \n",
       "| Abbott, Mr Rossmore Edward   | 3rd                          | 16                           | male                         | 0                            | \n",
       "| Abbott, Mrs Stanton (Rosa)   | 3rd                          | 35                           | female                       | 1                            | \n",
       "| Abelseth, Miss Anna Karen    | 3rd                          | 16                           | female                       | 1                            | \n",
       "| Abelseth, Mr Olaus           | 3rd                          | 25                           | male                         | 1                            | \n",
       "\n",
       "\n"
      ],
      "text/plain": [
       "  Name                         PClass Age Sex    Survived\n",
       "1 Abbing, Mr Anthony           3rd    42  male   0       \n",
       "2 Abbott, Master Eugene Joseph 3rd    13  male   0       \n",
       "3 Abbott, Mr Rossmore Edward   3rd    16  male   0       \n",
       "4 Abbott, Mrs Stanton (Rosa)   3rd    35  female 1       \n",
       "5 Abelseth, Miss Anna Karen    3rd    16  female 1       \n",
       "6 Abelseth, Mr Olaus           3rd    25  male   1       "
      ]
     },
     "metadata": {},
     "output_type": "display_data"
    }
   ],
   "source": [
    "data_filtered = filter(data,PClass==\"3rd\")\n",
    "head(data_filtered)\n"
   ]
  },
  {
   "cell_type": "code",
   "execution_count": 39,
   "metadata": {},
   "outputs": [
    {
     "data": {
      "text/html": [
       "<table>\n",
       "<thead><tr><th scope=col>Name</th><th scope=col>PClass</th><th scope=col>Age</th><th scope=col>Sex</th><th scope=col>Survived</th></tr></thead>\n",
       "<tbody>\n",
       "\t<tr><td>Anderson, Mr Harry                          </td><td>1st                                         </td><td>47                                          </td><td>male                                        </td><td>1                                           </td></tr>\n",
       "\t<tr><td>Andrews, Miss Kornelia Theodosia            </td><td>1st                                         </td><td>63                                          </td><td>female                                      </td><td>1                                           </td></tr>\n",
       "\t<tr><td>Andrews, Mr Thomas, jr                      </td><td>1st                                         </td><td>39                                          </td><td>male                                        </td><td>0                                           </td></tr>\n",
       "\t<tr><td>Appleton, Mrs Edward Dale (Charlotte Lamson)</td><td>1st                                         </td><td>58                                          </td><td>female                                      </td><td>1                                           </td></tr>\n",
       "\t<tr><td>Artagaveytia, Mr Ramon                      </td><td>1st                                         </td><td>71                                          </td><td>male                                        </td><td>0                                           </td></tr>\n",
       "\t<tr><td>Astor, Colonel John Jacob                   </td><td>1st                                         </td><td>47                                          </td><td>male                                        </td><td>0                                           </td></tr>\n",
       "</tbody>\n",
       "</table>\n"
      ],
      "text/latex": [
       "\\begin{tabular}{r|lllll}\n",
       " Name & PClass & Age & Sex & Survived\\\\\n",
       "\\hline\n",
       "\t Anderson, Mr Harry                           & 1st                                          & 47                                           & male                                         & 1                                           \\\\\n",
       "\t Andrews, Miss Kornelia Theodosia             & 1st                                          & 63                                           & female                                       & 1                                           \\\\\n",
       "\t Andrews, Mr Thomas, jr                       & 1st                                          & 39                                           & male                                         & 0                                           \\\\\n",
       "\t Appleton, Mrs Edward Dale (Charlotte Lamson) & 1st                                          & 58                                           & female                                       & 1                                           \\\\\n",
       "\t Artagaveytia, Mr Ramon                       & 1st                                          & 71                                           & male                                         & 0                                           \\\\\n",
       "\t Astor, Colonel John Jacob                    & 1st                                          & 47                                           & male                                         & 0                                           \\\\\n",
       "\\end{tabular}\n"
      ],
      "text/markdown": [
       "\n",
       "Name | PClass | Age | Sex | Survived | \n",
       "|---|---|---|---|---|---|\n",
       "| Anderson, Mr Harry                           | 1st                                          | 47                                           | male                                         | 1                                            | \n",
       "| Andrews, Miss Kornelia Theodosia             | 1st                                          | 63                                           | female                                       | 1                                            | \n",
       "| Andrews, Mr Thomas, jr                       | 1st                                          | 39                                           | male                                         | 0                                            | \n",
       "| Appleton, Mrs Edward Dale (Charlotte Lamson) | 1st                                          | 58                                           | female                                       | 1                                            | \n",
       "| Artagaveytia, Mr Ramon                       | 1st                                          | 71                                           | male                                         | 0                                            | \n",
       "| Astor, Colonel John Jacob                    | 1st                                          | 47                                           | male                                         | 0                                            | \n",
       "\n",
       "\n"
      ],
      "text/plain": [
       "  Name                                         PClass Age Sex    Survived\n",
       "1 Anderson, Mr Harry                           1st    47  male   1       \n",
       "2 Andrews, Miss Kornelia Theodosia             1st    63  female 1       \n",
       "3 Andrews, Mr Thomas, jr                       1st    39  male   0       \n",
       "4 Appleton, Mrs Edward Dale (Charlotte Lamson) 1st    58  female 1       \n",
       "5 Artagaveytia, Mr Ramon                       1st    71  male   0       \n",
       "6 Astor, Colonel John Jacob                    1st    47  male   0       "
      ]
     },
     "metadata": {},
     "output_type": "display_data"
    }
   ],
   "source": [
    "data_filtered=filter(data,Age>30 | PClass ==\"3rd\")\n",
    "head(data_filtered)"
   ]
  },
  {
   "cell_type": "code",
   "execution_count": 41,
   "metadata": {},
   "outputs": [
    {
     "data": {
      "text/html": [
       "<table>\n",
       "<thead><tr><th scope=col>Name</th><th scope=col>PClass</th><th scope=col>Age</th><th scope=col>Sex</th><th scope=col>Survived</th></tr></thead>\n",
       "<tbody>\n",
       "\t<tr><td>Abbing, Mr Anthony           </td><td>3rd                          </td><td>42                           </td><td>male                         </td><td>0                            </td></tr>\n",
       "\t<tr><td>Abbott, Mrs Stanton (Rosa)   </td><td>3rd                          </td><td>35                           </td><td>female                       </td><td>1                            </td></tr>\n",
       "\t<tr><td>Ahlin, Mrs Johanna Persdotter</td><td>3rd                          </td><td>40                           </td><td>female                       </td><td>0                            </td></tr>\n",
       "\t<tr><td>Aijo-Nirva, Mr Isak          </td><td>3rd                          </td><td>41                           </td><td>male                         </td><td>0                            </td></tr>\n",
       "\t<tr><td>Allen, Mr William Henry      </td><td>3rd                          </td><td>35                           </td><td>male                         </td><td>0                            </td></tr>\n",
       "\t<tr><td>Andersen, Mr Albert Karvin   </td><td>3rd                          </td><td>32                           </td><td>male                         </td><td>0                            </td></tr>\n",
       "</tbody>\n",
       "</table>\n"
      ],
      "text/latex": [
       "\\begin{tabular}{r|lllll}\n",
       " Name & PClass & Age & Sex & Survived\\\\\n",
       "\\hline\n",
       "\t Abbing, Mr Anthony            & 3rd                           & 42                            & male                          & 0                            \\\\\n",
       "\t Abbott, Mrs Stanton (Rosa)    & 3rd                           & 35                            & female                        & 1                            \\\\\n",
       "\t Ahlin, Mrs Johanna Persdotter & 3rd                           & 40                            & female                        & 0                            \\\\\n",
       "\t Aijo-Nirva, Mr Isak           & 3rd                           & 41                            & male                          & 0                            \\\\\n",
       "\t Allen, Mr William Henry       & 3rd                           & 35                            & male                          & 0                            \\\\\n",
       "\t Andersen, Mr Albert Karvin    & 3rd                           & 32                            & male                          & 0                            \\\\\n",
       "\\end{tabular}\n"
      ],
      "text/markdown": [
       "\n",
       "Name | PClass | Age | Sex | Survived | \n",
       "|---|---|---|---|---|---|\n",
       "| Abbing, Mr Anthony            | 3rd                           | 42                            | male                          | 0                             | \n",
       "| Abbott, Mrs Stanton (Rosa)    | 3rd                           | 35                            | female                        | 1                             | \n",
       "| Ahlin, Mrs Johanna Persdotter | 3rd                           | 40                            | female                        | 0                             | \n",
       "| Aijo-Nirva, Mr Isak           | 3rd                           | 41                            | male                          | 0                             | \n",
       "| Allen, Mr William Henry       | 3rd                           | 35                            | male                          | 0                             | \n",
       "| Andersen, Mr Albert Karvin    | 3rd                           | 32                            | male                          | 0                             | \n",
       "\n",
       "\n"
      ],
      "text/plain": [
       "  Name                          PClass Age Sex    Survived\n",
       "1 Abbing, Mr Anthony            3rd    42  male   0       \n",
       "2 Abbott, Mrs Stanton (Rosa)    3rd    35  female 1       \n",
       "3 Ahlin, Mrs Johanna Persdotter 3rd    40  female 0       \n",
       "4 Aijo-Nirva, Mr Isak           3rd    41  male   0       \n",
       "5 Allen, Mr William Henry       3rd    35  male   0       \n",
       "6 Andersen, Mr Albert Karvin    3rd    32  male   0       "
      ]
     },
     "metadata": {},
     "output_type": "display_data"
    }
   ],
   "source": [
    "data_filtered=filter(data,Age>30 & PClass ==\"3rd\")\n",
    "head(data_filtered)"
   ]
  },
  {
   "cell_type": "markdown",
   "metadata": {},
   "source": [
    "or and"
   ]
  },
  {
   "cell_type": "code",
   "execution_count": 44,
   "metadata": {},
   "outputs": [
    {
     "data": {
      "text/html": [
       "<table>\n",
       "<thead><tr><th scope=col>Name</th><th scope=col>PClass</th><th scope=col>Age</th><th scope=col>Sex</th><th scope=col>Survived</th></tr></thead>\n",
       "<tbody>\n",
       "\t<tr><td>Abelson, Mr Samuel             </td><td>2nd                            </td><td>30                             </td><td>male                           </td><td>0                              </td></tr>\n",
       "\t<tr><td>Abelson, Mrs Samuel (Anna)     </td><td>2nd                            </td><td>28                             </td><td>female                         </td><td>1                              </td></tr>\n",
       "\t<tr><td>Andrew, Mr Edgar Samuel        </td><td>2nd                            </td><td>18                             </td><td>male                           </td><td>0                              </td></tr>\n",
       "\t<tr><td>Andrew, Mr Frank               </td><td>2nd                            </td><td>NA                             </td><td>male                           </td><td>0                              </td></tr>\n",
       "\t<tr><td>Angle, Mr William A            </td><td>2nd                            </td><td>34                             </td><td>male                           </td><td>0                              </td></tr>\n",
       "\t<tr><td>Angle, Mrs William A (Florence)</td><td>2nd                            </td><td>32                             </td><td>female                         </td><td>1                              </td></tr>\n",
       "</tbody>\n",
       "</table>\n"
      ],
      "text/latex": [
       "\\begin{tabular}{r|lllll}\n",
       " Name & PClass & Age & Sex & Survived\\\\\n",
       "\\hline\n",
       "\t Abelson, Mr Samuel              & 2nd                             & 30                              & male                            & 0                              \\\\\n",
       "\t Abelson, Mrs Samuel (Anna)      & 2nd                             & 28                              & female                          & 1                              \\\\\n",
       "\t Andrew, Mr Edgar Samuel         & 2nd                             & 18                              & male                            & 0                              \\\\\n",
       "\t Andrew, Mr Frank                & 2nd                             & NA                              & male                            & 0                              \\\\\n",
       "\t Angle, Mr William A             & 2nd                             & 34                              & male                            & 0                              \\\\\n",
       "\t Angle, Mrs William A (Florence) & 2nd                             & 32                              & female                          & 1                              \\\\\n",
       "\\end{tabular}\n"
      ],
      "text/markdown": [
       "\n",
       "Name | PClass | Age | Sex | Survived | \n",
       "|---|---|---|---|---|---|\n",
       "| Abelson, Mr Samuel              | 2nd                             | 30                              | male                            | 0                               | \n",
       "| Abelson, Mrs Samuel (Anna)      | 2nd                             | 28                              | female                          | 1                               | \n",
       "| Andrew, Mr Edgar Samuel         | 2nd                             | 18                              | male                            | 0                               | \n",
       "| Andrew, Mr Frank                | 2nd                             | NA                              | male                            | 0                               | \n",
       "| Angle, Mr William A             | 2nd                             | 34                              | male                            | 0                               | \n",
       "| Angle, Mrs William A (Florence) | 2nd                             | 32                              | female                          | 1                               | \n",
       "\n",
       "\n"
      ],
      "text/plain": [
       "  Name                            PClass Age Sex    Survived\n",
       "1 Abelson, Mr Samuel              2nd    30  male   0       \n",
       "2 Abelson, Mrs Samuel (Anna)      2nd    28  female 1       \n",
       "3 Andrew, Mr Edgar Samuel         2nd    18  male   0       \n",
       "4 Andrew, Mr Frank                2nd    NA  male   0       \n",
       "5 Angle, Mr William A             2nd    34  male   0       \n",
       "6 Angle, Mrs William A (Florence) 2nd    32  female 1       "
      ]
     },
     "metadata": {},
     "output_type": "display_data"
    },
    {
     "data": {
      "text/html": [
       "<table>\n",
       "<thead><tr><th></th><th scope=col>Name</th><th scope=col>PClass</th><th scope=col>Age</th><th scope=col>Sex</th><th scope=col>Survived</th></tr></thead>\n",
       "<tbody>\n",
       "\t<tr><th scope=row>985</th><td>Zabour, Miss Tamini   </td><td>3rd                   </td><td>NA                    </td><td>female                </td><td>0                     </td></tr>\n",
       "\t<tr><th scope=row>986</th><td>Zakarian, Mr Artun    </td><td>3rd                   </td><td>27                    </td><td>male                  </td><td>0                     </td></tr>\n",
       "\t<tr><th scope=row>987</th><td>Zakarian, Mr Maprieder</td><td>3rd                   </td><td>26                    </td><td>male                  </td><td>0                     </td></tr>\n",
       "\t<tr><th scope=row>988</th><td>Zenni, Mr Philip      </td><td>3rd                   </td><td>22                    </td><td>male                  </td><td>0                     </td></tr>\n",
       "\t<tr><th scope=row>989</th><td>Lievens, Mr Rene      </td><td>3rd                   </td><td>24                    </td><td>male                  </td><td>0                     </td></tr>\n",
       "\t<tr><th scope=row>990</th><td>Zimmerman, Leo        </td><td>3rd                   </td><td>29                    </td><td>male                  </td><td>0                     </td></tr>\n",
       "</tbody>\n",
       "</table>\n"
      ],
      "text/latex": [
       "\\begin{tabular}{r|lllll}\n",
       "  & Name & PClass & Age & Sex & Survived\\\\\n",
       "\\hline\n",
       "\t985 & Zabour, Miss Tamini    & 3rd                    & NA                     & female                 & 0                     \\\\\n",
       "\t986 & Zakarian, Mr Artun     & 3rd                    & 27                     & male                   & 0                     \\\\\n",
       "\t987 & Zakarian, Mr Maprieder & 3rd                    & 26                     & male                   & 0                     \\\\\n",
       "\t988 & Zenni, Mr Philip       & 3rd                    & 22                     & male                   & 0                     \\\\\n",
       "\t989 & Lievens, Mr Rene       & 3rd                    & 24                     & male                   & 0                     \\\\\n",
       "\t990 & Zimmerman, Leo         & 3rd                    & 29                     & male                   & 0                     \\\\\n",
       "\\end{tabular}\n"
      ],
      "text/markdown": [
       "\n",
       "| <!--/--> | Name | PClass | Age | Sex | Survived | \n",
       "|---|---|---|---|---|---|\n",
       "| 985 | Zabour, Miss Tamini    | 3rd                    | NA                     | female                 | 0                      | \n",
       "| 986 | Zakarian, Mr Artun     | 3rd                    | 27                     | male                   | 0                      | \n",
       "| 987 | Zakarian, Mr Maprieder | 3rd                    | 26                     | male                   | 0                      | \n",
       "| 988 | Zenni, Mr Philip       | 3rd                    | 22                     | male                   | 0                      | \n",
       "| 989 | Lievens, Mr Rene       | 3rd                    | 24                     | male                   | 0                      | \n",
       "| 990 | Zimmerman, Leo         | 3rd                    | 29                     | male                   | 0                      | \n",
       "\n",
       "\n"
      ],
      "text/plain": [
       "    Name                   PClass Age Sex    Survived\n",
       "985 Zabour, Miss Tamini    3rd    NA  female 0       \n",
       "986 Zakarian, Mr Artun     3rd    27  male   0       \n",
       "987 Zakarian, Mr Maprieder 3rd    26  male   0       \n",
       "988 Zenni, Mr Philip       3rd    22  male   0       \n",
       "989 Lievens, Mr Rene       3rd    24  male   0       \n",
       "990 Zimmerman, Leo         3rd    29  male   0       "
      ]
     },
     "metadata": {},
     "output_type": "display_data"
    }
   ],
   "source": [
    "data_filtered= filter(data,PClass %in% c(\"2nd\",\"3rd\"))\n",
    "head(data_filtered)\n",
    "tail(data_filtered)"
   ]
  },
  {
   "cell_type": "code",
   "execution_count": 48,
   "metadata": {},
   "outputs": [
    {
     "data": {
      "text/html": [
       "<table>\n",
       "<thead><tr><th scope=col>Name</th><th scope=col>PClass</th><th scope=col>Age</th><th scope=col>Sex</th><th scope=col>Survived</th></tr></thead>\n",
       "<tbody>\n",
       "\t<tr><td>Dean, Miss Elizabeth Gladys (Millvena)</td><td>3rd                                   </td><td>0.17                                  </td><td>female                                </td><td>1                                     </td></tr>\n",
       "\t<tr><td>Danbom, Master Gilbert Sigvard Emanuel</td><td>3rd                                   </td><td>0.33                                  </td><td>male                                  </td><td>0                                     </td></tr>\n",
       "\t<tr><td>Richards, Master George Sidney        </td><td>2nd                                   </td><td>0.80                                  </td><td>male                                  </td><td>1                                     </td></tr>\n",
       "\t<tr><td>Caldwell, Master Alden Gates          </td><td>2nd                                   </td><td>0.83                                  </td><td>male                                  </td><td>1                                     </td></tr>\n",
       "\t<tr><td>Aks, Master Philip                    </td><td>3rd                                   </td><td>0.83                                  </td><td>male                                  </td><td>1                                     </td></tr>\n",
       "\t<tr><td>Allison, Master Hudson Trevor         </td><td>1st                                   </td><td>0.92                                  </td><td>male                                  </td><td>1                                     </td></tr>\n",
       "</tbody>\n",
       "</table>\n"
      ],
      "text/latex": [
       "\\begin{tabular}{r|lllll}\n",
       " Name & PClass & Age & Sex & Survived\\\\\n",
       "\\hline\n",
       "\t Dean, Miss Elizabeth Gladys (Millvena) & 3rd                                    & 0.17                                   & female                                 & 1                                     \\\\\n",
       "\t Danbom, Master Gilbert Sigvard Emanuel & 3rd                                    & 0.33                                   & male                                   & 0                                     \\\\\n",
       "\t Richards, Master George Sidney         & 2nd                                    & 0.80                                   & male                                   & 1                                     \\\\\n",
       "\t Caldwell, Master Alden Gates           & 2nd                                    & 0.83                                   & male                                   & 1                                     \\\\\n",
       "\t Aks, Master Philip                     & 3rd                                    & 0.83                                   & male                                   & 1                                     \\\\\n",
       "\t Allison, Master Hudson Trevor          & 1st                                    & 0.92                                   & male                                   & 1                                     \\\\\n",
       "\\end{tabular}\n"
      ],
      "text/markdown": [
       "\n",
       "Name | PClass | Age | Sex | Survived | \n",
       "|---|---|---|---|---|---|\n",
       "| Dean, Miss Elizabeth Gladys (Millvena) | 3rd                                    | 0.17                                   | female                                 | 1                                      | \n",
       "| Danbom, Master Gilbert Sigvard Emanuel | 3rd                                    | 0.33                                   | male                                   | 0                                      | \n",
       "| Richards, Master George Sidney         | 2nd                                    | 0.80                                   | male                                   | 1                                      | \n",
       "| Caldwell, Master Alden Gates           | 2nd                                    | 0.83                                   | male                                   | 1                                      | \n",
       "| Aks, Master Philip                     | 3rd                                    | 0.83                                   | male                                   | 1                                      | \n",
       "| Allison, Master Hudson Trevor          | 1st                                    | 0.92                                   | male                                   | 1                                      | \n",
       "\n",
       "\n"
      ],
      "text/plain": [
       "  Name                                   PClass Age  Sex    Survived\n",
       "1 Dean, Miss Elizabeth Gladys (Millvena) 3rd    0.17 female 1       \n",
       "2 Danbom, Master Gilbert Sigvard Emanuel 3rd    0.33 male   0       \n",
       "3 Richards, Master George Sidney         2nd    0.80 male   1       \n",
       "4 Caldwell, Master Alden Gates           2nd    0.83 male   1       \n",
       "5 Aks, Master Philip                     3rd    0.83 male   1       \n",
       "6 Allison, Master Hudson Trevor          1st    0.92 male   1       "
      ]
     },
     "metadata": {},
     "output_type": "display_data"
    },
    {
     "data": {
      "text/html": [
       "<table>\n",
       "<thead><tr><th></th><th scope=col>Name</th><th scope=col>PClass</th><th scope=col>Age</th><th scope=col>Sex</th><th scope=col>Survived</th></tr></thead>\n",
       "<tbody>\n",
       "\t<tr><th scope=row>1307</th><td>Williams, Mr Howard Hugh</td><td>3rd                     </td><td>NA                      </td><td>male                    </td><td>0                       </td></tr>\n",
       "\t<tr><th scope=row>1308</th><td>Wiseman, Mr Phillippe   </td><td>3rd                     </td><td>NA                      </td><td>male                    </td><td>0                       </td></tr>\n",
       "\t<tr><th scope=row>1309</th><td>Yalsevac, Mr Ivan       </td><td>3rd                     </td><td>NA                      </td><td>male                    </td><td>1                       </td></tr>\n",
       "\t<tr><th scope=row>1310</th><td>Youssef, Mr Gerios      </td><td>3rd                     </td><td>NA                      </td><td>male                    </td><td>0                       </td></tr>\n",
       "\t<tr><th scope=row>1311</th><td>Zabour, Miss Hileni     </td><td>3rd                     </td><td>NA                      </td><td>female                  </td><td>0                       </td></tr>\n",
       "\t<tr><th scope=row>1312</th><td>Zabour, Miss Tamini     </td><td>3rd                     </td><td>NA                      </td><td>female                  </td><td>0                       </td></tr>\n",
       "</tbody>\n",
       "</table>\n"
      ],
      "text/latex": [
       "\\begin{tabular}{r|lllll}\n",
       "  & Name & PClass & Age & Sex & Survived\\\\\n",
       "\\hline\n",
       "\t1307 & Williams, Mr Howard Hugh & 3rd                      & NA                       & male                     & 0                       \\\\\n",
       "\t1308 & Wiseman, Mr Phillippe    & 3rd                      & NA                       & male                     & 0                       \\\\\n",
       "\t1309 & Yalsevac, Mr Ivan        & 3rd                      & NA                       & male                     & 1                       \\\\\n",
       "\t1310 & Youssef, Mr Gerios       & 3rd                      & NA                       & male                     & 0                       \\\\\n",
       "\t1311 & Zabour, Miss Hileni      & 3rd                      & NA                       & female                   & 0                       \\\\\n",
       "\t1312 & Zabour, Miss Tamini      & 3rd                      & NA                       & female                   & 0                       \\\\\n",
       "\\end{tabular}\n"
      ],
      "text/markdown": [
       "\n",
       "| <!--/--> | Name | PClass | Age | Sex | Survived | \n",
       "|---|---|---|---|---|---|\n",
       "| 1307 | Williams, Mr Howard Hugh | 3rd                      | NA                       | male                     | 0                        | \n",
       "| 1308 | Wiseman, Mr Phillippe    | 3rd                      | NA                       | male                     | 0                        | \n",
       "| 1309 | Yalsevac, Mr Ivan        | 3rd                      | NA                       | male                     | 1                        | \n",
       "| 1310 | Youssef, Mr Gerios       | 3rd                      | NA                       | male                     | 0                        | \n",
       "| 1311 | Zabour, Miss Hileni      | 3rd                      | NA                       | female                   | 0                        | \n",
       "| 1312 | Zabour, Miss Tamini      | 3rd                      | NA                       | female                   | 0                        | \n",
       "\n",
       "\n"
      ],
      "text/plain": [
       "     Name                     PClass Age Sex    Survived\n",
       "1307 Williams, Mr Howard Hugh 3rd    NA  male   0       \n",
       "1308 Wiseman, Mr Phillippe    3rd    NA  male   0       \n",
       "1309 Yalsevac, Mr Ivan        3rd    NA  male   1       \n",
       "1310 Youssef, Mr Gerios       3rd    NA  male   0       \n",
       "1311 Zabour, Miss Hileni      3rd    NA  female 0       \n",
       "1312 Zabour, Miss Tamini      3rd    NA  female 0       "
      ]
     },
     "metadata": {},
     "output_type": "display_data"
    }
   ],
   "source": [
    "sorted = arrange(data, Age)\n",
    "head(sorted)\n",
    "tail(sorted)"
   ]
  },
  {
   "cell_type": "code",
   "execution_count": 51,
   "metadata": {},
   "outputs": [
    {
     "ename": "ERROR",
     "evalue": "Error in eval(expr, envir, enclos): object 'data_with_age' not found\n",
     "output_type": "error",
     "traceback": [
      "Error in eval(expr, envir, enclos): object 'data_with_age' not found\nTraceback:\n"
     ]
    }
   ],
   "source": [
    "data_with_age"
   ]
  },
  {
   "cell_type": "code",
   "execution_count": 53,
   "metadata": {},
   "outputs": [
    {
     "data": {
      "text/html": [
       "<table>\n",
       "<thead><tr><th scope=col>Name</th><th scope=col>PClass</th><th scope=col>Age</th><th scope=col>Sex</th><th scope=col>Survived</th></tr></thead>\n",
       "<tbody>\n",
       "\t<tr><td>Artagaveytia, Mr Ramon                                   </td><td>1st                                                      </td><td>71                                                       </td><td>male                                                     </td><td>0                                                        </td></tr>\n",
       "\t<tr><td>Goldschmidt, Mr George B                                 </td><td>1st                                                      </td><td>71                                                       </td><td>male                                                     </td><td>0                                                        </td></tr>\n",
       "\t<tr><td>Mitchell, Mr Henry Michael                               </td><td>2nd                                                      </td><td>71                                                       </td><td>male                                                     </td><td>0                                                        </td></tr>\n",
       "\t<tr><td>Crosby, Captain Edward Gifford                           </td><td>1st                                                      </td><td>70                                                       </td><td>male                                                     </td><td>0                                                        </td></tr>\n",
       "\t<tr><td>Crosby, Mrs Edward Gifford (Catherine Elizabeth Halstead)</td><td>1st                                                      </td><td>69                                                       </td><td>female                                                   </td><td>1                                                        </td></tr>\n",
       "\t<tr><td>Straus, Mr Isidor                                        </td><td>1st                                                      </td><td>67                                                       </td><td>male                                                     </td><td>0                                                        </td></tr>\n",
       "</tbody>\n",
       "</table>\n"
      ],
      "text/latex": [
       "\\begin{tabular}{r|lllll}\n",
       " Name & PClass & Age & Sex & Survived\\\\\n",
       "\\hline\n",
       "\t Artagaveytia, Mr Ramon                                    & 1st                                                       & 71                                                        & male                                                      & 0                                                        \\\\\n",
       "\t Goldschmidt, Mr George B                                  & 1st                                                       & 71                                                        & male                                                      & 0                                                        \\\\\n",
       "\t Mitchell, Mr Henry Michael                                & 2nd                                                       & 71                                                        & male                                                      & 0                                                        \\\\\n",
       "\t Crosby, Captain Edward Gifford                            & 1st                                                       & 70                                                        & male                                                      & 0                                                        \\\\\n",
       "\t Crosby, Mrs Edward Gifford (Catherine Elizabeth Halstead) & 1st                                                       & 69                                                        & female                                                    & 1                                                        \\\\\n",
       "\t Straus, Mr Isidor                                         & 1st                                                       & 67                                                        & male                                                      & 0                                                        \\\\\n",
       "\\end{tabular}\n"
      ],
      "text/markdown": [
       "\n",
       "Name | PClass | Age | Sex | Survived | \n",
       "|---|---|---|---|---|---|\n",
       "| Artagaveytia, Mr Ramon                                    | 1st                                                       | 71                                                        | male                                                      | 0                                                         | \n",
       "| Goldschmidt, Mr George B                                  | 1st                                                       | 71                                                        | male                                                      | 0                                                         | \n",
       "| Mitchell, Mr Henry Michael                                | 2nd                                                       | 71                                                        | male                                                      | 0                                                         | \n",
       "| Crosby, Captain Edward Gifford                            | 1st                                                       | 70                                                        | male                                                      | 0                                                         | \n",
       "| Crosby, Mrs Edward Gifford (Catherine Elizabeth Halstead) | 1st                                                       | 69                                                        | female                                                    | 1                                                         | \n",
       "| Straus, Mr Isidor                                         | 1st                                                       | 67                                                        | male                                                      | 0                                                         | \n",
       "\n",
       "\n"
      ],
      "text/plain": [
       "  Name                                                      PClass Age Sex   \n",
       "1 Artagaveytia, Mr Ramon                                    1st    71  male  \n",
       "2 Goldschmidt, Mr George B                                  1st    71  male  \n",
       "3 Mitchell, Mr Henry Michael                                2nd    71  male  \n",
       "4 Crosby, Captain Edward Gifford                            1st    70  male  \n",
       "5 Crosby, Mrs Edward Gifford (Catherine Elizabeth Halstead) 1st    69  female\n",
       "6 Straus, Mr Isidor                                         1st    67  male  \n",
       "  Survived\n",
       "1 0       \n",
       "2 0       \n",
       "3 0       \n",
       "4 0       \n",
       "5 1       \n",
       "6 0       "
      ]
     },
     "metadata": {},
     "output_type": "display_data"
    }
   ],
   "source": [
    "sorted=arrange(data, desc(Age))\n",
    "head(sorted)"
   ]
  },
  {
   "cell_type": "code",
   "execution_count": 56,
   "metadata": {},
   "outputs": [
    {
     "data": {
      "text/html": [
       "<table>\n",
       "<thead><tr><th scope=col>Name</th><th scope=col>PClass</th><th scope=col>Age</th><th scope=col>Sex</th><th scope=col>Survived</th><th scope=col>Age_Plus_1</th></tr></thead>\n",
       "<tbody>\n",
       "\t<tr><td>Allen, Miss Elisabeth Walton                 </td><td>1st                                          </td><td>29.00                                        </td><td>female                                       </td><td>1                                            </td><td>30.00                                        </td></tr>\n",
       "\t<tr><td>Allison, Miss Helen Loraine                  </td><td>1st                                          </td><td> 2.00                                        </td><td>female                                       </td><td>0                                            </td><td> 3.00                                        </td></tr>\n",
       "\t<tr><td>Allison, Mr Hudson Joshua Creighton          </td><td>1st                                          </td><td>30.00                                        </td><td>male                                         </td><td>0                                            </td><td>31.00                                        </td></tr>\n",
       "\t<tr><td>Allison, Mrs Hudson JC (Bessie Waldo Daniels)</td><td>1st                                          </td><td>25.00                                        </td><td>female                                       </td><td>0                                            </td><td>26.00                                        </td></tr>\n",
       "\t<tr><td>Allison, Master Hudson Trevor                </td><td>1st                                          </td><td> 0.92                                        </td><td>male                                         </td><td>1                                            </td><td> 1.92                                        </td></tr>\n",
       "\t<tr><td>Anderson, Mr Harry                           </td><td>1st                                          </td><td>47.00                                        </td><td>male                                         </td><td>1                                            </td><td>48.00                                        </td></tr>\n",
       "</tbody>\n",
       "</table>\n"
      ],
      "text/latex": [
       "\\begin{tabular}{r|llllll}\n",
       " Name & PClass & Age & Sex & Survived & Age\\_Plus\\_1\\\\\n",
       "\\hline\n",
       "\t Allen, Miss Elisabeth Walton                  & 1st                                           & 29.00                                         & female                                        & 1                                             & 30.00                                        \\\\\n",
       "\t Allison, Miss Helen Loraine                   & 1st                                           &  2.00                                         & female                                        & 0                                             &  3.00                                        \\\\\n",
       "\t Allison, Mr Hudson Joshua Creighton           & 1st                                           & 30.00                                         & male                                          & 0                                             & 31.00                                        \\\\\n",
       "\t Allison, Mrs Hudson JC (Bessie Waldo Daniels) & 1st                                           & 25.00                                         & female                                        & 0                                             & 26.00                                        \\\\\n",
       "\t Allison, Master Hudson Trevor                 & 1st                                           &  0.92                                         & male                                          & 1                                             &  1.92                                        \\\\\n",
       "\t Anderson, Mr Harry                            & 1st                                           & 47.00                                         & male                                          & 1                                             & 48.00                                        \\\\\n",
       "\\end{tabular}\n"
      ],
      "text/markdown": [
       "\n",
       "Name | PClass | Age | Sex | Survived | Age_Plus_1 | \n",
       "|---|---|---|---|---|---|\n",
       "| Allen, Miss Elisabeth Walton                  | 1st                                           | 29.00                                         | female                                        | 1                                             | 30.00                                         | \n",
       "| Allison, Miss Helen Loraine                   | 1st                                           |  2.00                                         | female                                        | 0                                             |  3.00                                         | \n",
       "| Allison, Mr Hudson Joshua Creighton           | 1st                                           | 30.00                                         | male                                          | 0                                             | 31.00                                         | \n",
       "| Allison, Mrs Hudson JC (Bessie Waldo Daniels) | 1st                                           | 25.00                                         | female                                        | 0                                             | 26.00                                         | \n",
       "| Allison, Master Hudson Trevor                 | 1st                                           |  0.92                                         | male                                          | 1                                             |  1.92                                         | \n",
       "| Anderson, Mr Harry                            | 1st                                           | 47.00                                         | male                                          | 1                                             | 48.00                                         | \n",
       "\n",
       "\n"
      ],
      "text/plain": [
       "  Name                                          PClass Age   Sex    Survived\n",
       "1 Allen, Miss Elisabeth Walton                  1st    29.00 female 1       \n",
       "2 Allison, Miss Helen Loraine                   1st     2.00 female 0       \n",
       "3 Allison, Mr Hudson Joshua Creighton           1st    30.00 male   0       \n",
       "4 Allison, Mrs Hudson JC (Bessie Waldo Daniels) 1st    25.00 female 0       \n",
       "5 Allison, Master Hudson Trevor                 1st     0.92 male   1       \n",
       "6 Anderson, Mr Harry                            1st    47.00 male   1       \n",
       "  Age_Plus_1\n",
       "1 30.00     \n",
       "2  3.00     \n",
       "3 31.00     \n",
       "4 26.00     \n",
       "5  1.92     \n",
       "6 48.00     "
      ]
     },
     "metadata": {},
     "output_type": "display_data"
    }
   ],
   "source": [
    "mutated=mutate(data,Age_Plus_1= Age+1)\n",
    "head(mutated)"
   ]
  },
  {
   "cell_type": "code",
   "execution_count": 60,
   "metadata": {},
   "outputs": [
    {
     "ename": "ERROR",
     "evalue": "Error in mutated(data, Sex_Code = ifelse(Sex == \"female\", 0, 1)): could not find function \"mutated\"\n",
     "output_type": "error",
     "traceback": [
      "Error in mutated(data, Sex_Code = ifelse(Sex == \"female\", 0, 1)): could not find function \"mutated\"\nTraceback:\n"
     ]
    }
   ],
   "source": [
    "mutated = mutated(data, Sex_Code = ifelse(Sex==\"female\", 0,1))\n",
    "head(mutated)"
   ]
  },
  {
   "cell_type": "code",
   "execution_count": 62,
   "metadata": {},
   "outputs": [
    {
     "data": {
      "text/html": [
       "<table>\n",
       "<thead><tr><th scope=col>Num_Passengers</th></tr></thead>\n",
       "<tbody>\n",
       "\t<tr><td>1312</td></tr>\n",
       "</tbody>\n",
       "</table>\n"
      ],
      "text/latex": [
       "\\begin{tabular}{r|l}\n",
       " Num\\_Passengers\\\\\n",
       "\\hline\n",
       "\t 1312\\\\\n",
       "\\end{tabular}\n"
      ],
      "text/markdown": [
       "\n",
       "Num_Passengers | \n",
       "|---|\n",
       "| 1312 | \n",
       "\n",
       "\n"
      ],
      "text/plain": [
       "  Num_Passengers\n",
       "1 1312          "
      ]
     },
     "metadata": {},
     "output_type": "display_data"
    }
   ],
   "source": [
    "summarise(data,Num_Passengers =n())"
   ]
  },
  {
   "cell_type": "code",
   "execution_count": 65,
   "metadata": {},
   "outputs": [
    {
     "data": {
      "text/html": [
       "<table>\n",
       "<thead><tr><th scope=col>Min_Age</th></tr></thead>\n",
       "<tbody>\n",
       "\t<tr><td>0.17</td></tr>\n",
       "</tbody>\n",
       "</table>\n"
      ],
      "text/latex": [
       "\\begin{tabular}{r|l}\n",
       " Min\\_Age\\\\\n",
       "\\hline\n",
       "\t 0.17\\\\\n",
       "\\end{tabular}\n"
      ],
      "text/markdown": [
       "\n",
       "Min_Age | \n",
       "|---|\n",
       "| 0.17 | \n",
       "\n",
       "\n"
      ],
      "text/plain": [
       "  Min_Age\n",
       "1 0.17   "
      ]
     },
     "metadata": {},
     "output_type": "display_data"
    }
   ],
   "source": [
    "summarise(data,Min_Age=min(Age,na.rm =TRUE))"
   ]
  },
  {
   "cell_type": "code",
   "execution_count": 72,
   "metadata": {},
   "outputs": [
    {
     "data": {
      "text/plain": [
       "                            Name          Age       \n",
       " Carlsson, Mr Frans Olof      :  2   Min.   :31.00  \n",
       " Kelly, Mr James              :  2   1st Qu.:36.00  \n",
       " Abbing, Mr Anthony           :  1   Median :42.00  \n",
       " Abbott, Mrs Stanton (Rosa)   :  1   Mean   :43.59  \n",
       " Ahlin, Mrs Johanna Persdotter:  1   3rd Qu.:49.25  \n",
       " Aijo-Nirva, Mr Isak          :  1   Max.   :71.00  \n",
       " (Other)                      :316                  "
      ]
     },
     "metadata": {},
     "output_type": "display_data"
    }
   ],
   "source": [
    "result = data%>%\n",
    "filter(Age>30) %>%\n",
    "select (Name,Age) %>%\n",
    "arrange(desc(Age))\n",
    "result %>% head()"
   ]
  },
  {
   "cell_type": "code",
   "execution_count": 73,
   "metadata": {},
   "outputs": [
    {
     "data": {
      "text/html": [
       "<table>\n",
       "<thead><tr><th scope=col>Sex</th><th scope=col>Passengers</th></tr></thead>\n",
       "<tbody>\n",
       "\t<tr><td>female</td><td>462   </td></tr>\n",
       "\t<tr><td>male  </td><td>850   </td></tr>\n",
       "</tbody>\n",
       "</table>\n"
      ],
      "text/latex": [
       "\\begin{tabular}{r|ll}\n",
       " Sex & Passengers\\\\\n",
       "\\hline\n",
       "\t female & 462   \\\\\n",
       "\t male   & 850   \\\\\n",
       "\\end{tabular}\n"
      ],
      "text/markdown": [
       "\n",
       "Sex | Passengers | \n",
       "|---|---|\n",
       "| female | 462    | \n",
       "| male   | 850    | \n",
       "\n",
       "\n"
      ],
      "text/plain": [
       "  Sex    Passengers\n",
       "1 female 462       \n",
       "2 male   850       "
      ]
     },
     "metadata": {},
     "output_type": "display_data"
    }
   ],
   "source": [
    "data %>% \n",
    "group_by(Sex) %>%\n",
    "summarise(Passengers =n())"
   ]
  }
 ],
 "metadata": {
  "kernelspec": {
   "display_name": "R",
   "language": "R",
   "name": "ir"
  },
  "language_info": {
   "codemirror_mode": "r",
   "file_extension": ".r",
   "mimetype": "text/x-r-source",
   "name": "R",
   "pygments_lexer": "r",
   "version": "3.4.3"
  }
 },
 "nbformat": 4,
 "nbformat_minor": 2
}
