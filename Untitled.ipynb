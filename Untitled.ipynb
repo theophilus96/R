{
 "cells": [
  {
   "cell_type": "code",
   "execution_count": 15,
   "metadata": {},
   "outputs": [],
   "source": [
    "library(dplyr)"
   ]
  },
  {
   "cell_type": "code",
   "execution_count": 16,
   "metadata": {},
   "outputs": [],
   "source": [
    "library(ggplot2)\n",
    "library(repr)\n",
    "options(repr.plot.width=4, repr.plot.height=3)"
   ]
  },
  {
   "cell_type": "code",
   "execution_count": 17,
   "metadata": {},
   "outputs": [],
   "source": [
    "data <- read.csv(\"conversion_data.csv\")"
   ]
  },
  {
   "cell_type": "code",
   "execution_count": 19,
   "metadata": {},
   "outputs": [
    {
     "data": {
      "text/html": [
       "<table>\n",
       "<thead><tr><th scope=col>country</th><th scope=col>age</th><th scope=col>new_user</th><th scope=col>source</th><th scope=col>total_pages_visited</th><th scope=col>converted</th></tr></thead>\n",
       "<tbody>\n",
       "\t<tr><td>UK   </td><td>25   </td><td>1    </td><td>Ads  </td><td>1    </td><td>0    </td></tr>\n",
       "\t<tr><td>US   </td><td>23   </td><td>1    </td><td>Seo  </td><td>5    </td><td>0    </td></tr>\n",
       "\t<tr><td>US   </td><td>28   </td><td>1    </td><td>Seo  </td><td>4    </td><td>0    </td></tr>\n",
       "\t<tr><td>China</td><td>39   </td><td>1    </td><td>Seo  </td><td>5    </td><td>0    </td></tr>\n",
       "\t<tr><td>US   </td><td>30   </td><td>1    </td><td>Seo  </td><td>6    </td><td>0    </td></tr>\n",
       "\t<tr><td>US   </td><td>31   </td><td>0    </td><td>Seo  </td><td>1    </td><td>0    </td></tr>\n",
       "</tbody>\n",
       "</table>\n"
      ],
      "text/latex": [
       "\\begin{tabular}{r|llllll}\n",
       " country & age & new\\_user & source & total\\_pages\\_visited & converted\\\\\n",
       "\\hline\n",
       "\t UK    & 25    & 1     & Ads   & 1     & 0    \\\\\n",
       "\t US    & 23    & 1     & Seo   & 5     & 0    \\\\\n",
       "\t US    & 28    & 1     & Seo   & 4     & 0    \\\\\n",
       "\t China & 39    & 1     & Seo   & 5     & 0    \\\\\n",
       "\t US    & 30    & 1     & Seo   & 6     & 0    \\\\\n",
       "\t US    & 31    & 0     & Seo   & 1     & 0    \\\\\n",
       "\\end{tabular}\n"
      ],
      "text/markdown": [
       "\n",
       "country | age | new_user | source | total_pages_visited | converted | \n",
       "|---|---|---|---|---|---|\n",
       "| UK    | 25    | 1     | Ads   | 1     | 0     | \n",
       "| US    | 23    | 1     | Seo   | 5     | 0     | \n",
       "| US    | 28    | 1     | Seo   | 4     | 0     | \n",
       "| China | 39    | 1     | Seo   | 5     | 0     | \n",
       "| US    | 30    | 1     | Seo   | 6     | 0     | \n",
       "| US    | 31    | 0     | Seo   | 1     | 0     | \n",
       "\n",
       "\n"
      ],
      "text/plain": [
       "  country age new_user source total_pages_visited converted\n",
       "1 UK      25  1        Ads    1                   0        \n",
       "2 US      23  1        Seo    5                   0        \n",
       "3 US      28  1        Seo    4                   0        \n",
       "4 China   39  1        Seo    5                   0        \n",
       "5 US      30  1        Seo    6                   0        \n",
       "6 US      31  0        Seo    1                   0        "
      ]
     },
     "metadata": {},
     "output_type": "display_data"
    }
   ],
   "source": [
    "head(data)"
   ]
  },
  {
   "cell_type": "code",
   "execution_count": 20,
   "metadata": {},
   "outputs": [
    {
     "name": "stdout",
     "output_type": "stream",
     "text": [
      "'data.frame':\t316200 obs. of  6 variables:\n",
      " $ country            : Factor w/ 4 levels \"China\",\"Germany\",..: 3 4 4 1 4 4 1 4 3 4 ...\n",
      " $ age                : int  25 23 28 39 30 31 27 23 29 25 ...\n",
      " $ new_user           : int  1 1 1 1 1 0 1 0 0 0 ...\n",
      " $ source             : Factor w/ 3 levels \"Ads\",\"Direct\",..: 1 3 3 3 3 3 3 1 2 1 ...\n",
      " $ total_pages_visited: int  1 5 4 5 6 1 4 4 4 2 ...\n",
      " $ converted          : int  0 0 0 0 0 0 0 0 0 0 ...\n"
     ]
    }
   ],
   "source": [
    "str(data)"
   ]
  },
  {
   "cell_type": "code",
   "execution_count": 21,
   "metadata": {},
   "outputs": [
    {
     "data": {
      "text/plain": [
       "    country            age            new_user         source      \n",
       " China  : 76602   Min.   : 17.00   Min.   :0.0000   Ads   : 88740  \n",
       " Germany: 13056   1st Qu.: 24.00   1st Qu.:0.0000   Direct: 72420  \n",
       " UK     : 48450   Median : 30.00   Median :1.0000   Seo   :155040  \n",
       " US     :178092   Mean   : 30.57   Mean   :0.6855                  \n",
       "                  3rd Qu.: 36.00   3rd Qu.:1.0000                  \n",
       "                  Max.   :123.00   Max.   :1.0000                  \n",
       " total_pages_visited   converted      \n",
       " Min.   : 1.000      Min.   :0.00000  \n",
       " 1st Qu.: 2.000      1st Qu.:0.00000  \n",
       " Median : 4.000      Median :0.00000  \n",
       " Mean   : 4.873      Mean   :0.03226  \n",
       " 3rd Qu.: 7.000      3rd Qu.:0.00000  \n",
       " Max.   :29.000      Max.   :1.00000  "
      ]
     },
     "metadata": {},
     "output_type": "display_data"
    }
   ],
   "source": [
    "summary(data)"
   ]
  },
  {
   "cell_type": "code",
   "execution_count": 22,
   "metadata": {},
   "outputs": [],
   "source": [
    "help(airquality)"
   ]
  },
  {
   "cell_type": "code",
   "execution_count": 25,
   "metadata": {},
   "outputs": [],
   "source": [
    "help(diamonds)"
   ]
  },
  {
   "cell_type": "code",
   "execution_count": 38,
   "metadata": {},
   "outputs": [
    {
     "data": {
      "text/html": [
       "<table>\n",
       "<thead><tr><th scope=col>age</th></tr></thead>\n",
       "<tbody>\n",
       "\t<tr><td>123</td></tr>\n",
       "\t<tr><td>111</td></tr>\n",
       "\t<tr><td> 79</td></tr>\n",
       "\t<tr><td> 77</td></tr>\n",
       "\t<tr><td> 73</td></tr>\n",
       "\t<tr><td> 72</td></tr>\n",
       "\t<tr><td> 70</td></tr>\n",
       "\t<tr><td> 69</td></tr>\n",
       "\t<tr><td> 68</td></tr>\n",
       "\t<tr><td> 67</td></tr>\n",
       "</tbody>\n",
       "</table>\n"
      ],
      "text/latex": [
       "\\begin{tabular}{r|l}\n",
       " age\\\\\n",
       "\\hline\n",
       "\t 123\\\\\n",
       "\t 111\\\\\n",
       "\t  79\\\\\n",
       "\t  77\\\\\n",
       "\t  73\\\\\n",
       "\t  72\\\\\n",
       "\t  70\\\\\n",
       "\t  69\\\\\n",
       "\t  68\\\\\n",
       "\t  67\\\\\n",
       "\\end{tabular}\n"
      ],
      "text/markdown": [
       "\n",
       "age | \n",
       "|---|---|---|---|---|---|---|---|---|---|\n",
       "| 123 | \n",
       "| 111 | \n",
       "|  79 | \n",
       "|  77 | \n",
       "|  73 | \n",
       "|  72 | \n",
       "|  70 | \n",
       "|  69 | \n",
       "|  68 | \n",
       "|  67 | \n",
       "\n",
       "\n"
      ],
      "text/plain": [
       "   age\n",
       "1  123\n",
       "2  111\n",
       "3   79\n",
       "4   77\n",
       "5   73\n",
       "6   72\n",
       "7   70\n",
       "8   69\n",
       "9   68\n",
       "10  67"
      ]
     },
     "metadata": {},
     "output_type": "display_data"
    }
   ],
   "source": [
    "data%>%\n",
    "select(age)%>%\n",
    "distinct()%>%\n",
    "arrange(desc(age))%>%\n",
    "head(10)"
   ]
  },
  {
   "cell_type": "code",
   "execution_count": 37,
   "metadata": {},
   "outputs": [
    {
     "data": {
      "text/html": [
       "<table>\n",
       "<thead><tr><th scope=col>country</th><th scope=col>age</th><th scope=col>new_user</th><th scope=col>source</th><th scope=col>total_pages_visited</th><th scope=col>converted</th></tr></thead>\n",
       "<tbody>\n",
       "\t<tr><td>Germany</td><td>123    </td><td>0      </td><td>Seo    </td><td>15     </td><td>1      </td></tr>\n",
       "\t<tr><td>UK     </td><td>111    </td><td>0      </td><td>Ads    </td><td>10     </td><td>1      </td></tr>\n",
       "</tbody>\n",
       "</table>\n"
      ],
      "text/latex": [
       "\\begin{tabular}{r|llllll}\n",
       " country & age & new\\_user & source & total\\_pages\\_visited & converted\\\\\n",
       "\\hline\n",
       "\t Germany & 123     & 0       & Seo     & 15      & 1      \\\\\n",
       "\t UK      & 111     & 0       & Ads     & 10      & 1      \\\\\n",
       "\\end{tabular}\n"
      ],
      "text/markdown": [
       "\n",
       "country | age | new_user | source | total_pages_visited | converted | \n",
       "|---|---|\n",
       "| Germany | 123     | 0       | Seo     | 15      | 1       | \n",
       "| UK      | 111     | 0       | Ads     | 10      | 1       | \n",
       "\n",
       "\n"
      ],
      "text/plain": [
       "  country age new_user source total_pages_visited converted\n",
       "1 Germany 123 0        Seo    15                  1        \n",
       "2 UK      111 0        Ads    10                  1        "
      ]
     },
     "metadata": {},
     "output_type": "display_data"
    }
   ],
   "source": [
    "data%>%\n",
    "filter(age>80) \n",
    "#the odd data\n",
    "#only retain the data that are not weird if not the data will be unreliable\n"
   ]
  },
  {
   "cell_type": "code",
   "execution_count": 39,
   "metadata": {},
   "outputs": [
    {
     "data": {
      "text/html": [
       "<table>\n",
       "<thead><tr><th scope=col>country</th><th scope=col>Count</th></tr></thead>\n",
       "<tbody>\n",
       "\t<tr><td>US     </td><td>178092 </td></tr>\n",
       "\t<tr><td>China  </td><td> 76602 </td></tr>\n",
       "\t<tr><td>UK     </td><td> 48450 </td></tr>\n",
       "\t<tr><td>Germany</td><td> 13056 </td></tr>\n",
       "</tbody>\n",
       "</table>\n"
      ],
      "text/latex": [
       "\\begin{tabular}{r|ll}\n",
       " country & Count\\\\\n",
       "\\hline\n",
       "\t US      & 178092 \\\\\n",
       "\t China   &  76602 \\\\\n",
       "\t UK      &  48450 \\\\\n",
       "\t Germany &  13056 \\\\\n",
       "\\end{tabular}\n"
      ],
      "text/markdown": [
       "\n",
       "country | Count | \n",
       "|---|---|---|---|\n",
       "| US      | 178092  | \n",
       "| China   |  76602  | \n",
       "| UK      |  48450  | \n",
       "| Germany |  13056  | \n",
       "\n",
       "\n"
      ],
      "text/plain": [
       "  country Count \n",
       "1 US      178092\n",
       "2 China    76602\n",
       "3 UK       48450\n",
       "4 Germany  13056"
      ]
     },
     "metadata": {},
     "output_type": "display_data"
    }
   ],
   "source": [
    "data%>%\n",
    "group_by(country)%>%\n",
    "summarise(Count =n())%>%\n",
    "arrange(desc(Count))"
   ]
  },
  {
   "cell_type": "code",
   "execution_count": 75,
   "metadata": {},
   "outputs": [
    {
     "name": "stdout",
     "output_type": "stream",
     "text": [
      "   Min. 1st Qu.  Median    Mean 3rd Qu.    Max. \n",
      "  17.00   24.00   30.00   30.57   36.00  123.00 \n"
     ]
    },
    {
     "data": {},
     "metadata": {},
     "output_type": "display_data"
    },
    {
     "data": {
      "image/png": "[encoded data removed]",
      "text/plain": [
       "plot without title"
      ]
     },
     "metadata": {},
     "output_type": "display_data"
    }
   ],
   "source": [
    "summary(data$age) %>% print()\n",
    "\n",
    "age_count=data%>%\n",
    "group_by(age) %>%\n",
    "summarise(Count=n())\n",
    "\n",
    "ggplot(age_count,aes(y=Count,x=age))+geom_bar(stat='identity')"
   ]
  },
  {
   "cell_type": "code",
   "execution_count": 76,
   "metadata": {},
   "outputs": [
    {
     "ename": "ERROR",
     "evalue": "Error in summarise_impl(.data, dots): Evaluation error: object 'converted' not found.\n",
     "output_type": "error",
     "traceback": [
      "Error in summarise_impl(.data, dots): Evaluation error: object 'converted' not found.\nTraceback:\n",
      "1. data %>% group_by(country) %>% summarise(Count = n()) %>% summarise(Conversion_rate = mean(converted)) %>% \n .     arrange(desc(Count))",
      "2. withVisible(eval(quote(`_fseq`(`_lhs`)), env, env))",
      "3. eval(quote(`_fseq`(`_lhs`)), env, env)",
      "4. eval(quote(`_fseq`(`_lhs`)), env, env)",
      "5. `_fseq`(`_lhs`)",
      "6. freduce(value, `_function_list`)",
      "7. function_list[[i]](value)",
      "8. summarise(., Conversion_rate = mean(converted))",
      "9. summarise.tbl_df(., Conversion_rate = mean(converted))",
      "10. summarise_impl(.data, dots)"
     ]
    }
   ],
   "source": [
    "data%>%\n",
    "group_by(country)%>%\n",
    "summarise(Count =n())%>%\n",
    "summarise(Conversion_rate=mean(converted))%>%\n",
    "#mutate(Conversion_rate = sum(mean))%>%\n",
    "arrange(desc(Count))"
   ]
  },
  {
   "cell_type": "code",
   "execution_count": 42,
   "metadata": {},
   "outputs": [
    {
     "data": {
      "text/html": [
       "<table>\n",
       "<thead><tr><th scope=col>source</th><th scope=col>Count</th><th scope=col>Percent</th></tr></thead>\n",
       "<tbody>\n",
       "\t<tr><td>Seo     </td><td>155040  </td><td>49.03226</td></tr>\n",
       "\t<tr><td>Ads     </td><td> 88740  </td><td>28.06452</td></tr>\n",
       "\t<tr><td>Direct  </td><td> 72420  </td><td>22.90323</td></tr>\n",
       "</tbody>\n",
       "</table>\n"
      ],
      "text/latex": [
       "\\begin{tabular}{r|lll}\n",
       " source & Count & Percent\\\\\n",
       "\\hline\n",
       "\t Seo      & 155040   & 49.03226\\\\\n",
       "\t Ads      &  88740   & 28.06452\\\\\n",
       "\t Direct   &  72420   & 22.90323\\\\\n",
       "\\end{tabular}\n"
      ],
      "text/markdown": [
       "\n",
       "source | Count | Percent | \n",
       "|---|---|---|\n",
       "| Seo      | 155040   | 49.03226 | \n",
       "| Ads      |  88740   | 28.06452 | \n",
       "| Direct   |  72420   | 22.90323 | \n",
       "\n",
       "\n"
      ],
      "text/plain": [
       "  source Count  Percent \n",
       "1 Seo    155040 49.03226\n",
       "2 Ads     88740 28.06452\n",
       "3 Direct  72420 22.90323"
      ]
     },
     "metadata": {},
     "output_type": "display_data"
    }
   ],
   "source": [
    "data%>%\n",
    "group_by(source)%>%\n",
    "summarise(Count=n())%>%\n",
    "mutate(Percent=Count/sum(Count)*100)%>%\n",
    "arrange(desc(Count))"
   ]
  },
  {
   "cell_type": "code",
   "execution_count": 48,
   "metadata": {},
   "outputs": [
    {
     "data": {
      "text/html": [
       "<table>\n",
       "<thead><tr><th scope=col>converted</th><th scope=col>Count</th><th scope=col>Percent</th></tr></thead>\n",
       "<tbody>\n",
       "\t<tr><td>0        </td><td>306000   </td><td>96.774194</td></tr>\n",
       "\t<tr><td>1        </td><td> 10200   </td><td> 3.225806</td></tr>\n",
       "</tbody>\n",
       "</table>\n"
      ],
      "text/latex": [
       "\\begin{tabular}{r|lll}\n",
       " converted & Count & Percent\\\\\n",
       "\\hline\n",
       "\t 0         & 306000    & 96.774194\\\\\n",
       "\t 1         &  10200    &  3.225806\\\\\n",
       "\\end{tabular}\n"
      ],
      "text/markdown": [
       "\n",
       "converted | Count | Percent | \n",
       "|---|---|\n",
       "| 0         | 306000    | 96.774194 | \n",
       "| 1         |  10200    |  3.225806 | \n",
       "\n",
       "\n"
      ],
      "text/plain": [
       "  converted Count  Percent  \n",
       "1 0         306000 96.774194\n",
       "2 1          10200  3.225806"
      ]
     },
     "metadata": {},
     "output_type": "display_data"
    }
   ],
   "source": [
    "data%>%\n",
    "group_by(converted)%>%\n",
    "summarise(Count=n())%>%\n",
    "mutate(Percent=Count/sum(Count)*100)%>%\n",
    "arrange(desc(Count))"
   ]
  },
  {
   "cell_type": "code",
   "execution_count": 84,
   "metadata": {},
   "outputs": [],
   "source": [
    "conversion_country = data %>%\n",
    "group_by(country)%>%\n",
    "#summarise(Count =n())%>%\n",
    "summarise(Conversion_Rate = mean(converted))%>%\n",
    "#mutate(Conversion_rate = sum(mean))%>%\n",
    "arrange()\n",
    "\n"
   ]
  },
  {
   "cell_type": "code",
   "execution_count": 95,
   "metadata": {},
   "outputs": [
    {
     "data": {
      "text/html": [
       "<table>\n",
       "<thead><tr><th scope=col>country</th><th scope=col>Conversion_Rate</th></tr></thead>\n",
       "<tbody>\n",
       "\t<tr><td>China      </td><td>0.001331558</td></tr>\n",
       "\t<tr><td>Germany    </td><td>0.062500000</td></tr>\n",
       "\t<tr><td>UK         </td><td>0.052631579</td></tr>\n",
       "\t<tr><td>US         </td><td>0.037800687</td></tr>\n",
       "</tbody>\n",
       "</table>\n"
      ],
      "text/latex": [
       "\\begin{tabular}{r|ll}\n",
       " country & Conversion\\_Rate\\\\\n",
       "\\hline\n",
       "\t China       & 0.001331558\\\\\n",
       "\t Germany     & 0.062500000\\\\\n",
       "\t UK          & 0.052631579\\\\\n",
       "\t US          & 0.037800687\\\\\n",
       "\\end{tabular}\n"
      ],
      "text/markdown": [
       "\n",
       "country | Conversion_Rate | \n",
       "|---|---|---|---|\n",
       "| China       | 0.001331558 | \n",
       "| Germany     | 0.062500000 | \n",
       "| UK          | 0.052631579 | \n",
       "| US          | 0.037800687 | \n",
       "\n",
       "\n"
      ],
      "text/plain": [
       "  country Conversion_Rate\n",
       "1 China   0.001331558    \n",
       "2 Germany 0.062500000    \n",
       "3 UK      0.052631579    \n",
       "4 US      0.037800687    "
      ]
     },
     "metadata": {},
     "output_type": "display_data"
    },
    {
     "ename": "ERROR",
     "evalue": "Error in mean(converted): object 'converted' not found\n",
     "output_type": "error",
     "traceback": [
      "Error in mean(converted): object 'converted' not found\nTraceback:\n",
      "1. summarise(Conversion_Rate = mean(converted))",
      "2. mean(converted)"
     ]
    }
   ],
   "source": [
    "data%>%\n",
    "group_by(country)%>%\n",
    "summarise(Conversion_Rate = mean(converted))\n",
    "\n",
    "y=summarise(Conversion_Rate = mean(converted))\n",
    "\n",
    "ggplot(data, aes(x=country, y=y))+ geom_point()"
   ]
  }
 ],
 "metadata": {
  "kernelspec": {
   "display_name": "R",
   "language": "R",
   "name": "ir"
  },
  "language_info": {
   "codemirror_mode": "r",
   "file_extension": ".r",
   "mimetype": "text/x-r-source",
   "name": "R",
   "pygments_lexer": "r",
   "version": "3.4.3"
  }
 },
 "nbformat": 4,
 "nbformat_minor": 2
}
