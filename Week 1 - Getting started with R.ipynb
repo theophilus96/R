{
 "cells": [
  {
   "cell_type": "markdown",
   "metadata": {
    "nbpresent": {
     "id": "d49d32a8-d6a8-45df-8ea3-2b5468b5cef1"
    },
    "slideshow": {
     "slide_type": "slide"
    }
   },
   "source": [
    "# Week 1 - Getting started with R\n",
    "\n",
    "## <span style=\"color:#1A9FFF\">Workshop outline\n",
    "<!-- \n",
    "THIS IS A R MARKDOWN CELL.\n",
    "THE CONTENT FOLLOWS R MARKDOWN STYLES.\n",
    "FOR MORE INFO, YOU MAY REFER TO https://www.rstudio.com/wp-content/uploads/2015/02/rmarkdown-cheatsheet.pdf\n",
    "-->\n",
    "\n",
    "* Setup\n",
    "    + Setting up R for Jupyter notebook\n",
    "<!--    + Installing R\n",
    "        + Installing Jupyter Notebook\n",
    "        + Working with Jupyter Notebook -->\n",
    "    + Introduction to Jupyter Notebook\n",
    "<!--    + R Markdown\n",
    "        + R codes \n",
    "        + Creating slides from Jupyter notebook-->\n",
    "* R Fundamentals\n",
    "    + Data types\n",
    "<!--    + Numerics\n",
    "        + Characters\n",
    "        + Logicals\n",
    "        + Factors -->\n",
    "    + Task 1\n",
    "    + Data structures\n",
    "<!--    + Vectors\n",
    "        + Matrices\n",
    "        + Arrays\n",
    "        + Lists\n",
    "        + Data Frames -->\n",
    "    + Commands\n",
    "<!--    + c \n",
    "        + str\n",
    "        + summary\n",
    "        + subset\n",
    "        + help -->\n",
    "    * Task 2 & 3\n",
    "      \n",
    "\n",
    "* Getting started\n",
    "    + Reading data from files\n",
    "<!--    + read.csv\n",
    "        + read.table -->\n",
    "    + Task 4\n",
    "    + Exploring new packages\n",
    "<!--    + Installing new packages\n",
    "        + Reading documents -->\n",
    "    + Basic statistics\n",
    "<!--    + Mean\n",
    "        + Median\n",
    "        + Standard Deviation\n",
    "        + Variance -->"
   ]
  },
  {
   "cell_type": "markdown",
   "metadata": {
    "nbpresent": {
     "id": "06c2e6fa-599b-4497-9823-400dfd17cde0"
    },
    "slideshow": {
     "slide_type": "slide"
    }
   },
   "source": [
    "## <span style=\"color:#1A9FFF\">Setting up R for Jupyter notebook\n",
    "\n",
    "* Installing R\n",
    "* Installing Python (Required by Jupyter notebook)\n",
    "* Installing Jupyter notebook\n",
    "* Running Jupyter notebook\n"
   ]
  },
  {
   "cell_type": "markdown",
   "metadata": {
    "slideshow": {
     "slide_type": "subslide"
    }
   },
   "source": [
    "## <span style=\"color:#1A9FFF\">Windows fan\n",
    "\n",
    "1. Installing the R language\n",
    "    * Installation package: \n",
    "        + https://cran.r-project.org/bin/windows/base/\n",
    "    * Verification:\n",
    "        + In command prompt, type **R** `print(R)`\n",
    "            + If the command is not recognised, either\n",
    "                1. Replace \"R\" with C:\\\"Program Files\"\\R\\R-[version]\\bin\\R\n",
    "                2. Set up environment variables on your machine\n",
    "                    + == Google Keywords: add windows environment variable for r == \n",
    "\n",
    "\n",
    "* Install Python\n",
    "    * Verify Python version installed\n",
    "        1. In command prompt, type **python** and check the version\n",
    "        * If no python version is installed, install python using Anaconda distribution https://www.anaconda.com/download/ (reference http://jupyter.readthedocs.io/en/latest/install.html)\n",
    "\n",
    "\n",
    "* Running Jupyter Notebook\n",
    "    1. In command prompt, type **jupyter notebook**"
   ]
  },
  {
   "cell_type": "markdown",
   "metadata": {
    "slideshow": {
     "slide_type": "subslide"
    }
   },
   "source": [
    "## <span style=\"color:#1A9FFF\">Mac OS fan\n",
    "\n",
    "1. Installing the R language\n",
    "    * Installation package: \n",
    "        + https://cran.r-project.org/bin/macosx/\n",
    "    * Verification:\n",
    "        + In command prompt, type Rscript\n",
    "\n",
    "* Install Python\n",
    "    * Verify Python version installed\n",
    "        1. In command prompt, type **python** and check the version\n",
    "        * If no python version is installed, install python using Anaconda distribution https://www.anaconda.com/download/ (reference http://jupyter.readthedocs.io/en/latest/install.html)\n",
    "\n",
    "\n",
    "* Running Jupyter Notebook\n",
    "    1. In command prompt, type **jupyter notebook**"
   ]
  },
  {
   "cell_type": "markdown",
   "metadata": {},
   "source": [
    "* install.packages(c('repr', 'IRdisplay', 'evaluate', 'crayon', 'pbdZMQ', 'devtools', 'uuid', 'digest'))\n",
    "* devtools::install_github('IRkernel/IRkernel')\n",
    "* IRkernel::installspec()\n"
   ]
  },
  {
   "cell_type": "markdown",
   "metadata": {
    "slideshow": {
     "slide_type": "slide"
    }
   },
   "source": [
    "## <span style=\"color:#1A9FFF\">Introduction to Jupyter notebook\n",
    "\n",
    "### <span style=\"color:#1A9FFF\">Creating a new notebook\n",
    "1. File\n",
    "2. New notebook\n",
    "3. Select corresponding kernel (R)\n",
    "\n",
    "### <span style=\"color:#1A9FFF\">Cells\n",
    "* A adds a cell\n",
    "* X removes a cell\n",
    "* Markdown\n",
    "    + M convert cell to markdown\n",
    "* Code\n",
    "    + Press Y to convert cell to code\n",
    "\n",
    "\n",
    "### <span style=\"color:#1A9FFF\">Explore with references below\n",
    "    * https://www.cheatography.com/weidadeyue/cheat-sheets/jupyter-notebook/\n",
    "    * https://www.dataquest.io/blog/jupyter-notebook-tips-tricks-shortcuts/"
   ]
  },
  {
   "cell_type": "markdown",
   "metadata": {
    "nbpresent": {
     "id": "17ec6749-703c-4dbb-8ff2-f6b464c5abaf"
    },
    "slideshow": {
     "slide_type": "skip"
    }
   },
   "source": [
    "This is a markdown cell. Markdown cells can have many different formatting. They can even accept CSS formats\n",
    "\n",
    "<span style=\"color:#f22\">I</span>\n",
    "<span style=\"color:#f2f\">can</span>\n",
    "<span style=\"color:#22f\">be</span>\n",
    "<span style=\"color:#2ff\">as</span>\n",
    "<span style=\"color:#2f2\">colorful</span>\n",
    "<span style=\"color:#2f2\">as</span>\n",
    "<span style=\"color:#ff2\">a</span>\n",
    "<span style=\"color:#f22\">rainbow</span>\n",
    "\n",
    "For more, refer to https://github.com/adam-p/markdown-here/wiki/Markdown-Cheatsheet"
   ]
  },
  {
   "cell_type": "code",
   "execution_count": 1,
   "metadata": {
    "nbpresent": {
     "id": "416a9219-6ea3-4269-90d9-7dad5d6c3a97"
    },
    "slideshow": {
     "slide_type": "skip"
    }
   },
   "outputs": [
    {
     "name": "stdout",
     "output_type": "stream",
     "text": [
      "[1] \"This is a code cell\"\n",
      "[1] \"Hello world\"\n"
     ]
    },
    {
     "data": {
      "text/html": [
       "2"
      ],
      "text/latex": [
       "2"
      ],
      "text/markdown": [
       "2"
      ],
      "text/plain": [
       "[1] 2"
      ]
     },
     "metadata": {},
     "output_type": "display_data"
    }
   ],
   "source": [
    "print(\"This is a code cell\")\n",
    "print(\"Hello world\")\n",
    "1+1"
   ]
  },
  {
   "cell_type": "markdown",
   "metadata": {
    "nbpresent": {
     "id": "93e016a6-f63f-4597-95a4-fabf5671e4be"
    },
    "slideshow": {
     "slide_type": "subslide"
    }
   },
   "source": [
    "### <span style=\"color:#1A9FFF\">Presentation using Jupyter notebook\n",
    "\n",
    "1. Open command prompt/terminal\n",
    "2. execute command: \n",
    "\n",
    "jupyter nbconvert [ipynb location] --to slides --post serve"
   ]
  },
  {
   "cell_type": "markdown",
   "metadata": {
    "nbpresent": {
     "id": "accd3591-54fa-4ad8-b7fb-4afd3c68a5b5"
    },
    "slideshow": {
     "slide_type": "slide"
    }
   },
   "source": [
    "## <span style=\"color:#1A9FFF\">Introduction to R\n",
    "\n",
    "### <span style=\"color:#1A9FFF\"> Basic data types\n",
    "\n",
    "1. Numeric - 1,2,3,4,5...\n",
    "2. Characters - A,B,C,a,b,c\n",
    "3. Logicals - TRUE, FALSE\n",
    "4. Factors - 1:Apple, 2:Orange, 3:Pear"
   ]
  },
  {
   "cell_type": "code",
   "execution_count": 25,
   "metadata": {
    "nbpresent": {
     "id": "1ab59efe-069b-43db-9164-68f0e825e8b8"
    },
    "slideshow": {
     "slide_type": "subslide"
    }
   },
   "outputs": [
    {
     "name": "stdout",
     "output_type": "stream",
     "text": [
      "[1] \"This is a character vector\"\n"
     ]
    },
    {
     "data": {
      "text/html": [
       "'character'"
      ],
      "text/latex": [
       "'character'"
      ],
      "text/markdown": [
       "'character'"
      ],
      "text/plain": [
       "[1] \"character\""
      ]
     },
     "metadata": {},
     "output_type": "display_data"
    },
    {
     "name": "stdout",
     "output_type": "stream",
     "text": [
      "[1] \"Apple\"  \"Orange\" \"Pear\"   \"Pear\"   \"Orange\"\n"
     ]
    }
   ],
   "source": [
    "fruits <- c(\"Apple\", \"Orange\", \"Pear\", \"Pear\", \"Orange\")\n",
    "print(\"This is a character vector\")\n",
    "class(fruits)\n",
    "print(fruits)"
   ]
  },
  {
   "cell_type": "code",
   "execution_count": 26,
   "metadata": {
    "slideshow": {
     "slide_type": "fragment"
    }
   },
   "outputs": [
    {
     "name": "stdout",
     "output_type": "stream",
     "text": [
      "[1] \"This is a factor\"\n"
     ]
    },
    {
     "data": {
      "text/html": [
       "'factor'"
      ],
      "text/latex": [
       "'factor'"
      ],
      "text/markdown": [
       "'factor'"
      ],
      "text/plain": [
       "[1] \"factor\""
      ]
     },
     "metadata": {},
     "output_type": "display_data"
    },
    {
     "name": "stdout",
     "output_type": "stream",
     "text": [
      "[1] Apple  Orange Pear   Pear   Orange\n",
      "Levels: Apple Orange Pear\n",
      " Factor w/ 3 levels \"Apple\",\"Orange\",..: 1 2 3 3 2\n"
     ]
    }
   ],
   "source": [
    "fruits <- as.factor(fruits)\n",
    "print(\"This is a factor\")\n",
    "class(fruits)\n",
    "print(fruits)\n",
    "str(fruits)"
   ]
  },
  {
   "cell_type": "markdown",
   "metadata": {
    "nbpresent": {
     "id": "8724c8eb-980d-40fa-944a-3ca4a51a09c0"
    },
    "slideshow": {
     "slide_type": "slide"
    }
   },
   "source": [
    "### <span style=\"color:#1A9FFF\">Basic data structures\n",
    "<!--    + Vectors\n",
    "        + Matrices\n",
    "        + Arrays\n",
    "        + Lists\n",
    "        + Data Frames -->\n",
    "\n",
    "1. Vector: 1-D array of same data type\n",
    "2. Matrices: 2-D array of same data type\n",
    "3. Arrays: >2-D array of same data type\n",
    "3. List: Ordered collection of objects\n",
    "4. Data frame: Columns of data of varying data types. Main data structure in R."
   ]
  },
  {
   "cell_type": "markdown",
   "metadata": {
    "nbpresent": {
     "id": "a7cdff42-d84c-44d4-bf82-252823f9a843"
    },
    "slideshow": {
     "slide_type": "subslide"
    }
   },
   "source": [
    "### <span style=\"color:#1A9FFF\">Basic R commands\n",
    "<!--    + c \n",
    "        + str\n",
    "        + summary\n",
    "        + subset\n",
    "        + help -->\n",
    "\n",
    "#### <span style=\"color:#1A9FFF\">Vectors\n",
    "Lets create some vectors"
   ]
  },
  {
   "cell_type": "code",
   "execution_count": 3,
   "metadata": {
    "nbpresent": {
     "id": "c350c413-e3c4-4ad9-bb64-4e5cc16fb4ec"
    },
    "slideshow": {
     "slide_type": "subslide"
    }
   },
   "outputs": [
    {
     "name": "stdout",
     "output_type": "stream",
     "text": [
      "[1] \"structure of a\"\n",
      " num [1:3] 1 2 3\n",
      "[1] \"class of a\"\n"
     ]
    },
    {
     "data": {
      "text/html": [
       "'numeric'"
      ],
      "text/latex": [
       "'numeric'"
      ],
      "text/markdown": [
       "'numeric'"
      ],
      "text/plain": [
       "[1] \"numeric\""
      ]
     },
     "metadata": {},
     "output_type": "display_data"
    }
   ],
   "source": [
    "# Create numeric vector 'a'\n",
    "a <- c(1,2,3)\n",
    "print(\"structure of a\")\n",
    "str(a)\n",
    "print(\"class of a\")\n",
    "class(a)"
   ]
  },
  {
   "cell_type": "markdown",
   "metadata": {
    "nbpresent": {
     "id": "3fb4a15c-75d9-4ce8-afc1-3f8fcccab0ef"
    },
    "slideshow": {
     "slide_type": "slide"
    }
   },
   "source": [
    "#### <span style=\"color:#1A9FFF\">Matrices\n",
    "\n",
    "How do we create matrices"
   ]
  },
  {
   "cell_type": "code",
   "execution_count": 4,
   "metadata": {
    "collapsed": true,
    "nbpresent": {
     "id": "4578b03b-6389-4c9d-90bb-d3677cd329a1"
    },
    "slideshow": {
     "slide_type": "subslide"
    }
   },
   "outputs": [],
   "source": [
    "help(matrix)"
   ]
  },
  {
   "cell_type": "markdown",
   "metadata": {
    "nbpresent": {
     "id": "37a950bc-371d-4577-a29b-c22a02dc0f1d"
    },
    "slideshow": {
     "slide_type": "slide"
    }
   },
   "source": [
    "Basic description of the function\n",
    "![help1](help1.png)\n"
   ]
  },
  {
   "cell_type": "markdown",
   "metadata": {
    "nbpresent": {
     "id": "c9409350-77ad-4137-85bd-01f281f7258d"
    },
    "slideshow": {
     "slide_type": "fragment"
    }
   },
   "source": [
    "Inputs for the function\n",
    "![help2](help2.png)"
   ]
  },
  {
   "cell_type": "markdown",
   "metadata": {
    "nbpresent": {
     "id": "8e41ccb3-046d-44fb-92a4-338cdb16b4f2"
    },
    "slideshow": {
     "slide_type": "fragment"
    }
   },
   "source": [
    "Elaboration on how the function handles normally and abnormally\n",
    "![Help part 3](help3.png)"
   ]
  },
  {
   "cell_type": "markdown",
   "metadata": {
    "nbpresent": {
     "id": "51d7f97c-1819-4659-b2cd-b0e5cbef87ec"
    },
    "slideshow": {
     "slide_type": "fragment"
    }
   },
   "source": [
    "Examples and other related functions\n",
    "![help4](help4.png)"
   ]
  },
  {
   "cell_type": "code",
   "execution_count": 29,
   "metadata": {
    "nbpresent": {
     "id": "1388e1a3-ed52-43ec-a9c1-dbda008ea2b0"
    },
    "scrolled": true,
    "slideshow": {
     "slide_type": "subslide"
    }
   },
   "outputs": [
    {
     "name": "stdout",
     "output_type": "stream",
     "text": [
      "     [,1] [,2]\n",
      "[1,]    1    4\n",
      "[2,]    2    5\n",
      "[3,]    3    6\n"
     ]
    }
   ],
   "source": [
    "# Create numeric matrix b, c, d\n",
    "b <- matrix(c(1,2,3,4,5,6), nrow=3, ncol=2)\n",
    "print(b)"
   ]
  },
  {
   "cell_type": "code",
   "execution_count": 30,
   "metadata": {
    "slideshow": {
     "slide_type": "fragment"
    }
   },
   "outputs": [
    {
     "name": "stdout",
     "output_type": "stream",
     "text": [
      "     [,1] [,2]\n",
      "[1,]    1    4\n",
      "[2,]    2    5\n",
      "[3,]    3    6\n"
     ]
    }
   ],
   "source": [
    "c <- matrix(c(1,2,3,4,5,6), nrow=3, ncol=2, byrow=FALSE)\n",
    "print(c)\n"
   ]
  },
  {
   "cell_type": "code",
   "execution_count": 31,
   "metadata": {
    "slideshow": {
     "slide_type": "fragment"
    }
   },
   "outputs": [
    {
     "name": "stdout",
     "output_type": "stream",
     "text": [
      "     [,1] [,2]\n",
      "[1,]    1    2\n",
      "[2,]    3    4\n",
      "[3,]    5    6\n"
     ]
    }
   ],
   "source": [
    "d <- matrix(c(1,2,3,4,5,6), nrow=3, ncol=2, byrow=TRUE)\n",
    "print(d)"
   ]
  },
  {
   "cell_type": "markdown",
   "metadata": {
    "nbpresent": {
     "id": "e172282e-a6dc-4724-b07e-9aa3561697f7"
    },
    "slideshow": {
     "slide_type": "slide"
    }
   },
   "source": [
    "### Task 1: Create a list containing some brand names (automobile, apparels, phones etc)\n",
    "hint: search the help for list"
   ]
  },
  {
   "cell_type": "markdown",
   "metadata": {
    "collapsed": true,
    "nbpresent": {
     "id": "293892f4-f69e-4574-86c4-120e1b954e2c"
    },
    "slideshow": {
     "slide_type": "subslide"
    }
   },
   "source": [
    "\"List\" help uses \"...\" ellipses, therefore accepts all named inputs and will try to match in the definition. Some inherit from the parent classes.\n",
    "![list help](list.png)"
   ]
  },
  {
   "cell_type": "code",
   "execution_count": 6,
   "metadata": {
    "nbpresent": {
     "id": "d697aac4-6ea8-4d70-8332-d101ccd95764"
    },
    "slideshow": {
     "slide_type": "subslide"
    }
   },
   "outputs": [
    {
     "name": "stdout",
     "output_type": "stream",
     "text": [
      "List of 2\n",
      " $ volkwagen: chr [1:3] \"golf\" \"passat\" \"polo\"\n",
      " $ toyota   : chr [1:3] \"altis\" \"prius\" \"sienta\"\n"
     ]
    }
   ],
   "source": [
    "cars <- list(volkwagen=c(\"golf\", \"passat\", \"polo\"), toyota=c(\"altis\", \"prius\", \"sienta\"))\n",
    "str(cars)"
   ]
  },
  {
   "cell_type": "markdown",
   "metadata": {
    "nbpresent": {
     "id": "12add9c0-1fed-4a2e-9baa-a9048d7d1437"
    },
    "slideshow": {
     "slide_type": "slide"
    }
   },
   "source": [
    "### <span style=\"color:#1A9FFF\">Data Frames\n",
    "\n",
    "#### Main workhorse of R\n",
    "* Tabular format\n",
    "    + Columns of variables\n",
    "    + Data type doesn't have to be the same between columns"
   ]
  },
  {
   "cell_type": "markdown",
   "metadata": {
    "nbpresent": {
     "id": "8fe45a37-af5d-4818-bbef-2faf59c6f662"
    },
    "slideshow": {
     "slide_type": "fragment"
    }
   },
   "source": [
    "####  esoph dataset: Smoking, Alcohol and (O)esophageal Cancer"
   ]
  },
  {
   "cell_type": "code",
   "execution_count": 7,
   "metadata": {
    "nbpresent": {
     "id": "d91e2dd5-10ae-42dd-981d-92a9ad4b82a1"
    },
    "slideshow": {
     "slide_type": "subslide"
    }
   },
   "outputs": [
    {
     "name": "stdout",
     "output_type": "stream",
     "text": [
      "'data.frame':\t88 obs. of  5 variables:\n",
      " $ agegp    : Ord.factor w/ 6 levels \"25-34\"<\"35-44\"<..: 1 1 1 1 1 1 1 1 1 1 ...\n",
      " $ alcgp    : Ord.factor w/ 4 levels \"0-39g/day\"<\"40-79\"<..: 1 1 1 1 2 2 2 2 3 3 ...\n",
      " $ tobgp    : Ord.factor w/ 4 levels \"0-9g/day\"<\"10-19\"<..: 1 2 3 4 1 2 3 4 1 2 ...\n",
      " $ ncases   : num  0 0 0 0 0 0 0 0 0 0 ...\n",
      " $ ncontrols: num  40 10 6 5 27 7 4 7 2 1 ...\n"
     ]
    }
   ],
   "source": [
    "# load esoph data\n",
    "data(esoph)\n",
    "# inspect data\n",
    "str(esoph)"
   ]
  },
  {
   "cell_type": "code",
   "execution_count": 8,
   "metadata": {
    "nbpresent": {
     "id": "8da60823-c7b3-4b33-8406-34bbe3a13ec5"
    },
    "slideshow": {
     "slide_type": "subslide"
    }
   },
   "outputs": [
    {
     "data": {
      "text/html": [
       "<table>\n",
       "<thead><tr><th scope=col>agegp</th><th scope=col>alcgp</th><th scope=col>tobgp</th><th scope=col>ncases</th><th scope=col>ncontrols</th></tr></thead>\n",
       "<tbody>\n",
       "\t<tr><td>25-34    </td><td>0-39g/day</td><td>0-9g/day </td><td>0        </td><td>40       </td></tr>\n",
       "\t<tr><td>25-34    </td><td>0-39g/day</td><td>10-19    </td><td>0        </td><td>10       </td></tr>\n",
       "\t<tr><td>25-34    </td><td>0-39g/day</td><td>20-29    </td><td>0        </td><td> 6       </td></tr>\n",
       "\t<tr><td>25-34    </td><td>0-39g/day</td><td>30+      </td><td>0        </td><td> 5       </td></tr>\n",
       "\t<tr><td>25-34    </td><td>40-79    </td><td>0-9g/day </td><td>0        </td><td>27       </td></tr>\n",
       "\t<tr><td>25-34    </td><td>40-79    </td><td>10-19    </td><td>0        </td><td> 7       </td></tr>\n",
       "</tbody>\n",
       "</table>\n"
      ],
      "text/latex": [
       "\\begin{tabular}{r|lllll}\n",
       " agegp & alcgp & tobgp & ncases & ncontrols\\\\\n",
       "\\hline\n",
       "\t 25-34     & 0-39g/day & 0-9g/day  & 0         & 40       \\\\\n",
       "\t 25-34     & 0-39g/day & 10-19     & 0         & 10       \\\\\n",
       "\t 25-34     & 0-39g/day & 20-29     & 0         &  6       \\\\\n",
       "\t 25-34     & 0-39g/day & 30+       & 0         &  5       \\\\\n",
       "\t 25-34     & 40-79     & 0-9g/day  & 0         & 27       \\\\\n",
       "\t 25-34     & 40-79     & 10-19     & 0         &  7       \\\\\n",
       "\\end{tabular}\n"
      ],
      "text/markdown": [
       "\n",
       "agegp | alcgp | tobgp | ncases | ncontrols | \n",
       "|---|---|---|---|---|---|\n",
       "| 25-34     | 0-39g/day | 0-9g/day  | 0         | 40        | \n",
       "| 25-34     | 0-39g/day | 10-19     | 0         | 10        | \n",
       "| 25-34     | 0-39g/day | 20-29     | 0         |  6        | \n",
       "| 25-34     | 0-39g/day | 30+       | 0         |  5        | \n",
       "| 25-34     | 40-79     | 0-9g/day  | 0         | 27        | \n",
       "| 25-34     | 40-79     | 10-19     | 0         |  7        | \n",
       "\n",
       "\n"
      ],
      "text/plain": [
       "  agegp alcgp     tobgp    ncases ncontrols\n",
       "1 25-34 0-39g/day 0-9g/day 0      40       \n",
       "2 25-34 0-39g/day 10-19    0      10       \n",
       "3 25-34 0-39g/day 20-29    0       6       \n",
       "4 25-34 0-39g/day 30+      0       5       \n",
       "5 25-34 40-79     0-9g/day 0      27       \n",
       "6 25-34 40-79     10-19    0       7       "
      ]
     },
     "metadata": {},
     "output_type": "display_data"
    }
   ],
   "source": [
    "head(esoph)"
   ]
  },
  {
   "cell_type": "markdown",
   "metadata": {
    "nbpresent": {
     "id": "bd2343da-f4c5-44a3-b723-07bd6cb946c0"
    },
    "slideshow": {
     "slide_type": "subslide"
    }
   },
   "source": [
    "### Task 2: Select only the first row.\n",
    "\n",
    "Hint: Look at the help file for head or google for other creative solutions"
   ]
  },
  {
   "cell_type": "code",
   "execution_count": 9,
   "metadata": {
    "nbpresent": {
     "id": "e54e4ef3-285a-4194-a6ce-bcf2efb8d808"
    },
    "slideshow": {
     "slide_type": "subslide"
    }
   },
   "outputs": [
    {
     "data": {
      "text/html": [
       "<table>\n",
       "<thead><tr><th scope=col>agegp</th><th scope=col>alcgp</th><th scope=col>tobgp</th><th scope=col>ncases</th><th scope=col>ncontrols</th></tr></thead>\n",
       "<tbody>\n",
       "\t<tr><td>25-34    </td><td>0-39g/day</td><td>0-9g/day </td><td>0        </td><td>40       </td></tr>\n",
       "</tbody>\n",
       "</table>\n"
      ],
      "text/latex": [
       "\\begin{tabular}{r|lllll}\n",
       " agegp & alcgp & tobgp & ncases & ncontrols\\\\\n",
       "\\hline\n",
       "\t 25-34     & 0-39g/day & 0-9g/day  & 0         & 40       \\\\\n",
       "\\end{tabular}\n"
      ],
      "text/markdown": [
       "\n",
       "agegp | alcgp | tobgp | ncases | ncontrols | \n",
       "|---|\n",
       "| 25-34     | 0-39g/day | 0-9g/day  | 0         | 40        | \n",
       "\n",
       "\n"
      ],
      "text/plain": [
       "  agegp alcgp     tobgp    ncases ncontrols\n",
       "1 25-34 0-39g/day 0-9g/day 0      40       "
      ]
     },
     "metadata": {},
     "output_type": "display_data"
    }
   ],
   "source": [
    "head(esoph, n=1)"
   ]
  },
  {
   "cell_type": "code",
   "execution_count": 10,
   "metadata": {
    "nbpresent": {
     "id": "47f5274b-9138-4752-b7c1-fbe81850004a"
    },
    "slideshow": {
     "slide_type": "fragment"
    }
   },
   "outputs": [
    {
     "data": {
      "text/html": [
       "<table>\n",
       "<thead><tr><th scope=col>agegp</th><th scope=col>alcgp</th><th scope=col>tobgp</th><th scope=col>ncases</th><th scope=col>ncontrols</th></tr></thead>\n",
       "<tbody>\n",
       "\t<tr><td>25-34    </td><td>0-39g/day</td><td>0-9g/day </td><td>0        </td><td>40       </td></tr>\n",
       "</tbody>\n",
       "</table>\n"
      ],
      "text/latex": [
       "\\begin{tabular}{r|lllll}\n",
       " agegp & alcgp & tobgp & ncases & ncontrols\\\\\n",
       "\\hline\n",
       "\t 25-34     & 0-39g/day & 0-9g/day  & 0         & 40       \\\\\n",
       "\\end{tabular}\n"
      ],
      "text/markdown": [
       "\n",
       "agegp | alcgp | tobgp | ncases | ncontrols | \n",
       "|---|\n",
       "| 25-34     | 0-39g/day | 0-9g/day  | 0         | 40        | \n",
       "\n",
       "\n"
      ],
      "text/plain": [
       "  agegp alcgp     tobgp    ncases ncontrols\n",
       "1 25-34 0-39g/day 0-9g/day 0      40       "
      ]
     },
     "metadata": {},
     "output_type": "display_data"
    }
   ],
   "source": [
    "esoph[1,]"
   ]
  },
  {
   "cell_type": "markdown",
   "metadata": {
    "nbpresent": {
     "id": "6b6380a5-def5-4244-97b6-cc415d33efc8"
    },
    "slideshow": {
     "slide_type": "subslide"
    }
   },
   "source": [
    "### Task 3: Select only 1 variable."
   ]
  },
  {
   "cell_type": "code",
   "execution_count": 11,
   "metadata": {
    "nbpresent": {
     "id": "f31e16c7-db51-46e3-a39b-0d215a7298fa"
    },
    "slideshow": {
     "slide_type": "fragment"
    }
   },
   "outputs": [
    {
     "data": {
      "text/html": [
       "<ol class=list-inline>\n",
       "\t<li>25-34</li>\n",
       "\t<li>25-34</li>\n",
       "\t<li>25-34</li>\n",
       "\t<li>25-34</li>\n",
       "\t<li>25-34</li>\n",
       "\t<li>25-34</li>\n",
       "\t<li>25-34</li>\n",
       "\t<li>25-34</li>\n",
       "\t<li>25-34</li>\n",
       "\t<li>25-34</li>\n",
       "\t<li>25-34</li>\n",
       "\t<li>25-34</li>\n",
       "\t<li>25-34</li>\n",
       "\t<li>25-34</li>\n",
       "\t<li>25-34</li>\n",
       "\t<li>35-44</li>\n",
       "\t<li>35-44</li>\n",
       "\t<li>35-44</li>\n",
       "\t<li>35-44</li>\n",
       "\t<li>35-44</li>\n",
       "\t<li>35-44</li>\n",
       "\t<li>35-44</li>\n",
       "\t<li>35-44</li>\n",
       "\t<li>35-44</li>\n",
       "\t<li>35-44</li>\n",
       "\t<li>35-44</li>\n",
       "\t<li>35-44</li>\n",
       "\t<li>35-44</li>\n",
       "\t<li>35-44</li>\n",
       "\t<li>35-44</li>\n",
       "\t<li>45-54</li>\n",
       "\t<li>45-54</li>\n",
       "\t<li>45-54</li>\n",
       "\t<li>45-54</li>\n",
       "\t<li>45-54</li>\n",
       "\t<li>45-54</li>\n",
       "\t<li>45-54</li>\n",
       "\t<li>45-54</li>\n",
       "\t<li>45-54</li>\n",
       "\t<li>45-54</li>\n",
       "\t<li>45-54</li>\n",
       "\t<li>45-54</li>\n",
       "\t<li>45-54</li>\n",
       "\t<li>45-54</li>\n",
       "\t<li>45-54</li>\n",
       "\t<li>45-54</li>\n",
       "\t<li>55-64</li>\n",
       "\t<li>55-64</li>\n",
       "\t<li>55-64</li>\n",
       "\t<li>55-64</li>\n",
       "\t<li>55-64</li>\n",
       "\t<li>55-64</li>\n",
       "\t<li>55-64</li>\n",
       "\t<li>55-64</li>\n",
       "\t<li>55-64</li>\n",
       "\t<li>55-64</li>\n",
       "\t<li>55-64</li>\n",
       "\t<li>55-64</li>\n",
       "\t<li>55-64</li>\n",
       "\t<li>55-64</li>\n",
       "\t<li>55-64</li>\n",
       "\t<li>55-64</li>\n",
       "\t<li>65-74</li>\n",
       "\t<li>65-74</li>\n",
       "\t<li>65-74</li>\n",
       "\t<li>65-74</li>\n",
       "\t<li>65-74</li>\n",
       "\t<li>65-74</li>\n",
       "\t<li>65-74</li>\n",
       "\t<li>65-74</li>\n",
       "\t<li>65-74</li>\n",
       "\t<li>65-74</li>\n",
       "\t<li>65-74</li>\n",
       "\t<li>65-74</li>\n",
       "\t<li>65-74</li>\n",
       "\t<li>65-74</li>\n",
       "\t<li>65-74</li>\n",
       "\t<li>75+</li>\n",
       "\t<li>75+</li>\n",
       "\t<li>75+</li>\n",
       "\t<li>75+</li>\n",
       "\t<li>75+</li>\n",
       "\t<li>75+</li>\n",
       "\t<li>75+</li>\n",
       "\t<li>75+</li>\n",
       "\t<li>75+</li>\n",
       "\t<li>75+</li>\n",
       "\t<li>75+</li>\n",
       "</ol>\n"
      ],
      "text/latex": [
       "\\begin{enumerate*}\n",
       "\\item 25-34\n",
       "\\item 25-34\n",
       "\\item 25-34\n",
       "\\item 25-34\n",
       "\\item 25-34\n",
       "\\item 25-34\n",
       "\\item 25-34\n",
       "\\item 25-34\n",
       "\\item 25-34\n",
       "\\item 25-34\n",
       "\\item 25-34\n",
       "\\item 25-34\n",
       "\\item 25-34\n",
       "\\item 25-34\n",
       "\\item 25-34\n",
       "\\item 35-44\n",
       "\\item 35-44\n",
       "\\item 35-44\n",
       "\\item 35-44\n",
       "\\item 35-44\n",
       "\\item 35-44\n",
       "\\item 35-44\n",
       "\\item 35-44\n",
       "\\item 35-44\n",
       "\\item 35-44\n",
       "\\item 35-44\n",
       "\\item 35-44\n",
       "\\item 35-44\n",
       "\\item 35-44\n",
       "\\item 35-44\n",
       "\\item 45-54\n",
       "\\item 45-54\n",
       "\\item 45-54\n",
       "\\item 45-54\n",
       "\\item 45-54\n",
       "\\item 45-54\n",
       "\\item 45-54\n",
       "\\item 45-54\n",
       "\\item 45-54\n",
       "\\item 45-54\n",
       "\\item 45-54\n",
       "\\item 45-54\n",
       "\\item 45-54\n",
       "\\item 45-54\n",
       "\\item 45-54\n",
       "\\item 45-54\n",
       "\\item 55-64\n",
       "\\item 55-64\n",
       "\\item 55-64\n",
       "\\item 55-64\n",
       "\\item 55-64\n",
       "\\item 55-64\n",
       "\\item 55-64\n",
       "\\item 55-64\n",
       "\\item 55-64\n",
       "\\item 55-64\n",
       "\\item 55-64\n",
       "\\item 55-64\n",
       "\\item 55-64\n",
       "\\item 55-64\n",
       "\\item 55-64\n",
       "\\item 55-64\n",
       "\\item 65-74\n",
       "\\item 65-74\n",
       "\\item 65-74\n",
       "\\item 65-74\n",
       "\\item 65-74\n",
       "\\item 65-74\n",
       "\\item 65-74\n",
       "\\item 65-74\n",
       "\\item 65-74\n",
       "\\item 65-74\n",
       "\\item 65-74\n",
       "\\item 65-74\n",
       "\\item 65-74\n",
       "\\item 65-74\n",
       "\\item 65-74\n",
       "\\item 75+\n",
       "\\item 75+\n",
       "\\item 75+\n",
       "\\item 75+\n",
       "\\item 75+\n",
       "\\item 75+\n",
       "\\item 75+\n",
       "\\item 75+\n",
       "\\item 75+\n",
       "\\item 75+\n",
       "\\item 75+\n",
       "\\end{enumerate*}\n"
      ],
      "text/markdown": [
       "1. 25-34\n",
       "2. 25-34\n",
       "3. 25-34\n",
       "4. 25-34\n",
       "5. 25-34\n",
       "6. 25-34\n",
       "7. 25-34\n",
       "8. 25-34\n",
       "9. 25-34\n",
       "10. 25-34\n",
       "11. 25-34\n",
       "12. 25-34\n",
       "13. 25-34\n",
       "14. 25-34\n",
       "15. 25-34\n",
       "16. 35-44\n",
       "17. 35-44\n",
       "18. 35-44\n",
       "19. 35-44\n",
       "20. 35-44\n",
       "21. 35-44\n",
       "22. 35-44\n",
       "23. 35-44\n",
       "24. 35-44\n",
       "25. 35-44\n",
       "26. 35-44\n",
       "27. 35-44\n",
       "28. 35-44\n",
       "29. 35-44\n",
       "30. 35-44\n",
       "31. 45-54\n",
       "32. 45-54\n",
       "33. 45-54\n",
       "34. 45-54\n",
       "35. 45-54\n",
       "36. 45-54\n",
       "37. 45-54\n",
       "38. 45-54\n",
       "39. 45-54\n",
       "40. 45-54\n",
       "41. 45-54\n",
       "42. 45-54\n",
       "43. 45-54\n",
       "44. 45-54\n",
       "45. 45-54\n",
       "46. 45-54\n",
       "47. 55-64\n",
       "48. 55-64\n",
       "49. 55-64\n",
       "50. 55-64\n",
       "51. 55-64\n",
       "52. 55-64\n",
       "53. 55-64\n",
       "54. 55-64\n",
       "55. 55-64\n",
       "56. 55-64\n",
       "57. 55-64\n",
       "58. 55-64\n",
       "59. 55-64\n",
       "60. 55-64\n",
       "61. 55-64\n",
       "62. 55-64\n",
       "63. 65-74\n",
       "64. 65-74\n",
       "65. 65-74\n",
       "66. 65-74\n",
       "67. 65-74\n",
       "68. 65-74\n",
       "69. 65-74\n",
       "70. 65-74\n",
       "71. 65-74\n",
       "72. 65-74\n",
       "73. 65-74\n",
       "74. 65-74\n",
       "75. 65-74\n",
       "76. 65-74\n",
       "77. 65-74\n",
       "78. 75+\n",
       "79. 75+\n",
       "80. 75+\n",
       "81. 75+\n",
       "82. 75+\n",
       "83. 75+\n",
       "84. 75+\n",
       "85. 75+\n",
       "86. 75+\n",
       "87. 75+\n",
       "88. 75+\n",
       "\n",
       "\n"
      ],
      "text/plain": [
       " [1] 25-34 25-34 25-34 25-34 25-34 25-34 25-34 25-34 25-34 25-34 25-34 25-34\n",
       "[13] 25-34 25-34 25-34 35-44 35-44 35-44 35-44 35-44 35-44 35-44 35-44 35-44\n",
       "[25] 35-44 35-44 35-44 35-44 35-44 35-44 45-54 45-54 45-54 45-54 45-54 45-54\n",
       "[37] 45-54 45-54 45-54 45-54 45-54 45-54 45-54 45-54 45-54 45-54 55-64 55-64\n",
       "[49] 55-64 55-64 55-64 55-64 55-64 55-64 55-64 55-64 55-64 55-64 55-64 55-64\n",
       "[61] 55-64 55-64 65-74 65-74 65-74 65-74 65-74 65-74 65-74 65-74 65-74 65-74\n",
       "[73] 65-74 65-74 65-74 65-74 65-74 75+   75+   75+   75+   75+   75+   75+  \n",
       "[85] 75+   75+   75+   75+  \n",
       "Levels: 25-34 < 35-44 < 45-54 < 55-64 < 65-74 < 75+"
      ]
     },
     "metadata": {},
     "output_type": "display_data"
    }
   ],
   "source": [
    "esoph$agegp"
   ]
  },
  {
   "cell_type": "code",
   "execution_count": 12,
   "metadata": {
    "nbpresent": {
     "id": "0b96b001-92d3-4cb4-8d5d-3b3b41d7d677"
    },
    "slideshow": {
     "slide_type": "fragment"
    }
   },
   "outputs": [
    {
     "data": {
      "text/html": [
       "<ol class=list-inline>\n",
       "\t<li>25-34</li>\n",
       "\t<li>25-34</li>\n",
       "\t<li>25-34</li>\n",
       "\t<li>25-34</li>\n",
       "\t<li>25-34</li>\n",
       "\t<li>25-34</li>\n",
       "\t<li>25-34</li>\n",
       "\t<li>25-34</li>\n",
       "\t<li>25-34</li>\n",
       "\t<li>25-34</li>\n",
       "\t<li>25-34</li>\n",
       "\t<li>25-34</li>\n",
       "\t<li>25-34</li>\n",
       "\t<li>25-34</li>\n",
       "\t<li>25-34</li>\n",
       "\t<li>35-44</li>\n",
       "\t<li>35-44</li>\n",
       "\t<li>35-44</li>\n",
       "\t<li>35-44</li>\n",
       "\t<li>35-44</li>\n",
       "\t<li>35-44</li>\n",
       "\t<li>35-44</li>\n",
       "\t<li>35-44</li>\n",
       "\t<li>35-44</li>\n",
       "\t<li>35-44</li>\n",
       "\t<li>35-44</li>\n",
       "\t<li>35-44</li>\n",
       "\t<li>35-44</li>\n",
       "\t<li>35-44</li>\n",
       "\t<li>35-44</li>\n",
       "\t<li>45-54</li>\n",
       "\t<li>45-54</li>\n",
       "\t<li>45-54</li>\n",
       "\t<li>45-54</li>\n",
       "\t<li>45-54</li>\n",
       "\t<li>45-54</li>\n",
       "\t<li>45-54</li>\n",
       "\t<li>45-54</li>\n",
       "\t<li>45-54</li>\n",
       "\t<li>45-54</li>\n",
       "\t<li>45-54</li>\n",
       "\t<li>45-54</li>\n",
       "\t<li>45-54</li>\n",
       "\t<li>45-54</li>\n",
       "\t<li>45-54</li>\n",
       "\t<li>45-54</li>\n",
       "\t<li>55-64</li>\n",
       "\t<li>55-64</li>\n",
       "\t<li>55-64</li>\n",
       "\t<li>55-64</li>\n",
       "\t<li>55-64</li>\n",
       "\t<li>55-64</li>\n",
       "\t<li>55-64</li>\n",
       "\t<li>55-64</li>\n",
       "\t<li>55-64</li>\n",
       "\t<li>55-64</li>\n",
       "\t<li>55-64</li>\n",
       "\t<li>55-64</li>\n",
       "\t<li>55-64</li>\n",
       "\t<li>55-64</li>\n",
       "\t<li>55-64</li>\n",
       "\t<li>55-64</li>\n",
       "\t<li>65-74</li>\n",
       "\t<li>65-74</li>\n",
       "\t<li>65-74</li>\n",
       "\t<li>65-74</li>\n",
       "\t<li>65-74</li>\n",
       "\t<li>65-74</li>\n",
       "\t<li>65-74</li>\n",
       "\t<li>65-74</li>\n",
       "\t<li>65-74</li>\n",
       "\t<li>65-74</li>\n",
       "\t<li>65-74</li>\n",
       "\t<li>65-74</li>\n",
       "\t<li>65-74</li>\n",
       "\t<li>65-74</li>\n",
       "\t<li>65-74</li>\n",
       "\t<li>75+</li>\n",
       "\t<li>75+</li>\n",
       "\t<li>75+</li>\n",
       "\t<li>75+</li>\n",
       "\t<li>75+</li>\n",
       "\t<li>75+</li>\n",
       "\t<li>75+</li>\n",
       "\t<li>75+</li>\n",
       "\t<li>75+</li>\n",
       "\t<li>75+</li>\n",
       "\t<li>75+</li>\n",
       "</ol>\n"
      ],
      "text/latex": [
       "\\begin{enumerate*}\n",
       "\\item 25-34\n",
       "\\item 25-34\n",
       "\\item 25-34\n",
       "\\item 25-34\n",
       "\\item 25-34\n",
       "\\item 25-34\n",
       "\\item 25-34\n",
       "\\item 25-34\n",
       "\\item 25-34\n",
       "\\item 25-34\n",
       "\\item 25-34\n",
       "\\item 25-34\n",
       "\\item 25-34\n",
       "\\item 25-34\n",
       "\\item 25-34\n",
       "\\item 35-44\n",
       "\\item 35-44\n",
       "\\item 35-44\n",
       "\\item 35-44\n",
       "\\item 35-44\n",
       "\\item 35-44\n",
       "\\item 35-44\n",
       "\\item 35-44\n",
       "\\item 35-44\n",
       "\\item 35-44\n",
       "\\item 35-44\n",
       "\\item 35-44\n",
       "\\item 35-44\n",
       "\\item 35-44\n",
       "\\item 35-44\n",
       "\\item 45-54\n",
       "\\item 45-54\n",
       "\\item 45-54\n",
       "\\item 45-54\n",
       "\\item 45-54\n",
       "\\item 45-54\n",
       "\\item 45-54\n",
       "\\item 45-54\n",
       "\\item 45-54\n",
       "\\item 45-54\n",
       "\\item 45-54\n",
       "\\item 45-54\n",
       "\\item 45-54\n",
       "\\item 45-54\n",
       "\\item 45-54\n",
       "\\item 45-54\n",
       "\\item 55-64\n",
       "\\item 55-64\n",
       "\\item 55-64\n",
       "\\item 55-64\n",
       "\\item 55-64\n",
       "\\item 55-64\n",
       "\\item 55-64\n",
       "\\item 55-64\n",
       "\\item 55-64\n",
       "\\item 55-64\n",
       "\\item 55-64\n",
       "\\item 55-64\n",
       "\\item 55-64\n",
       "\\item 55-64\n",
       "\\item 55-64\n",
       "\\item 55-64\n",
       "\\item 65-74\n",
       "\\item 65-74\n",
       "\\item 65-74\n",
       "\\item 65-74\n",
       "\\item 65-74\n",
       "\\item 65-74\n",
       "\\item 65-74\n",
       "\\item 65-74\n",
       "\\item 65-74\n",
       "\\item 65-74\n",
       "\\item 65-74\n",
       "\\item 65-74\n",
       "\\item 65-74\n",
       "\\item 65-74\n",
       "\\item 65-74\n",
       "\\item 75+\n",
       "\\item 75+\n",
       "\\item 75+\n",
       "\\item 75+\n",
       "\\item 75+\n",
       "\\item 75+\n",
       "\\item 75+\n",
       "\\item 75+\n",
       "\\item 75+\n",
       "\\item 75+\n",
       "\\item 75+\n",
       "\\end{enumerate*}\n"
      ],
      "text/markdown": [
       "1. 25-34\n",
       "2. 25-34\n",
       "3. 25-34\n",
       "4. 25-34\n",
       "5. 25-34\n",
       "6. 25-34\n",
       "7. 25-34\n",
       "8. 25-34\n",
       "9. 25-34\n",
       "10. 25-34\n",
       "11. 25-34\n",
       "12. 25-34\n",
       "13. 25-34\n",
       "14. 25-34\n",
       "15. 25-34\n",
       "16. 35-44\n",
       "17. 35-44\n",
       "18. 35-44\n",
       "19. 35-44\n",
       "20. 35-44\n",
       "21. 35-44\n",
       "22. 35-44\n",
       "23. 35-44\n",
       "24. 35-44\n",
       "25. 35-44\n",
       "26. 35-44\n",
       "27. 35-44\n",
       "28. 35-44\n",
       "29. 35-44\n",
       "30. 35-44\n",
       "31. 45-54\n",
       "32. 45-54\n",
       "33. 45-54\n",
       "34. 45-54\n",
       "35. 45-54\n",
       "36. 45-54\n",
       "37. 45-54\n",
       "38. 45-54\n",
       "39. 45-54\n",
       "40. 45-54\n",
       "41. 45-54\n",
       "42. 45-54\n",
       "43. 45-54\n",
       "44. 45-54\n",
       "45. 45-54\n",
       "46. 45-54\n",
       "47. 55-64\n",
       "48. 55-64\n",
       "49. 55-64\n",
       "50. 55-64\n",
       "51. 55-64\n",
       "52. 55-64\n",
       "53. 55-64\n",
       "54. 55-64\n",
       "55. 55-64\n",
       "56. 55-64\n",
       "57. 55-64\n",
       "58. 55-64\n",
       "59. 55-64\n",
       "60. 55-64\n",
       "61. 55-64\n",
       "62. 55-64\n",
       "63. 65-74\n",
       "64. 65-74\n",
       "65. 65-74\n",
       "66. 65-74\n",
       "67. 65-74\n",
       "68. 65-74\n",
       "69. 65-74\n",
       "70. 65-74\n",
       "71. 65-74\n",
       "72. 65-74\n",
       "73. 65-74\n",
       "74. 65-74\n",
       "75. 65-74\n",
       "76. 65-74\n",
       "77. 65-74\n",
       "78. 75+\n",
       "79. 75+\n",
       "80. 75+\n",
       "81. 75+\n",
       "82. 75+\n",
       "83. 75+\n",
       "84. 75+\n",
       "85. 75+\n",
       "86. 75+\n",
       "87. 75+\n",
       "88. 75+\n",
       "\n",
       "\n"
      ],
      "text/plain": [
       " [1] 25-34 25-34 25-34 25-34 25-34 25-34 25-34 25-34 25-34 25-34 25-34 25-34\n",
       "[13] 25-34 25-34 25-34 35-44 35-44 35-44 35-44 35-44 35-44 35-44 35-44 35-44\n",
       "[25] 35-44 35-44 35-44 35-44 35-44 35-44 45-54 45-54 45-54 45-54 45-54 45-54\n",
       "[37] 45-54 45-54 45-54 45-54 45-54 45-54 45-54 45-54 45-54 45-54 55-64 55-64\n",
       "[49] 55-64 55-64 55-64 55-64 55-64 55-64 55-64 55-64 55-64 55-64 55-64 55-64\n",
       "[61] 55-64 55-64 65-74 65-74 65-74 65-74 65-74 65-74 65-74 65-74 65-74 65-74\n",
       "[73] 65-74 65-74 65-74 65-74 65-74 75+   75+   75+   75+   75+   75+   75+  \n",
       "[85] 75+   75+   75+   75+  \n",
       "Levels: 25-34 < 35-44 < 45-54 < 55-64 < 65-74 < 75+"
      ]
     },
     "metadata": {},
     "output_type": "display_data"
    }
   ],
   "source": [
    "esoph[,1]"
   ]
  },
  {
   "cell_type": "markdown",
   "metadata": {
    "collapsed": true,
    "nbpresent": {
     "id": "3486b6b5-25b4-4fec-8a2c-4f53a2699826"
    },
    "slideshow": {
     "slide_type": "slide"
    }
   },
   "source": [
    "### <span style=\"color:#1A9FFF\">Basic statistics\n",
    "<!--    + Mean\n",
    "        + Median\n",
    "        + Standard Deviation\n",
    "        + Variance -->"
   ]
  },
  {
   "cell_type": "code",
   "execution_count": 13,
   "metadata": {
    "nbpresent": {
     "id": "a6540f84-9115-4dca-8671-3015cc930431"
    },
    "slideshow": {
     "slide_type": "subslide"
    }
   },
   "outputs": [
    {
     "name": "stdout",
     "output_type": "stream",
     "text": [
      "'data.frame':\t153 obs. of  6 variables:\n",
      " $ Ozone  : int  41 36 12 18 NA 28 23 19 8 NA ...\n",
      " $ Solar.R: int  190 118 149 313 NA NA 299 99 19 194 ...\n",
      " $ Wind   : num  7.4 8 12.6 11.5 14.3 14.9 8.6 13.8 20.1 8.6 ...\n",
      " $ Temp   : int  67 72 74 62 56 66 65 59 61 69 ...\n",
      " $ Month  : int  5 5 5 5 5 5 5 5 5 5 ...\n",
      " $ Day    : int  1 2 3 4 5 6 7 8 9 10 ...\n"
     ]
    }
   ],
   "source": [
    "data(airquality)\n",
    "str(airquality)"
   ]
  },
  {
   "cell_type": "markdown",
   "metadata": {
    "nbpresent": {
     "id": "6d0f0981-23b5-4431-ae5f-425a14a65ed7"
    },
    "slideshow": {
     "slide_type": "subslide"
    }
   },
   "source": [
    "#### Mean"
   ]
  },
  {
   "cell_type": "code",
   "execution_count": 14,
   "metadata": {
    "nbpresent": {
     "id": "0f87b683-c07c-4ee7-b848-4c1a6ec342b8"
    },
    "slideshow": {
     "slide_type": "fragment"
    }
   },
   "outputs": [
    {
     "data": {
      "text/html": [
       "9.95751633986928"
      ],
      "text/latex": [
       "9.95751633986928"
      ],
      "text/markdown": [
       "9.95751633986928"
      ],
      "text/plain": [
       "[1] 9.957516"
      ]
     },
     "metadata": {},
     "output_type": "display_data"
    }
   ],
   "source": [
    "mean(airquality$Wind)"
   ]
  },
  {
   "cell_type": "code",
   "execution_count": 15,
   "metadata": {
    "nbpresent": {
     "id": "73657368-49bc-497b-b323-05c6d2b0f7bc"
    },
    "slideshow": {
     "slide_type": "fragment"
    }
   },
   "outputs": [
    {
     "data": {
      "text/html": [
       "&lt;NA&gt;"
      ],
      "text/latex": [
       "<NA>"
      ],
      "text/markdown": [
       "&lt;NA&gt;"
      ],
      "text/plain": [
       "[1] NA"
      ]
     },
     "metadata": {},
     "output_type": "display_data"
    }
   ],
   "source": [
    "mean(airquality$Solar.R)"
   ]
  },
  {
   "cell_type": "code",
   "execution_count": 16,
   "metadata": {
    "nbpresent": {
     "id": "2ddcd5e9-435a-49df-b055-6fe87a09b021"
    },
    "slideshow": {
     "slide_type": "fragment"
    }
   },
   "outputs": [
    {
     "data": {
      "text/plain": [
       "     Ozone           Solar.R           Wind             Temp      \n",
       " Min.   :  1.00   Min.   :  7.0   Min.   : 1.700   Min.   :56.00  \n",
       " 1st Qu.: 18.00   1st Qu.:115.8   1st Qu.: 7.400   1st Qu.:72.00  \n",
       " Median : 31.50   Median :205.0   Median : 9.700   Median :79.00  \n",
       " Mean   : 42.13   Mean   :185.9   Mean   : 9.958   Mean   :77.88  \n",
       " 3rd Qu.: 63.25   3rd Qu.:258.8   3rd Qu.:11.500   3rd Qu.:85.00  \n",
       " Max.   :168.00   Max.   :334.0   Max.   :20.700   Max.   :97.00  \n",
       " NA's   :37       NA's   :7                                       \n",
       "     Month            Day      \n",
       " Min.   :5.000   Min.   : 1.0  \n",
       " 1st Qu.:6.000   1st Qu.: 8.0  \n",
       " Median :7.000   Median :16.0  \n",
       " Mean   :6.993   Mean   :15.8  \n",
       " 3rd Qu.:8.000   3rd Qu.:23.0  \n",
       " Max.   :9.000   Max.   :31.0  \n",
       "                               "
      ]
     },
     "metadata": {},
     "output_type": "display_data"
    }
   ],
   "source": [
    "summary(airquality)"
   ]
  },
  {
   "cell_type": "code",
   "execution_count": 17,
   "metadata": {
    "nbpresent": {
     "id": "41ba8866-c3de-4320-b8f4-f59f341ab782"
    },
    "slideshow": {
     "slide_type": "fragment"
    }
   },
   "outputs": [
    {
     "data": {
      "text/html": [
       "185.931506849315"
      ],
      "text/latex": [
       "185.931506849315"
      ],
      "text/markdown": [
       "185.931506849315"
      ],
      "text/plain": [
       "[1] 185.9315"
      ]
     },
     "metadata": {},
     "output_type": "display_data"
    }
   ],
   "source": [
    "mean(airquality$Solar.R, na.rm=TRUE)"
   ]
  },
  {
   "cell_type": "markdown",
   "metadata": {
    "nbpresent": {
     "id": "ef51fd20-726e-4ecd-8279-4421c8378ae1"
    },
    "slideshow": {
     "slide_type": "slide"
    }
   },
   "source": [
    "#### Standard Deviation"
   ]
  },
  {
   "cell_type": "code",
   "execution_count": 18,
   "metadata": {
    "nbpresent": {
     "id": "809f7db8-0f97-465b-9f80-698dbc98ee21"
    },
    "slideshow": {
     "slide_type": "fragment"
    }
   },
   "outputs": [
    {
     "data": {
      "text/html": [
       "90.0584222283817"
      ],
      "text/latex": [
       "90.0584222283817"
      ],
      "text/markdown": [
       "90.0584222283817"
      ],
      "text/plain": [
       "[1] 90.05842"
      ]
     },
     "metadata": {},
     "output_type": "display_data"
    }
   ],
   "source": [
    "sd(airquality$Solar.R, na.rm=TRUE)"
   ]
  },
  {
   "cell_type": "markdown",
   "metadata": {
    "nbpresent": {
     "id": "dd4cbcf7-aadb-4b35-9d6c-93064f281619"
    },
    "slideshow": {
     "slide_type": "subslide"
    }
   },
   "source": [
    "#### What exactly is standard deviation??"
   ]
  },
  {
   "cell_type": "markdown",
   "metadata": {
    "nbpresent": {
     "id": "7ad0c49b-0583-4184-ab51-3ca85bbe0f93"
    },
    "slideshow": {
     "slide_type": "fragment"
    }
   },
   "source": [
    "![gaussian](stddev.png)"
   ]
  },
  {
   "cell_type": "markdown",
   "metadata": {
    "nbpresent": {
     "id": "7f2b2076-c4bf-40bd-9cb0-c842d37a2037"
    },
    "slideshow": {
     "slide_type": "subslide"
    }
   },
   "source": [
    "#### Variance"
   ]
  },
  {
   "cell_type": "code",
   "execution_count": 19,
   "metadata": {
    "nbpresent": {
     "id": "e0fd8917-470c-4750-bcc0-f64bb526d18f"
    },
    "slideshow": {
     "slide_type": "fragment"
    }
   },
   "outputs": [
    {
     "data": {
      "text/html": [
       "8110.51941426547"
      ],
      "text/latex": [
       "8110.51941426547"
      ],
      "text/markdown": [
       "8110.51941426547"
      ],
      "text/plain": [
       "[1] 8110.519"
      ]
     },
     "metadata": {},
     "output_type": "display_data"
    }
   ],
   "source": [
    "var(airquality$Solar.R, na.rm=TRUE)"
   ]
  },
  {
   "cell_type": "markdown",
   "metadata": {
    "nbpresent": {
     "id": "4694bd3e-1a49-4edc-ab5e-52560be77694"
    },
    "slideshow": {
     "slide_type": "slide"
    }
   },
   "source": [
    "## <span style=\"color:#1A9FFF\">Getting started\n",
    "\n",
    "More often than not, you often find yourself with a file containing your data. This can be either a txt or csv file or some other format.\n",
    "\n",
    "### <span style=\"color:#1A9FFF\">Reading data from files\n",
    "<!--    + read.csv\n",
    "        + read.table -->\n",
    "\n",
    "* CSV files can be loaded using **read.csv**\n"
   ]
  },
  {
   "cell_type": "code",
   "execution_count": 20,
   "metadata": {
    "collapsed": true,
    "slideshow": {
     "slide_type": "subslide"
    }
   },
   "outputs": [],
   "source": [
    "help(read.csv)"
   ]
  },
  {
   "cell_type": "markdown",
   "metadata": {
    "slideshow": {
     "slide_type": "subslide"
    }
   },
   "source": [
    "* Similarly, csv data can be loaded using **read.table**\n",
    "\n",
    "\n",
    "### Task 4: Identify the functional difference in these two operations"
   ]
  },
  {
   "cell_type": "markdown",
   "metadata": {
    "nbpresent": {
     "id": "e0773e9a-379a-428c-a7ae-a6ad0eb01681"
    },
    "slideshow": {
     "slide_type": "slide"
    }
   },
   "source": [
    "### <span style=\"color:#1A9FFF\">Exploring new packages\n",
    "<!--    + Installing new packages\n",
    "        + Reading documents -->\n",
    "\n",
    "So, Google suggest that your problem could be solved by a package that you have never seen before... What do you do now?\n",
    "\n",
    "#### Check if such package is already installed."
   ]
  },
  {
   "cell_type": "code",
   "execution_count": 52,
   "metadata": {
    "slideshow": {
     "slide_type": "fragment"
    }
   },
   "outputs": [
    {
     "ename": "ERROR",
     "evalue": "Error in library(nnet): there is no package called 'nnet'\n",
     "output_type": "error",
     "traceback": [
      "Error in library(nnet): there is no package called 'nnet'\nTraceback:\n",
      "1. library(nnet)",
      "2. stop(txt, domain = NA)"
     ]
    }
   ],
   "source": [
    "library(nnet)"
   ]
  },
  {
   "cell_type": "markdown",
   "metadata": {
    "nbpresent": {
     "id": "e1b93076-c0da-4bd1-a6e6-43082d16bef8"
    },
    "slideshow": {
     "slide_type": "fragment"
    }
   },
   "source": [
    "#### Install missing packages"
   ]
  },
  {
   "cell_type": "code",
   "execution_count": 22,
   "metadata": {
    "nbpresent": {
     "id": "a91b10b4-64ba-4f06-9824-d10ecb79ca05"
    },
    "slideshow": {
     "slide_type": "fragment"
    }
   },
   "outputs": [
    {
     "name": "stderr",
     "output_type": "stream",
     "text": [
      "Installing package into 'C:/Users/e140025/Documents/R/win-library/3.2'\n",
      "(as 'lib' is unspecified)\n",
      "Warning message:\n",
      "\"package 'nnet' is in use and will not be installed\""
     ]
    }
   ],
   "source": [
    "install.packages(\"nnet\",repos = \"http://cran.us.r-project.org\")\n",
    "library(nnet)"
   ]
  },
  {
   "cell_type": "code",
   "execution_count": 50,
   "metadata": {
    "collapsed": true,
    "slideshow": {
     "slide_type": "skip"
    }
   },
   "outputs": [],
   "source": [
    "detach(\"package:nnet\", unload=TRUE)\n",
    "remove.packages(\"nnet\")"
   ]
  }
 ],
 "metadata": {
  "anaconda-cloud": {},
  "celltoolbar": "Slideshow",
  "kernelspec": {
   "display_name": "Python 3",
   "language": "python",
   "name": "python3"
  },
  "language_info": {
   "codemirror_mode": {
    "name": "ipython",
    "version": 3
   },
   "file_extension": ".py",
   "mimetype": "text/x-python",
   "name": "python",
   "nbconvert_exporter": "python",
   "pygments_lexer": "ipython3",
   "version": "3.6.4"
  },
  "nbpresent": {
   "slides": {
    "0375e9b0-a6f0-4901-9097-6b51d83609d5": {
     "id": "0375e9b0-a6f0-4901-9097-6b51d83609d5",
     "prev": "3cd94118-e5bb-4a4c-97c3-bdc7105c6da7",
     "regions": {
      "2a03436a-2a6c-4af9-9a08-7638f1dec055": {
       "attrs": {
        "height": 0.4,
        "width": 0.8,
        "x": 0.1,
        "y": 0.5
       },
       "content": {
        "cell": "c350c413-e3c4-4ad9-bb64-4e5cc16fb4ec",
        "part": "whole"
       },
       "id": "2a03436a-2a6c-4af9-9a08-7638f1dec055"
      },
      "bdb76bd3-b635-4c5b-a05d-fad61315e341": {
       "attrs": {
        "height": 0.8,
        "width": 0.8,
        "x": 0.1,
        "y": 0.1
       },
       "content": {
        "cell": "a7cdff42-d84c-44d4-bf82-252823f9a843",
        "part": "whole"
       },
       "id": "bdb76bd3-b635-4c5b-a05d-fad61315e341"
      }
     }
    },
    "0746f370-db85-44f1-a302-9eb70523d259": {
     "id": "0746f370-db85-44f1-a302-9eb70523d259",
     "prev": "42a728f4-653d-486c-9b55-41b4b0fea3da",
     "regions": {
      "333cb78c-eb0a-449c-a57d-23cf91536070": {
       "attrs": {
        "height": 0.8,
        "width": 0.8,
        "x": 0.1,
        "y": 0.1
       },
       "content": {
        "cell": "1388e1a3-ed52-43ec-a9c1-dbda008ea2b0",
        "part": "whole"
       },
       "id": "333cb78c-eb0a-449c-a57d-23cf91536070"
      }
     }
    },
    "155a9917-c9f6-4269-9c74-1c0a9dd4fb08": {
     "id": "155a9917-c9f6-4269-9c74-1c0a9dd4fb08",
     "prev": "94c7cb04-4bae-406b-8807-4c1f797a9cdf",
     "regions": {
      "7c13b6e1-3708-4c9a-9ee1-4d1999164b93": {
       "attrs": {
        "height": 0.8,
        "width": 0.8,
        "x": 0.1,
        "y": 0.1
       },
       "content": {
        "cell": "06c2e6fa-599b-4497-9823-400dfd17cde0",
        "part": "whole"
       },
       "id": "7c13b6e1-3708-4c9a-9ee1-4d1999164b93"
      }
     }
    },
    "1e35eefe-c8b3-4e76-b33f-c81872ee05f2": {
     "id": "1e35eefe-c8b3-4e76-b33f-c81872ee05f2",
     "prev": "babc7f5c-4fc5-4198-a403-5c6009cc45d8",
     "regions": {
      "d26e8771-183f-433a-b4a6-43ec6e3e6b6b": {
       "attrs": {
        "height": 0.8,
        "width": 0.8,
        "x": 0.1,
        "y": 0.1
       },
       "content": {
        "cell": "bd2343da-f4c5-44a3-b723-07bd6cb946c0",
        "part": "whole"
       },
       "id": "d26e8771-183f-433a-b4a6-43ec6e3e6b6b"
      }
     }
    },
    "2aa2ea4e-fa99-4035-9f13-1e7670cf1a6d": {
     "id": "2aa2ea4e-fa99-4035-9f13-1e7670cf1a6d",
     "prev": "aeb2b3ca-0a3a-4961-8306-564235ed54f0",
     "regions": {
      "4d30e4fe-e559-4908-8125-584b50ed645b": {
       "attrs": {
        "height": 0.4,
        "width": 0.8,
        "x": 0.1,
        "y": 0.5
       },
       "content": {
        "cell": "1ab59efe-069b-43db-9164-68f0e825e8b8",
        "part": "whole"
       },
       "id": "4d30e4fe-e559-4908-8125-584b50ed645b"
      },
      "b09a8994-c08c-480b-b8b0-1c1fabc11eb4": {
       "attrs": {
        "height": 0.8,
        "width": 0.8,
        "x": 0.1,
        "y": 0.1
       },
       "content": {
        "cell": "accd3591-54fa-4ad8-b7fb-4afd3c68a5b5",
        "part": "whole"
       },
       "id": "b09a8994-c08c-480b-b8b0-1c1fabc11eb4"
      }
     }
    },
    "2b49d3d0-96d7-4f49-8960-744c1e5e27fc": {
     "id": "2b49d3d0-96d7-4f49-8960-744c1e5e27fc",
     "prev": "0375e9b0-a6f0-4901-9097-6b51d83609d5",
     "regions": {
      "0c3dda05-3272-4ea3-a011-e90c8f3236a8": {
       "attrs": {
        "height": 0.8,
        "width": 0.8,
        "x": 0.1,
        "y": 0.1
       },
       "content": {
        "cell": "3fb4a15c-75d9-4ce8-afc1-3f8fcccab0ef",
        "part": "whole"
       },
       "id": "0c3dda05-3272-4ea3-a011-e90c8f3236a8"
      },
      "c04a1b2a-1745-402b-98c9-dd43e2394950": {
       "attrs": {
        "height": 0.4,
        "width": 0.8,
        "x": 0.1,
        "y": 0.5
       },
       "content": {
        "cell": "4578b03b-6389-4c9d-90bb-d3677cd329a1",
        "part": "whole"
       },
       "id": "c04a1b2a-1745-402b-98c9-dd43e2394950"
      }
     }
    },
    "366932ca-ac65-4afb-a2e8-ffa959bed58e": {
     "id": "366932ca-ac65-4afb-a2e8-ffa959bed58e",
     "prev": "5f81c2be-d38c-441c-81cd-d8170de3db44",
     "regions": {
      "24dd289e-d871-4d4a-b762-95df889fbf2e": {
       "attrs": {
        "height": 0.4,
        "width": 0.8,
        "x": 0.1,
        "y": 0.5
       },
       "content": {
        "cell": "176740bc-9841-4a64-837f-eab790273374",
        "part": "whole"
       },
       "id": "24dd289e-d871-4d4a-b762-95df889fbf2e"
      },
      "56209b3f-0943-470f-aadc-8bf88b34149d": {
       "attrs": {
        "height": 0.4,
        "width": 0.8,
        "x": 0.1,
        "y": 0.5
       },
       "content": {
        "cell": "e0773e9a-379a-428c-a7ae-a6ad0eb01681",
        "part": "whole"
       },
       "id": "56209b3f-0943-470f-aadc-8bf88b34149d"
      },
      "8c357d28-feb1-4fb4-ac90-27f0b3217307": {
       "attrs": {
        "height": 0.4,
        "width": 0.8,
        "x": 0.1,
        "y": 0.5
       },
       "content": {
        "cell": "e1b93076-c0da-4bd1-a6e6-43082d16bef8",
        "part": "whole"
       },
       "id": "8c357d28-feb1-4fb4-ac90-27f0b3217307"
      },
      "9097476c-f093-448c-88cc-10cd39baca17": {
       "attrs": {
        "height": 0.4,
        "width": 0.8,
        "x": 0.1,
        "y": 0.5
       },
       "content": {
        "cell": "a91b10b4-64ba-4f06-9824-d10ecb79ca05",
        "part": "whole"
       },
       "id": "9097476c-f093-448c-88cc-10cd39baca17"
      },
      "96ece423-ecfa-4c7b-8544-b21518f43325": {
       "attrs": {
        "height": 0.8,
        "width": 0.8,
        "x": 0.1,
        "y": 0.1
       },
       "content": {
        "cell": "4694bd3e-1a49-4edc-ab5e-52560be77694",
        "part": "whole"
       },
       "id": "96ece423-ecfa-4c7b-8544-b21518f43325"
      },
      "d675c086-4a79-4ff3-b958-ff566f6e87d7": {
       "attrs": {
        "height": 0.4,
        "width": 0.8,
        "x": 0.1,
        "y": 0.5
       },
       "content": {
        "cell": "5baee433-f4cf-49ca-a1b8-197c5acb4eec",
        "part": "whole"
       },
       "id": "d675c086-4a79-4ff3-b958-ff566f6e87d7"
      }
     }
    },
    "3cd94118-e5bb-4a4c-97c3-bdc7105c6da7": {
     "id": "3cd94118-e5bb-4a4c-97c3-bdc7105c6da7",
     "prev": "2aa2ea4e-fa99-4035-9f13-1e7670cf1a6d",
     "regions": {
      "6325cfdc-4824-4910-8c40-2441188ae524": {
       "attrs": {
        "height": 0.8,
        "width": 0.8,
        "x": 0.1,
        "y": 0.1
       },
       "content": {
        "cell": "8724c8eb-980d-40fa-944a-3ca4a51a09c0",
        "part": "whole"
       },
       "id": "6325cfdc-4824-4910-8c40-2441188ae524"
      }
     }
    },
    "42a728f4-653d-486c-9b55-41b4b0fea3da": {
     "id": "42a728f4-653d-486c-9b55-41b4b0fea3da",
     "prev": "7cd006e1-6c64-45eb-91cf-8a4f09566f9d",
     "regions": {
      "fdeb95e5-fcf2-414a-b485-d9ccbb4f097e": {
       "attrs": {
        "height": 0.8,
        "width": 0.8,
        "x": 0.1,
        "y": 0.1
       },
       "content": {
        "cell": "51d7f97c-1819-4659-b2cd-b0e5cbef87ec",
        "part": "whole"
       },
       "id": "fdeb95e5-fcf2-414a-b485-d9ccbb4f097e"
      }
     }
    },
    "543a1074-3244-46bd-8107-52e74ddfccd3": {
     "id": "543a1074-3244-46bd-8107-52e74ddfccd3",
     "prev": "ce63f294-c182-4bfb-99e0-f223c00fce3f",
     "regions": {
      "f201f968-a341-4f67-9e6f-e023c4ed802e": {
       "attrs": {
        "height": 0.8,
        "width": 0.8,
        "x": 0.1,
        "y": 0.1
       },
       "content": {
        "cell": "c9409350-77ad-4137-85bd-01f281f7258d",
        "part": "whole"
       },
       "id": "f201f968-a341-4f67-9e6f-e023c4ed802e"
      }
     }
    },
    "5f81c2be-d38c-441c-81cd-d8170de3db44": {
     "id": "5f81c2be-d38c-441c-81cd-d8170de3db44",
     "prev": "653eff2d-2fd9-4936-b39e-1d863b67b5b0",
     "regions": {
      "07dbd3b6-b692-47ea-ba1d-8f67b735d81b": {
       "attrs": {
        "height": 0.4,
        "width": 0.8,
        "x": 0.1,
        "y": 0.5
       },
       "content": {
        "cell": "dd4cbcf7-aadb-4b35-9d6c-93064f281619",
        "part": "whole"
       },
       "id": "07dbd3b6-b692-47ea-ba1d-8f67b735d81b"
      },
      "282ecda1-0bdb-42ee-a51a-ac6fa78ddb5b": {
       "attrs": {
        "height": 0.4,
        "width": 0.8,
        "x": 0.1,
        "y": 0.5
       },
       "content": {
        "cell": "0b96b001-92d3-4cb4-8d5d-3b3b41d7d677",
        "part": "whole"
       },
       "id": "282ecda1-0bdb-42ee-a51a-ac6fa78ddb5b"
      },
      "2d074797-eb44-4360-8d28-9cd7b46467bb": {
       "attrs": {
        "height": 0.4,
        "width": 0.8,
        "x": 0.1,
        "y": 0.5
       },
       "content": {
        "cell": "73657368-49bc-497b-b323-05c6d2b0f7bc",
        "part": "whole"
       },
       "id": "2d074797-eb44-4360-8d28-9cd7b46467bb"
      },
      "2fc5e68b-321a-435c-b3bb-869bca64a684": {
       "attrs": {
        "height": 0.8,
        "width": 0.8,
        "x": 0.1,
        "y": 0.1
       },
       "content": {
        "cell": "6b6380a5-def5-4244-97b6-cc415d33efc8",
        "part": "whole"
       },
       "id": "2fc5e68b-321a-435c-b3bb-869bca64a684"
      },
      "33fa0ec0-7ae8-495c-b614-f4a2d3d59638": {
       "attrs": {
        "height": 0.4,
        "width": 0.8,
        "x": 0.1,
        "y": 0.5
       },
       "content": {
        "cell": "e0fd8917-470c-4750-bcc0-f64bb526d18f",
        "part": "whole"
       },
       "id": "33fa0ec0-7ae8-495c-b614-f4a2d3d59638"
      },
      "37ef190e-53d9-40f7-b504-de4c3f9f9057": {
       "attrs": {
        "height": 0.4,
        "width": 0.8,
        "x": 0.1,
        "y": 0.5
       },
       "content": {
        "cell": "0f87b683-c07c-4ee7-b848-4c1a6ec342b8",
        "part": "whole"
       },
       "id": "37ef190e-53d9-40f7-b504-de4c3f9f9057"
      },
      "567cf7a6-e087-4b5c-9a50-fcfc47669c2a": {
       "attrs": {
        "height": 0.4,
        "width": 0.8,
        "x": 0.1,
        "y": 0.5
       },
       "content": {
        "cell": "41ba8866-c3de-4320-b8f4-f59f341ab782",
        "part": "whole"
       },
       "id": "567cf7a6-e087-4b5c-9a50-fcfc47669c2a"
      },
      "60dbba97-b6dc-4cd5-ae59-e69a9c0f463b": {
       "attrs": {
        "height": 0.4,
        "width": 0.8,
        "x": 0.1,
        "y": 0.5
       },
       "content": {
        "cell": "f31e16c7-db51-46e3-a39b-0d215a7298fa",
        "part": "whole"
       },
       "id": "60dbba97-b6dc-4cd5-ae59-e69a9c0f463b"
      },
      "7eb2349e-fa42-4709-8675-77dae664f4db": {
       "attrs": {
        "height": 0.4,
        "width": 0.8,
        "x": 0.1,
        "y": 0.5
       },
       "content": {
        "cell": "3486b6b5-25b4-4fec-8a2c-4f53a2699826",
        "part": "whole"
       },
       "id": "7eb2349e-fa42-4709-8675-77dae664f4db"
      },
      "83ea4dd6-c28d-4caf-8e24-7f370d0c598a": {
       "attrs": {
        "height": 0.4,
        "width": 0.8,
        "x": 0.1,
        "y": 0.5
       },
       "content": {
        "cell": "ef51fd20-726e-4ecd-8279-4421c8378ae1",
        "part": "whole"
       },
       "id": "83ea4dd6-c28d-4caf-8e24-7f370d0c598a"
      },
      "88d97f10-c44a-4e7c-8781-df023c25e74d": {
       "attrs": {
        "height": 0.4,
        "width": 0.8,
        "x": 0.1,
        "y": 0.5
       },
       "content": {
        "cell": "809f7db8-0f97-465b-9f80-698dbc98ee21",
        "part": "whole"
       },
       "id": "88d97f10-c44a-4e7c-8781-df023c25e74d"
      },
      "9fd7fc82-2b23-4c67-b36f-590f6b4a5f6a": {
       "attrs": {
        "height": 0.4,
        "width": 0.8,
        "x": 0.1,
        "y": 0.5
       },
       "content": {
        "cell": "7f2b2076-c4bf-40bd-9cb0-c842d37a2037",
        "part": "whole"
       },
       "id": "9fd7fc82-2b23-4c67-b36f-590f6b4a5f6a"
      },
      "d93c1280-611c-4dd7-883a-cc60cc14aa2c": {
       "attrs": {
        "height": 0.4,
        "width": 0.8,
        "x": 0.1,
        "y": 0.5
       },
       "content": {
        "cell": "7ad0c49b-0583-4184-ab51-3ca85bbe0f93",
        "part": "whole"
       },
       "id": "d93c1280-611c-4dd7-883a-cc60cc14aa2c"
      },
      "e21838ce-ed21-46fd-b949-e7ca9ff22700": {
       "attrs": {
        "height": 0.4,
        "width": 0.8,
        "x": 0.1,
        "y": 0.5
       },
       "content": {
        "cell": "6d0f0981-23b5-4431-ae5f-425a14a65ed7",
        "part": "whole"
       },
       "id": "e21838ce-ed21-46fd-b949-e7ca9ff22700"
      },
      "f5cfb435-e9c0-4dc8-bf62-0e6a58cd119f": {
       "attrs": {
        "height": 0.4,
        "width": 0.8,
        "x": 0.1,
        "y": 0.5
       },
       "content": {
        "cell": "a6540f84-9115-4dca-8671-3015cc930431",
        "part": "whole"
       },
       "id": "f5cfb435-e9c0-4dc8-bf62-0e6a58cd119f"
      },
      "fc29d933-c6a0-4265-a591-4e4bb1147fbd": {
       "attrs": {
        "height": 0.4,
        "width": 0.8,
        "x": 0.1,
        "y": 0.5
       },
       "content": {
        "cell": "2ddcd5e9-435a-49df-b055-6fe87a09b021",
        "part": "whole"
       },
       "id": "fc29d933-c6a0-4265-a591-4e4bb1147fbd"
      }
     }
    },
    "653eff2d-2fd9-4936-b39e-1d863b67b5b0": {
     "id": "653eff2d-2fd9-4936-b39e-1d863b67b5b0",
     "prev": "1e35eefe-c8b3-4e76-b33f-c81872ee05f2",
     "regions": {
      "db5689e6-1bba-4bf9-ad22-561ee2e2b9ce": {
       "attrs": {
        "height": 0.8,
        "width": 0.8,
        "x": 0.1,
        "y": 0.1
       },
       "content": {
        "cell": "e54e4ef3-285a-4194-a6ce-bcf2efb8d808",
        "part": "whole"
       },
       "id": "db5689e6-1bba-4bf9-ad22-561ee2e2b9ce"
      },
      "ff920a18-16f7-48c5-beca-6724962ec214": {
       "attrs": {
        "height": 0.4,
        "width": 0.8,
        "x": 0.1,
        "y": 0.5
       },
       "content": {
        "cell": "47f5274b-9138-4752-b7c1-fbe81850004a",
        "part": "whole"
       },
       "id": "ff920a18-16f7-48c5-beca-6724962ec214"
      }
     }
    },
    "7cd006e1-6c64-45eb-91cf-8a4f09566f9d": {
     "id": "7cd006e1-6c64-45eb-91cf-8a4f09566f9d",
     "prev": "543a1074-3244-46bd-8107-52e74ddfccd3",
     "regions": {
      "7d1158b6-3787-4e57-99b2-4b112f36c34f": {
       "attrs": {
        "height": 0.8,
        "width": 0.8,
        "x": 0.1,
        "y": 0.1
       },
       "content": {
        "cell": "8e41ccb3-046d-44fb-92a4-338cdb16b4f2",
        "part": "whole"
       },
       "id": "7d1158b6-3787-4e57-99b2-4b112f36c34f"
      }
     }
    },
    "94c7cb04-4bae-406b-8807-4c1f797a9cdf": {
     "id": "94c7cb04-4bae-406b-8807-4c1f797a9cdf",
     "prev": null,
     "regions": {
      "53529ecb-f925-490f-85af-7ac1e7f72c63": {
       "attrs": {
        "height": 0.8,
        "width": 0.8,
        "x": 0.1,
        "y": 0.1
       },
       "content": {
        "cell": "d49d32a8-d6a8-45df-8ea3-2b5468b5cef1",
        "part": "whole"
       },
       "id": "53529ecb-f925-490f-85af-7ac1e7f72c63"
      }
     }
    },
    "aeb2b3ca-0a3a-4961-8306-564235ed54f0": {
     "id": "aeb2b3ca-0a3a-4961-8306-564235ed54f0",
     "prev": "c5b14fe5-4c65-4d15-8cf9-78396535e882",
     "regions": {
      "12a539ae-8e62-4526-bb6e-4c98687948b3": {
       "attrs": {
        "height": 0.8,
        "width": 0.8,
        "x": 0.1,
        "y": 0.1
       },
       "content": {
        "cell": "93e016a6-f63f-4597-95a4-fabf5671e4be",
        "part": "whole"
       },
       "id": "12a539ae-8e62-4526-bb6e-4c98687948b3"
      }
     }
    },
    "babc7f5c-4fc5-4198-a403-5c6009cc45d8": {
     "id": "babc7f5c-4fc5-4198-a403-5c6009cc45d8",
     "prev": "ce60dde9-8f2d-4e68-b7a7-96bbcbfeea5c",
     "regions": {
      "3758ae91-333c-4bbb-a199-3b6bd2bc6b73": {
       "attrs": {
        "height": 0.8,
        "width": 0.8,
        "x": 0.1,
        "y": 0.1
       },
       "content": {
        "cell": "12add9c0-1fed-4a2e-9baa-a9048d7d1437",
        "part": "whole"
       },
       "id": "3758ae91-333c-4bbb-a199-3b6bd2bc6b73"
      },
      "3b2d8297-d366-4cb8-8ffd-c7ae8b1a6826": {
       "attrs": {
        "height": 0.4,
        "width": 0.8,
        "x": 0.1,
        "y": 0.5
       },
       "content": {
        "cell": "d91e2dd5-10ae-42dd-981d-92a9ad4b82a1",
        "part": "whole"
       },
       "id": "3b2d8297-d366-4cb8-8ffd-c7ae8b1a6826"
      },
      "ad5a4264-07a0-47aa-b178-bfd636f4571c": {
       "attrs": {
        "height": 0.4,
        "width": 0.8,
        "x": 0.1,
        "y": 0.5
       },
       "content": {
        "cell": "8fe45a37-af5d-4818-bbef-2faf59c6f662",
        "part": "whole"
       },
       "id": "ad5a4264-07a0-47aa-b178-bfd636f4571c"
      },
      "f9232d96-ad2c-4bc9-b8eb-ffd8f0c22434": {
       "attrs": {
        "height": 0.4,
        "width": 0.8,
        "x": 0.1,
        "y": 0.5
       },
       "content": {
        "cell": "8da60823-c7b3-4b33-8406-34bbe3a13ec5",
        "part": "whole"
       },
       "id": "f9232d96-ad2c-4bc9-b8eb-ffd8f0c22434"
      }
     }
    },
    "c5b14fe5-4c65-4d15-8cf9-78396535e882": {
     "id": "c5b14fe5-4c65-4d15-8cf9-78396535e882",
     "prev": "155a9917-c9f6-4269-9c74-1c0a9dd4fb08",
     "regions": {
      "30897664-ed88-443c-88ba-b8931475218e": {
       "attrs": {
        "height": 0.4,
        "width": 0.8,
        "x": 0.1,
        "y": 0.5
       },
       "content": {
        "cell": "17ec6749-703c-4dbb-8ff2-f6b464c5abaf",
        "part": "whole"
       },
       "id": "30897664-ed88-443c-88ba-b8931475218e"
      },
      "ae492902-cc2d-4611-99ba-aeef6bcc16bc": {
       "attrs": {
        "height": 0.4,
        "width": 0.8,
        "x": 0.1,
        "y": 0.5
       },
       "content": {
        "cell": "416a9219-6ea3-4269-90d9-7dad5d6c3a97",
        "part": "whole"
       },
       "id": "ae492902-cc2d-4611-99ba-aeef6bcc16bc"
      },
      "e8daebcf-10e5-4fcf-96dd-661a6f76e2c1": {
       "attrs": {
        "height": 0.8,
        "width": 0.8,
        "x": 0.1,
        "y": 0.1
       },
       "content": {
        "cell": "13874f3e-643e-40c9-ab82-d44c178b01de",
        "part": "whole"
       },
       "id": "e8daebcf-10e5-4fcf-96dd-661a6f76e2c1"
      }
     }
    },
    "ce60dde9-8f2d-4e68-b7a7-96bbcbfeea5c": {
     "id": "ce60dde9-8f2d-4e68-b7a7-96bbcbfeea5c",
     "prev": "0746f370-db85-44f1-a302-9eb70523d259",
     "regions": {
      "f27e65c1-d399-4ff6-98cd-426170d8d585": {
       "attrs": {
        "height": 0.4,
        "width": 0.8,
        "x": 0.1,
        "y": 0.5
       },
       "content": {
        "cell": "d697aac4-6ea8-4d70-8332-d101ccd95764",
        "part": "whole"
       },
       "id": "f27e65c1-d399-4ff6-98cd-426170d8d585"
      },
      "f857a883-ebe8-4f11-957d-5b9cf3a04412": {
       "attrs": {
        "height": 0.4,
        "width": 0.8,
        "x": 0.1,
        "y": 0.5
       },
       "content": {
        "cell": "293892f4-f69e-4574-86c4-120e1b954e2c",
        "part": "whole"
       },
       "id": "f857a883-ebe8-4f11-957d-5b9cf3a04412"
      },
      "fe7a8383-f283-4ddc-9c95-666b2c4fb69c": {
       "attrs": {
        "height": 0.8,
        "width": 0.8,
        "x": 0.1,
        "y": 0.1
       },
       "content": {
        "cell": "e172282e-a6dc-4724-b07e-9aa3561697f7",
        "part": "whole"
       },
       "id": "fe7a8383-f283-4ddc-9c95-666b2c4fb69c"
      }
     }
    },
    "ce63f294-c182-4bfb-99e0-f223c00fce3f": {
     "id": "ce63f294-c182-4bfb-99e0-f223c00fce3f",
     "prev": "2b49d3d0-96d7-4f49-8960-744c1e5e27fc",
     "regions": {
      "538b08db-41fb-48a5-b50a-7bf045681f7d": {
       "attrs": {
        "height": 0.8,
        "width": 0.8,
        "x": 0.1,
        "y": 0.1
       },
       "content": {
        "cell": "37a950bc-371d-4577-a29b-c22a02dc0f1d",
        "part": "whole"
       },
       "id": "538b08db-41fb-48a5-b50a-7bf045681f7d"
      }
     }
    }
   },
   "themes": {}
  }
 },
 "nbformat": 4,
 "nbformat_minor": 1
}
